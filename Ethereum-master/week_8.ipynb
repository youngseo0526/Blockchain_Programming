{
 "cells": [
  {
   "cell_type": "markdown",
   "metadata": {},
   "source": [
    "## 1. Hello dApp과 웹페이지"
   ]
  },
  {
   "cell_type": "code",
   "execution_count": 29,
   "metadata": {},
   "outputs": [
    {
     "name": "stdout",
     "output_type": "stream",
     "text": [
      "Writing src/Hello2.sol\n"
     ]
    }
   ],
   "source": [
    "%%writefile src/Hello2.sol\n",
    "pragma solidity 0.4.25;\n",
    "\n",
    "contract Hello{\n",
    "    function sayHello() pure public returns(string memory){\n",
    "        return \"Hello\";\n",
    "    }\n",
    "}"
   ]
  },
  {
   "cell_type": "code",
   "execution_count": 30,
   "metadata": {},
   "outputs": [
    {
     "name": "stdout",
     "output_type": "stream",
     "text": [
      "\n",
      "======= src/Hello2.sol:Hello =======\n",
      "Gas estimation:\n",
      "construction:\n",
      "   111 + 63800 = 63911\n",
      "external:\n",
      "   sayHello():\tinfinite\n",
      "Binary: \n",
      "608060405234801561001057600080fd5b5061013f806100206000396000f300608060405260043610610041576000357c0100000000000000000000000000000000000000000000000000000000900463ffffffff168063ef5fb05b14610046575b600080fd5b34801561005257600080fd5b5061005b6100d6565b6040518080602001828103825283818151815260200191508051906020019080838360005b8381101561009b578082015181840152602081019050610080565b50505050905090810190601f1680156100c85780820380516001836020036101000a031916815260200191505b509250505060405180910390f35b60606040805190810160405280600581526020017f48656c6c6f0000000000000000000000000000000000000000000000000000008152509050905600a165627a7a723058205aa3306b19fd6d7a7ac20179f235175f081b5e934c198f5daa206b88290ba23c0029\n",
      "Contract JSON ABI \n",
      "[{\"constant\":true,\"inputs\":[],\"name\":\"sayHello\",\"outputs\":[{\"name\":\"\",\"type\":\"string\"}],\"payable\":false,\"stateMutability\":\"pure\",\"type\":\"function\"}]\n"
     ]
    }
   ],
   "source": [
    "!solc --abi --bin --gas src/Hello2.sol"
   ]
  },
  {
   "cell_type": "code",
   "execution_count": 31,
   "metadata": {},
   "outputs": [
    {
     "name": "stdout",
     "output_type": "stream",
     "text": [
      "[\n",
      "  '0xc620CC0746fe29da5798D902c0FD0c1331b32282',\n",
      "  '0xFb45562F3e090e7A19aEcF0F579fa4525384deDA',\n",
      "  '0x648972774A9e37A2d04537A15d90d93115BEE3D8',\n",
      "  '0x90350F7292D97E4632189acF232f7D76B3cEcA8D',\n",
      "  '0xC4c8B0c943672cBE69E0F52973949Fbe08D6B6FC',\n",
      "  '0xF12B21DB180De068Fe68681FA9425E09f2b18bD1',\n",
      "  '0xC3BD9AB1b9DC0A3Bd8C11E4C9264bE4ab5dC1373',\n",
      "  '0xcf9706afb9120EECAB69e18eAdd2830c17BCd952',\n",
      "  '0xc49ce7A90D6e6ABbAAa84Bc52bbC0250Ac8e8A71',\n",
      "  '0xf245C230E4aDFc6bdD23024b95b4063e181Da8C7'\n",
      "]\n"
     ]
    }
   ],
   "source": [
    "!node src/getMyAddr.js"
   ]
  },
  {
   "cell_type": "code",
   "execution_count": 42,
   "metadata": {},
   "outputs": [
    {
     "name": "stdout",
     "output_type": "stream",
     "text": [
      "Overwriting src/HelloDeploy.js\n"
     ]
    }
   ],
   "source": [
    "%%writefile src/HelloDeploy.js\n",
    "var Web3=require('web3');\n",
    "var web3 = new Web3(new Web3.providers.HttpProvider(\"http://localhost:8345\"));\n",
    "var shelloContract = new web3.eth.Contract([{\"constant\":true,\"inputs\":[],\"name\":\"sayHello\",\"outputs\":[{\"name\":\"\",\"type\":\"string\"}],\"payable\":false,\"stateMutability\":\"pure\",\"type\":\"function\"}]);\n",
    "shelloContract\n",
    "    .deploy({\n",
    "            data: '0x608060405234801561001057600080fd5b5061013f806100206000396000f300608060405260043610610041576000357c0100000000000000000000000000000000000000000000000000000000900463ffffffff168063ef5fb05b14610046575b600080fd5b34801561005257600080fd5b5061005b6100d6565b6040518080602001828103825283818151815260200191508051906020019080838360005b8381101561009b578082015181840152602081019050610080565b50505050905090810190601f1680156100c85780820380516001836020036101000a031916815260200191505b509250505060405180910390f35b60606040805190810160405280600581526020017f48656c6c6f0000000000000000000000000000000000000000000000000000008152509050905600a165627a7a723058205aa3306b19fd6d7a7ac20179f235175f081b5e934c198f5daa206b88290ba23c0029', \n",
    "    })\n",
    "    .send({\n",
    "     from: \"0xc620CC0746fe29da5798D902c0FD0c1331b32282\",\n",
    "     gas: '4700000'\n",
    "    }, function (error, transactionHash){ \n",
    "            console.log(error, transactionHash); \n",
    "    })\n",
    "    .then(function(newContractInstance){\n",
    "        console.log(newContractInstance.options.address)\n",
    "    });"
   ]
  },
  {
   "cell_type": "code",
   "execution_count": 43,
   "metadata": {
    "scrolled": true
   },
   "outputs": [
    {
     "name": "stdout",
     "output_type": "stream",
     "text": [
      "null 0x146538e1d37884e5a39b66a91556a3dca31e01416429932907d4a7cfcb2acc93\n",
      "0xBF3d0e6D73484fE90eF545782923a434349D6669\n"
     ]
    }
   ],
   "source": [
    "!node src/HelloDeploy.js"
   ]
  },
  {
   "cell_type": "code",
   "execution_count": 44,
   "metadata": {},
   "outputs": [
    {
     "name": "stdout",
     "output_type": "stream",
     "text": [
      "Overwriting src/HelloUse.js\n"
     ]
    }
   ],
   "source": [
    "%%writefile src/HelloUse.js\n",
    "var Web3=require('web3');\n",
    "var web3 = new Web3(new Web3.providers.HttpProvider(\"http://localhost:8345\"));\n",
    "var shelloContract = new web3.eth.Contract([{\"constant\":true,\"inputs\":[],\"name\":\"sayHello\",\"outputs\":[{\"name\":\"\",\"type\":\"string\"}],\"payable\":false,\"stateMutability\":\"pure\",\"type\":\"function\"}],\n",
    "                                      \"0xBF3d0e6D73484fE90eF545782923a434349D6669\");\n",
    "shelloContract.methods.sayHello().call().then(function(str) {console.log(str);});"
   ]
  },
  {
   "cell_type": "code",
   "execution_count": 45,
   "metadata": {},
   "outputs": [
    {
     "name": "stdout",
     "output_type": "stream",
     "text": [
      "Hello\n"
     ]
    }
   ],
   "source": [
    "!node src/HelloUse.js"
   ]
  },
  {
   "cell_type": "code",
   "execution_count": 62,
   "metadata": {},
   "outputs": [
    {
     "name": "stdout",
     "output_type": "stream",
     "text": [
      "Overwriting scripts/simpleCoinbase.html\n"
     ]
    }
   ],
   "source": [
    "%%writefile scripts/simpleCoinbase.html\n",
    "<!doctype>\n",
    "<html>\n",
    "<head>\n",
    "<script src=\"https://cdn.jsdelivr.net/npm/web3@1.2.7/dist/web3.min.js\"></script>\n",
    "<script type=\"text/javascript\">\n",
    "    //var Web3 = require('web3');  //can be removed\n",
    "    var web3 = new Web3(new Web3.providers.HttpProvider(\"http://localhost:8345\"));\n",
    "\n",
    "    function displayCoinbase() {\n",
    "        document.getElementById('web3ver').innerText = 'web3 version 1.2.7';\n",
    "        web3.eth.getCoinbase().then(res=>\n",
    "                                   document.getElementById('web3coinbase').innerText='coinbase '+res);\n",
    "    }\n",
    "</script>\n",
    "</head>\n",
    "<body>\n",
    "    <h1>Hello</h1>\n",
    "    <button type=\"button\" onClick=\"displayCoinbase();\">Display Coinbase</button>\n",
    "    <div></div>\n",
    "    <div id=\"web3ver\"></div>\n",
    "    <div id=\"web3coinbase\"></div>\n",
    "</body>\n",
    "</html>"
   ]
  },
  {
   "cell_type": "code",
   "execution_count": 64,
   "metadata": {},
   "outputs": [
    {
     "name": "stdout",
     "output_type": "stream",
     "text": [
      "Overwriting scripts/hello.html\n"
     ]
    }
   ],
   "source": [
    "%%writefile scripts/hello.html\n",
    "<!doctype>\n",
    "<html>\n",
    "<head>\n",
    "<script src=\"https://cdn.jsdelivr.net/npm/web3@1.2.7/dist/web3.min.js\"></script>\n",
    "<script type=\"text/javascript\">\n",
    "    var web3 = new Web3(new Web3.providers.HttpProvider(\"http://localhost:8345\"));\n",
    "\n",
    "    function displayHello() {\n",
    "        \n",
    "        var shelloContract = new web3.eth.Contract([{\"constant\":true,\"inputs\":[],\"name\":\"sayHello\",\"outputs\":[{\"name\":\"\",\"type\":\"string\"}],\n",
    "                                                     \"payable\":false,\"stateMutability\":\"pure\",\"type\":\"function\"}],\n",
    "                                      \"0xBF3d0e6D73484fE90eF545782923a434349D6669\");\n",
    "        document.getElementById('web3ver').innerText = 'web3 version 1.2.7';\n",
    "        shelloContract.methods.sayHello().call().then(res=>\n",
    "                                                     document.getElementById('sayhello').innerText=\"The message from blockchain: \"+res);\n",
    "        web3.eth.getCoinbase().then(res=>\n",
    "                                   document.getElementById('web3coinbase').innerText='coinbase '+res);\n",
    "      }\n",
    "</script>\n",
    "</head>\n",
    "<body>\n",
    "    <h1>Hello</h1>\n",
    "    <button type=\"button\" onClick=\"displayHello();\">Display Hello</button>\n",
    "    <div></div>\n",
    "    <div id=\"sayhello\"></div>\n",
    "    <div id=\"web3ver\"></div>\n",
    "    <div id=\"web3coinbase\"></div>\n",
    "</body>\n",
    "</html>"
   ]
  },
  {
   "cell_type": "markdown",
   "metadata": {},
   "source": [
    "http://localhost:8045/scripts/에 접속하자\n",
    "\n",
    "## 2. greeter"
   ]
  },
  {
   "cell_type": "code",
   "execution_count": 65,
   "metadata": {},
   "outputs": [
    {
     "name": "stdout",
     "output_type": "stream",
     "text": [
      "Writing src/greeter.sol\n"
     ]
    }
   ],
   "source": [
    "%%writefile src/greeter.sol\n",
    "pragma solidity 0.4.25;\n",
    "\n",
    "contract Greeter{\n",
    "    string greeting;\n",
    "    constructor() public {\n",
    "        greeting='Hello';\n",
    "    }\n",
    "    \n",
    "    function setGreeting(string memory _greeting) public{\n",
    "        greeting=_greeting;\n",
    "    }\n",
    "    function greet() view public returns (string memory){\n",
    "        return greeting;\n",
    "    }\n",
    "}"
   ]
  },
  {
   "cell_type": "code",
   "execution_count": 66,
   "metadata": {},
   "outputs": [
    {
     "name": "stdout",
     "output_type": "stream",
     "text": [
      "\n",
      "======= src/greeter.sol:Greeter =======\n",
      "Binary: \n",
      "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\n"
     ]
    }
   ],
   "source": [
    "##REMIX or Solc로 컴파일\n",
    "#Solc로 컴파일\n",
    "!solc --bin src/greeter.sol"
   ]
  },
  {
   "cell_type": "markdown",
   "metadata": {},
   "source": [
    "16진수가 무지길다."
   ]
  },
  {
   "cell_type": "code",
   "execution_count": 67,
   "metadata": {},
   "outputs": [
    {
     "name": "stdout",
     "output_type": "stream",
     "text": [
      "\n",
      "======= src/greeter.sol:Greeter =======\n",
      "Gas estimation:\n",
      "construction:\n",
      "   infinite + 145400 = infinite\n",
      "external:\n",
      "   greet():\tinfinite\n",
      "   setGreeting(string):\tinfinite\n"
     ]
    }
   ],
   "source": [
    "!solc --gas src/greeter.sol"
   ]
  },
  {
   "cell_type": "markdown",
   "metadata": {},
   "source": [
    "무한이 나왔다. 이유: string은 배열(가변 문자열)이고, 그 크기를 알 수 없기 때문\n",
    "bytes32로 변경해보자(글자수 제한?)"
   ]
  },
  {
   "cell_type": "code",
   "execution_count": 73,
   "metadata": {},
   "outputs": [
    {
     "name": "stdout",
     "output_type": "stream",
     "text": [
      "Overwriting src/greeterBytes32.sol\n"
     ]
    }
   ],
   "source": [
    "%%writefile src/greeterBytes32.sol\n",
    "pragma solidity 0.4.25;\n",
    "\n",
    "contract Greeter{\n",
    "    bytes32 greeting;\n",
    "    constructor() public {\n",
    "        greeting='Hello';\n",
    "    }\n",
    "    \n",
    "    function setGreeting(bytes32 _greeting) public{\n",
    "        greeting=_greeting;\n",
    "    }\n",
    "    function greet() view public returns (bytes32){\n",
    "        return greeting;\n",
    "    }\n",
    "}"
   ]
  },
  {
   "cell_type": "code",
   "execution_count": 74,
   "metadata": {},
   "outputs": [
    {
     "name": "stdout",
     "output_type": "stream",
     "text": [
      "\n",
      "======= src/greeterBytes32.sol:Greeter =======\n",
      "Binary: \n",
      "608060405234801561001057600080fd5b507f48656c6c6f0000000000000000000000000000000000000000000000000000006000816000191690555060ef8061004a6000396000f3006080604052600436106049576000357c0100000000000000000000000000000000000000000000000000000000900463ffffffff16806350513b4f14604e578063cfae321714607c575b600080fd5b348015605957600080fd5b50607a600480360381019080803560001916906020019092919050505060ac565b005b348015608757600080fd5b50608e60ba565b60405180826000191660001916815260200191505060405180910390f35b806000816000191690555050565b600080549050905600a165627a7a723058207d998186dc231ea3502ae3fdada7186f39116dc7230397a8612b4f1908b495d00029\n"
     ]
    }
   ],
   "source": [
    "#Solc로 컴파일\n",
    "!solc --bin src/greeterBytes32.sol"
   ]
  },
  {
   "cell_type": "code",
   "execution_count": 75,
   "metadata": {},
   "outputs": [
    {
     "name": "stdout",
     "output_type": "stream",
     "text": [
      "\n",
      "======= src/greeterBytes32.sol:Greeter =======\n",
      "Gas estimation:\n",
      "construction:\n",
      "   20122 + 47800 = 67922\n",
      "external:\n",
      "   greet():\t442\n",
      "   setGreeting(bytes32):\t20223\n"
     ]
    }
   ],
   "source": [
    "!solc --gas src/greeterBytes32.sol"
   ]
  },
  {
   "cell_type": "markdown",
   "metadata": {},
   "source": [
    "gas값이 출력되었다.(정해진 값이 출력)\n",
    "블록체인에서 데이터값을 사용할때는 낭비하지 않게 주의해야한다."
   ]
  },
  {
   "cell_type": "markdown",
   "metadata": {},
   "source": [
    "#### 컨트랙 배포\n",
    "web3 버전 배포"
   ]
  },
  {
   "cell_type": "code",
   "execution_count": 83,
   "metadata": {},
   "outputs": [
    {
     "name": "stdout",
     "output_type": "stream",
     "text": [
      "Overwriting src/greeterDeploy.js\n"
     ]
    }
   ],
   "source": [
    "%%writefile src/greeterDeploy.js\n",
    "var Web3=require('web3');\n",
    "var web3;\n",
    "if (typeof web3 !== 'undefined') {\n",
    "    web3 = new Web3(web3.currentProvider);\n",
    "} else {\n",
    "    web3 = new Web3(new Web3.providers.HttpProvider(\"http://localhost:8345\"));\n",
    "}\n",
    "var _abiArray=[{\"constant\":false,\"inputs\":[{\"name\":\"_greeting\",\"type\":\"string\"}],\"name\":\"setGreeting\",\"outputs\":[],\"payable\":false,\"stateMutability\":\"nonpayable\",\"type\":\"function\"},{\"constant\":true,\"inputs\":[],\"name\":\"greet\",\"outputs\":[{\"name\":\"\",\"type\":\"string\"}],\"payable\":false,\"stateMutability\":\"view\",\"type\":\"function\"},{\"inputs\":[],\"payable\":false,\"stateMutability\":\"nonpayable\",\"type\":\"constructor\"}];\n",
    "var _bin=\"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\";\n",
    "var _contract = new web3.eth.Contract(_abiArray);\n",
    "//unlock the account with a password provided\n",
    "//web3.personal.unlockAccount(web3.eth.accounts[0],'password');\n",
    "_contract\n",
    "    .deploy({data:\"0x\"+_bin})\n",
    "    .send({from: \"0xc620CC0746fe29da5798D902c0FD0c1331b32282\", gas: 364124, gasPrice: '1000000000'})\n",
    "    .then(function(newContractInstance){\n",
    "        console.log(newContractInstance.options.address) // instance with the new contract address\n",
    "    });"
   ]
  },
  {
   "cell_type": "markdown",
   "metadata": {},
   "source": [
    "var _bin: string에서 나온거  \n",
    "from: 에는 가나슈 첫 번째 주소"
   ]
  },
  {
   "cell_type": "code",
   "execution_count": 251,
   "metadata": {},
   "outputs": [
    {
     "name": "stdout",
     "output_type": "stream",
     "text": [
      "0x3bF9B1728127980295C24CFbbF2917eDc7A4C115\n"
     ]
    }
   ],
   "source": [
    "!node src/greeterDeploy.js"
   ]
  },
  {
   "cell_type": "markdown",
   "metadata": {},
   "source": [
    "#### 사용\n",
    "위에서 얻은 주소를 사용한다"
   ]
  },
  {
   "cell_type": "code",
   "execution_count": 252,
   "metadata": {},
   "outputs": [
    {
     "name": "stdout",
     "output_type": "stream",
     "text": [
      "Overwriting src/greeterUse.js\n"
     ]
    }
   ],
   "source": [
    "%%writefile src/greeterUse.js\n",
    "var Web3=require('web3');\n",
    "var web3 = new Web3(new Web3.providers.HttpProvider(\"http://localhost:8345\"));\n",
    "var _abiArray=[{\"constant\":false,\"inputs\":[{\"name\":\"_greeting\",\"type\":\"string\"}],\"name\":\"setGreeting\",\"outputs\":[],\"payable\":false,\"stateMutability\":\"nonpayable\",\"type\":\"function\"},{\"constant\":true,\"inputs\":[],\"name\":\"greet\",\"outputs\":[{\"name\":\"\",\"type\":\"string\"}],\"payable\":false,\"stateMutability\":\"view\",\"type\":\"function\"},{\"inputs\":[],\"payable\":false,\"stateMutability\":\"nonpayable\",\"type\":\"constructor\"}];\n",
    "var greeter = new web3.eth.Contract(_abiArray,\"0x3bF9B1728127980295C24CFbbF2917eDc7A4C115\");\n",
    "greeter.methods.greet().call().then(function(value) {console.log(value);});\n",
    "greeter.methods.setGreeting(\"Hello World\").send({from:\"0xc620CC0746fe29da5798D902c0FD0c1331b32282\",gas:100000});\n",
    "greeter.methods.greet().call().then(function(value) {console.log(value);});"
   ]
  },
  {
   "cell_type": "markdown",
   "metadata": {},
   "source": [
    "_abiArray, 다음에는 위에서 얻은 주소,  \n",
    "from: 에는 가나슈 첫 번째 주소  \n",
    "gas비도 적으면 오류가 난다. 사설망에선 넉넉하게!  \n",
    "<br>\n",
    "\n",
    "처음 greeter은 constract에 가지고 있는 hello smu \n",
    "두 번째 실행시키면 hello world 출력(비동기적 특성 때문)"
   ]
  },
  {
   "cell_type": "code",
   "execution_count": 89,
   "metadata": {},
   "outputs": [
    {
     "name": "stdout",
     "output_type": "stream",
     "text": [
      "Hello SMU\n",
      "Hello SMU\n"
     ]
    }
   ],
   "source": [
    "!node src/greeterUse.js"
   ]
  },
  {
   "cell_type": "code",
   "execution_count": 89,
   "metadata": {},
   "outputs": [
    {
     "name": "stdout",
     "output_type": "stream",
     "text": [
      "Hello SMU\n",
      "Hello SMU\n"
     ]
    }
   ],
   "source": [
    "##바꾸고 나서\n",
    "!node src/greeterUse.js"
   ]
  },
  {
   "cell_type": "code",
   "execution_count": 90,
   "metadata": {},
   "outputs": [
    {
     "name": "stdout",
     "output_type": "stream",
     "text": [
      "Hello World\n",
      "Hello World\n"
     ]
    }
   ],
   "source": [
    "!node src/greeterUse.js"
   ]
  },
  {
   "cell_type": "markdown",
   "metadata": {},
   "source": [
    "## 3. Counter"
   ]
  },
  {
   "cell_type": "code",
   "execution_count": 3,
   "metadata": {},
   "outputs": [
    {
     "name": "stdout",
     "output_type": "stream",
     "text": [
      "Overwriting src/Counter.sol\n"
     ]
    }
   ],
   "source": [
    "%%writefile src/Counter.sol\n",
    "pragma solidity 0.4.25;\n",
    "contract Counter {\n",
    "    uint256 counter = 0;\n",
    "    function add() public {\n",
    "        counter++;\n",
    "    }\n",
    "    function subtract() public {\n",
    "        counter--;\n",
    "    }\n",
    "    function getCounter() public view returns (uint256) {\n",
    "        return counter;\n",
    "    }\n",
    "}"
   ]
  },
  {
   "cell_type": "code",
   "execution_count": 4,
   "metadata": {},
   "outputs": [
    {
     "name": "stdout",
     "output_type": "stream",
     "text": [
      "\n",
      "======= src/Counter.sol:Counter =======\n",
      "Gas estimation:\n",
      "construction:\n",
      "   5111 + 52000 = 57111\n",
      "external:\n",
      "   add():\t20370\n",
      "   getCounter():\t446\n",
      "   subtract():\t20395\n",
      "Binary: \n",
      "60806040526000805534801561001457600080fd5b50610104806100246000396000f3006080604052600436106053576000357c0100000000000000000000000000000000000000000000000000000000900463ffffffff1680634f2be91f1460585780636deebae314606c5780638ada066e146080575b600080fd5b348015606357600080fd5b50606a60a8565b005b348015607757600080fd5b50607e60bb565b005b348015608b57600080fd5b50609260cf565b6040518082815260200191505060405180910390f35b6000808154809291906001019190505550565b600080815480929190600190039190505550565b600080549050905600a165627a7a72305820ac547a1f9b990d60e8315bf5398e714b0054c60b16694ac7347c07364964ae9e0029\n",
      "Contract JSON ABI \n",
      "[{\"constant\":false,\"inputs\":[],\"name\":\"add\",\"outputs\":[],\"payable\":false,\"stateMutability\":\"nonpayable\",\"type\":\"function\"},{\"constant\":false,\"inputs\":[],\"name\":\"subtract\",\"outputs\":[],\"payable\":false,\"stateMutability\":\"nonpayable\",\"type\":\"function\"},{\"constant\":true,\"inputs\":[],\"name\":\"getCounter\",\"outputs\":[{\"name\":\"\",\"type\":\"uint256\"}],\"payable\":false,\"stateMutability\":\"view\",\"type\":\"function\"}]\n"
     ]
    }
   ],
   "source": [
    "##abi, binary, gas 출력\n",
    "!solc --abi --bin --gas src/Counter.sol"
   ]
  },
  {
   "cell_type": "markdown",
   "metadata": {},
   "source": [
    "#### 배포하기"
   ]
  },
  {
   "cell_type": "code",
   "execution_count": 5,
   "metadata": {},
   "outputs": [
    {
     "name": "stdout",
     "output_type": "stream",
     "text": [
      "Overwriting src/counterDeploy.js\n"
     ]
    }
   ],
   "source": [
    "%%writefile src/counterDeploy.js\n",
    "var Web3=require('web3');\n",
    "var web3;\n",
    "if (typeof web3 !== 'undefined') {\n",
    "    web3 = new Web3(web3.currentProvider);\n",
    "} else {\n",
    "    web3 = new Web3(new Web3.providers.HttpProvider(\"http://localhost:8345\"));\n",
    "}\n",
    "//solc 0.5.0\n",
    "//var _abiArray=[{\"constant\":false,\"inputs\":[],\"name\":\"add\",\"outputs\":[],\"payable\":false,\"stateMutability\":\"nonpayable\",\"type\":\"function\"},{\"constant\":false,\"inputs\":[],\"name\":\"subtract\",\"outputs\":[],\"payable\":false,\"stateMutability\":\"nonpayable\",\"type\":\"function\"},{\"constant\":true,\"inputs\":[],\"name\":\"getCounter\",\"outputs\":[{\"name\":\"\",\"type\":\"uint256\"}],\"payable\":false,\"stateMutability\":\"view\",\"type\":\"function\"}];\n",
    "//var _bin=\"60806040526000805534801561001457600080fd5b5060e6806100236000396000f3fe6080604052348015600f57600080fd5b50600436106059576000357c0100000000000000000000000000000000000000000000000000000000900480634f2be91f14605e5780636deebae31460665780638ada066e14606e575b600080fd5b6064608a565b005b606c609d565b005b607460b1565b6040518082815260200191505060405180910390f35b6000808154809291906001019190505550565b600080815480929190600190039190505550565b6000805490509056fea165627a7a723058201fbaa288a76e68fea3b0373a390c6e375e9bb90c0fd24b0660d64ebb408088d60029\";\n",
    "//solc 0.6.1\n",
    "var _abiArray=[{\"inputs\":[],\"name\":\"add\",\"outputs\":[],\"stateMutability\":\"nonpayable\",\"type\":\"function\"},{\"inputs\":[],\"name\":\"getCounter\",\"outputs\":[{\"internalType\":\"uint256\",\"name\":\"\",\"type\":\"uint256\"}],\"stateMutability\":\"view\",\"type\":\"function\"},{\"inputs\":[],\"name\":\"subtract\",\"outputs\":[],\"stateMutability\":\"nonpayable\",\"type\":\"function\"}];\n",
    "var _bin=\"60806040526000805534801561001457600080fd5b50610104806100246000396000f3006080604052600436106053576000357c0100000000000000000000000000000000000000000000000000000000900463ffffffff1680634f2be91f1460585780636deebae314606c5780638ada066e146080575b600080fd5b348015606357600080fd5b50606a60a8565b005b348015607757600080fd5b50607e60bb565b005b348015608b57600080fd5b50609260cf565b6040518082815260200191505060405180910390f35b6000808154809291906001019190505550565b600080815480929190600190039190505550565b600080549050905600a165627a7a72305820ac547a1f9b990d60e8315bf5398e714b0054c60b16694ac7347c07364964ae9e0029\";\n",
    "var _contract = new web3.eth.Contract(_abiArray);\n",
    "//unlock the account with a password provided\n",
    "//web3.personal.unlockAccount(web3.eth.accounts[0],'password');\n",
    "_contract\n",
    "    .deploy({data:\"0x\"+_bin})\n",
    "    .send({from: \"0xc620CC0746fe29da5798D902c0FD0c1331b32282\", gas: 364124, gasPrice: '1000000000'})\n",
    "    .then(function(newContractInstance){\n",
    "        console.log(newContractInstance.options.address) // instance with the new contract address\n",
    "    });"
   ]
  },
  {
   "cell_type": "markdown",
   "metadata": {},
   "source": [
    "bin에는 위에서 얻은 주소, from에는 가나슈 주소  \n",
    "transaction만들기 위해 gas와 gas price를 정해준다.  \n",
    "then 함수를 이용하여 promise를 출력한다.\n"
   ]
  },
  {
   "cell_type": "code",
   "execution_count": 6,
   "metadata": {
    "scrolled": true
   },
   "outputs": [
    {
     "name": "stdout",
     "output_type": "stream",
     "text": [
      "0x4EE8C4fe24bEdF51b55e73e3B82641Dd1182D82B\n"
     ]
    }
   ],
   "source": [
    "!node src/counterDeploy.js"
   ]
  },
  {
   "cell_type": "markdown",
   "metadata": {},
   "source": [
    "#### 사용"
   ]
  },
  {
   "cell_type": "code",
   "execution_count": 28,
   "metadata": {},
   "outputs": [
    {
     "name": "stdout",
     "output_type": "stream",
     "text": [
      "Overwriting src/counterUse.js\n"
     ]
    }
   ],
   "source": [
    "%%writefile src/counterUse.js\n",
    "var Web3=require('web3');\n",
    "var web3 = new Web3(new Web3.providers.HttpProvider(\"http://localhost:8345\"));\n",
    "var abi =[{\"constant\":false,\"inputs\":[],\"name\":\"add\",\"outputs\":[],\"payable\":false,\"stateMutability\":\"nonpayable\",\"type\":\"function\"},{\"constant\":false,\"inputs\":[],\"name\":\"subtract\",\"outputs\":[],\"payable\":false,\"stateMutability\":\"nonpayable\",\"type\":\"function\"},{\"constant\":true,\"inputs\":[],\"name\":\"getCounter\",\"outputs\":[{\"name\":\"\",\"type\":\"uint256\"}],\"payable\":false,\"stateMutability\":\"view\",\"type\":\"function\"}];\n",
    "var addr = \"0x4EE8C4fe24bEdF51b55e73e3B82641Dd1182D82B\";\n",
    "var counter = new web3.eth.Contract(abi,addr);\n",
    "counter.methods.getCounter().call().then(function(str) {console.log(str);});\n",
    "//counter.methods.subtract().send({from:\"0xc620CC0746fe29da5798D902c0FD0c1331b32282\",gas:100000});\n",
    "//counter.methods.add().send({from:\"0xc620CC0746fe29da5798D902c0FD0c1331b32282\",gas:100000});\n",
    "counter.methods.add().send({from:\"0xc620CC0746fe29da5798D902c0FD0c1331b32282\",gas:100000});\n",
    "//counter.methods.getCounter().call().then(function(str) {console.log(str);});"
   ]
  },
  {
   "cell_type": "markdown",
   "metadata": {},
   "source": [
    "addr: 위에서 얻은 주소  \n",
    "from: 가나슈 주소"
   ]
  },
  {
   "cell_type": "code",
   "execution_count": 29,
   "metadata": {},
   "outputs": [
    {
     "name": "stdout",
     "output_type": "stream",
     "text": [
      "0\n"
     ]
    }
   ],
   "source": [
    "!node src/counterUse.js"
   ]
  },
  {
   "cell_type": "markdown",
   "metadata": {},
   "source": [
    "처음 0이 호출, 한번 더 해야 반영됨(비동기적인 특성)  \n",
    "add랑 subtract는 geth에서 실행시키면 블록체인이 발생되어야한다  \n",
    "블록체인 변경하는 함수는 안에 transaction을 만들어주어야한다.\n",
    "getcounter은 call()함수이므로 블록체인을 변경하지 않는 함수이므로 마이닝을 하지 않고 바로 값을 local에서 읽어올 수 있다. "
   ]
  },
  {
   "cell_type": "code",
   "execution_count": 30,
   "metadata": {},
   "outputs": [
    {
     "name": "stdout",
     "output_type": "stream",
     "text": [
      "1\n"
     ]
    }
   ],
   "source": [
    "!node src/counterUse.js"
   ]
  },
  {
   "cell_type": "markdown",
   "metadata": {},
   "source": [
    "## 4. Timer 타이머"
   ]
  },
  {
   "cell_type": "code",
   "execution_count": 4,
   "metadata": {},
   "outputs": [
    {
     "name": "stdout",
     "output_type": "stream",
     "text": [
      "Overwriting src/Timer.sol\n"
     ]
    }
   ],
   "source": [
    "%%writefile src/Timer.sol\n",
    "pragma solidity 0.4.25;\n",
    "contract Timer {\n",
    "    uint256 startTime;\n",
    "    function start() public {\n",
    "        startTime=now;\n",
    "    }\n",
    "    function timePassed() public view returns(uint256) {\n",
    "        return now-startTime;\n",
    "    }\n",
    "    function getNow() view public returns(uint) {\n",
    "        return now;\n",
    "    }\n",
    "}"
   ]
  },
  {
   "cell_type": "markdown",
   "metadata": {},
   "source": [
    "#### 컴파일 -- 자동화?\n",
    "자바스크립트로 저장해보자! 그러면  \n",
    "(1) node에서 그 파일을 require해서 사용하거나,  \n",
    "(2) geth에서 loadScript() 명령어로 실행할 수 있다.\n",
    "<br>\n",
    "\n",
    "exports A에 라이브러리, B에서 쓰게 하려면 필요함\n",
    "\n",
    "echo: \"\"안에 있는걸 실행해서 >파일명~에 저장  \n",
    "`>>`이면 append  \n",
    "`>`이면 새로 쓰기"
   ]
  },
  {
   "cell_type": "code",
   "execution_count": 192,
   "metadata": {},
   "outputs": [],
   "source": [
    "!echo | set /p=\"exports._compiled=\" >src\\Timer.js\n",
    "!solc --optimize --combined-json abi,bin,interface src/Timer.sol>>src\\Timer.js"
   ]
  },
  {
   "cell_type": "markdown",
   "metadata": {},
   "source": [
    " 윈도우에서 pipe \"|\", 변수값을 입력받는 \"set /p\" 명령어, 파일에 쓰고 \">\", 파일에 붙여넣는 \">>\" 명령어를 사용하고 있다.  \n",
    " \n",
    " <br>\n",
    " \n",
    " 리눅스  \n",
    "```py\n",
    "!echo \"exports._compiled=`solc --optimize --combined-json abi,bin,interface src/Timer.sol`\" > src/Timer.js\n",
    "\n",
    "!cat src/Timer.js\n",
    "```"
   ]
  },
  {
   "cell_type": "code",
   "execution_count": 178,
   "metadata": {},
   "outputs": [
    {
     "name": "stdout",
     "output_type": "stream",
     "text": [
      "exports._compiled={\"contracts\":{\"src/Timer.sol:Timer\":{\"abi\":\"[{\\\"constant\\\":true,\\\"inputs\\\":[],\\\"name\\\":\\\"timePassed\\\",\\\"outputs\\\":[{\\\"name\\\":\\\"\\\",\\\"type\\\":\\\"uint256\\\"}],\\\"payable\\\":false,\\\"stateMutability\\\":\\\"view\\\",\\\"type\\\":\\\"function\\\"},{\\\"constant\\\":true,\\\"inputs\\\":[],\\\"name\\\":\\\"getNow\\\",\\\"outputs\\\":[{\\\"name\\\":\\\"\\\",\\\"type\\\":\\\"uint256\\\"}],\\\"payable\\\":false,\\\"stateMutability\\\":\\\"view\\\",\\\"type\\\":\\\"function\\\"},{\\\"constant\\\":false,\\\"inputs\\\":[],\\\"name\\\":\\\"start\\\",\\\"outputs\\\":[],\\\"payable\\\":false,\\\"stateMutability\\\":\\\"nonpayable\\\",\\\"type\\\":\\\"function\\\"}]\",\"bin\":\"608060405234801561001057600080fd5b5060df8061001f6000396000f30060806040526004361060525763ffffffff7c0100000000000000000000000000000000000000000000000000000000600035041663b445425381146057578063bbe4fd5014607b578063be9a655514608d575b600080fd5b348015606257600080fd5b50606960a1565b60408051918252519081900360200190f35b348015608657600080fd5b50606960a9565b348015609857600080fd5b50609f60ad565b005b600054420390565b4290565b426000555600a165627a7a723058202ae9cfdf8dbd9e91a4728d39b41caf282f6d9f1253ad8fe31c335aab7510acc00029\"}},\"version\":\"0.4.25+commit.59dbf8f1.Windows.msvc\"}\n"
     ]
    }
   ],
   "source": [
    "!type src\\Timer.js"
   ]
  },
  {
   "cell_type": "markdown",
   "metadata": {},
   "source": [
    "개인정보, abi정보가 쓰여져있다."
   ]
  },
  {
   "cell_type": "markdown",
   "metadata": {},
   "source": [
    "require로 import\n",
    "##계층적 접근할 수 있다."
   ]
  },
  {
   "cell_type": "code",
   "execution_count": 179,
   "metadata": {},
   "outputs": [
    {
     "name": "stdout",
     "output_type": "stream",
     "text": [
      "Overwriting src/TimerImportTest.js\n"
     ]
    }
   ],
   "source": [
    "%%writefile src/TimerImportTest.js\n",
    "const my = require('./Timer'); //현재 디렉토리의 타이머 입력\n",
    "console.log(\"- compiled results: \" +my);\n",
    "console.log(\"- ABI: \"+my._compiled.contracts['src/Timer.sol:Timer'].abi);\n",
    "console.log(\"- Bytecode: \"+my._compiled.contracts['src/Timer.sol:Timer'].bin);"
   ]
  },
  {
   "cell_type": "markdown",
   "metadata": {},
   "source": [
    "복사+붙여넣기가 아니라 자동으로 abi, bin에 접근할 수 있다. ','로 나눠진 정보에 접근함  \n",
    "my는 임의의 정보"
   ]
  },
  {
   "cell_type": "code",
   "execution_count": 180,
   "metadata": {},
   "outputs": [
    {
     "name": "stdout",
     "output_type": "stream",
     "text": [
      "- compiled results: [object Object]\n",
      "- ABI: [{\"constant\":true,\"inputs\":[],\"name\":\"timePassed\",\"outputs\":[{\"name\":\"\",\"type\":\"uint256\"}],\"payable\":false,\"stateMutability\":\"view\",\"type\":\"function\"},{\"constant\":true,\"inputs\":[],\"name\":\"getNow\",\"outputs\":[{\"name\":\"\",\"type\":\"uint256\"}],\"payable\":false,\"stateMutability\":\"view\",\"type\":\"function\"},{\"constant\":false,\"inputs\":[],\"name\":\"start\",\"outputs\":[],\"payable\":false,\"stateMutability\":\"nonpayable\",\"type\":\"function\"}]\n",
      "- Bytecode: 608060405234801561001057600080fd5b5060df8061001f6000396000f30060806040526004361060525763ffffffff7c0100000000000000000000000000000000000000000000000000000000600035041663b445425381146057578063bbe4fd5014607b578063be9a655514608d575b600080fd5b348015606257600080fd5b50606960a1565b60408051918252519081900360200190f35b348015608657600080fd5b50606960a9565b348015609857600080fd5b50609f60ad565b005b600054420390565b4290565b426000555600a165627a7a723058202ae9cfdf8dbd9e91a4728d39b41caf282f6d9f1253ad8fe31c335aab7510acc00029\n"
     ]
    }
   ],
   "source": [
    "!node src/TimerImportTest.js"
   ]
  },
  {
   "cell_type": "markdown",
   "metadata": {},
   "source": [
    "자동화만 되었지 앞의 단계와 큰 차이가 없다."
   ]
  },
  {
   "cell_type": "markdown",
   "metadata": {},
   "source": [
    "#### 배포하기"
   ]
  },
  {
   "cell_type": "markdown",
   "metadata": {},
   "source": [
    "```py\n",
    "!echo \"var _compiled=`solc --optimize --combined-json abi,bin,interface src/TimerGeth.sol`\" > src/TimerGeth.js\n",
    "```"
   ]
  },
  {
   "cell_type": "code",
   "execution_count": 182,
   "metadata": {},
   "outputs": [],
   "source": [
    "!echo | set /p=\"var _compiled=\" >src/TimerGeth.js\n",
    "!solc --optimize --combined-json abi,bin,interface src\\Timer.sol>>src\\TimerGeth.js  "
   ]
  },
  {
   "cell_type": "code",
   "execution_count": 183,
   "metadata": {},
   "outputs": [
    {
     "name": "stdout",
     "output_type": "stream",
     "text": [
      "Overwriting src/TimerDeployGeth.js\n"
     ]
    }
   ],
   "source": [
    "%%writefile src/TimerDeployGeth.js\n",
    "var primary = eth.accounts[0];\n",
    "console.log(\"primary ac: \",primary);\n",
    "console.log(\"balance: \",eth.getBalance(primary));\n",
    "loadScript('src/TimerGeth.js')\n",
    "contractName=Object.keys(_compiled.contracts)\n",
    "//_abi=JSON.parse(_compiled.contracts['src/Example.sol:Example'].abi)\n",
    "_abi=JSON.parse(_compiled.contracts[contractName[0]].abi)\n",
    "//_code=_compiled.contracts['src/Example.sol:Example'].bin\n",
    "_code=_compiled.contracts[contractName[0]].bin\n",
    "_class=eth.contract(_abi);\n",
    "console.log('bin code: ', _code)\n",
    "//this async way does not work from the Jupyter Notebook\n",
    "_object=_class.new({from:primary,data:'0x'+_code,gas:1000000}, function(err, contract) {\n",
    "  if (!err && contract.address)\n",
    "    console.log(\"contractAddress: \", contract.address);\n",
    "    console.log(\"transactionHash: \", contract.transactionHash);\n",
    "});"
   ]
  },
  {
   "cell_type": "markdown",
   "metadata": {},
   "source": [
    "abi 정보는 string, 따라서 json으로 인식을 하지 못하기 때문에 parse를 해줘야함  \n",
    "콜백함수는 err first 이므로 function(err, contract) 이라고 해야함\n"
   ]
  },
  {
   "cell_type": "code",
   "execution_count": 184,
   "metadata": {},
   "outputs": [
    {
     "name": "stdout",
     "output_type": "stream",
     "text": [
      "primary ac:  0xc620cc0746fe29da5798d902c0fd0c1331b32282\n",
      "balance:  99984301071000000000\n",
      "bin code:  608060405234801561001057600080fd5b5060df8061001f6000396000f30060806040526004361060525763ffffffff7c0100000000000000000000000000000000000000000000000000000000600035041663b445425381146057578063bbe4fd5014607b578063be9a655514608d575b600080fd5b348015606257600080fd5b50606960a1565b60408051918252519081900360200190f35b348015608657600080fd5b50606960a9565b348015609857600080fd5b50609f60ad565b005b600054420390565b4290565b426000555600a165627a7a72305820b3b3a7809dadc77735cf3597f48218c402607c1eb1e158673fb6f5d9aa5775150029\n",
      "transactionHash:  0x19592f8d030af7b20187ac00b2e608bfa060ef74eaff5e7f6c770d21b0ebc939\n",
      "true\n"
     ]
    }
   ],
   "source": [
    "!geth --exec \"loadScript('src/TimerDeployGeth.js')\" attach http://localhost:8345"
   ]
  },
  {
   "cell_type": "markdown",
   "metadata": {},
   "source": [
    "위에서 나온 해쉬를 넣는다."
   ]
  },
  {
   "cell_type": "code",
   "execution_count": 187,
   "metadata": {},
   "outputs": [
    {
     "name": "stdout",
     "output_type": "stream",
     "text": [
      "{\n",
      "  blockHash: \"0x8be73dd7a78490f65667baea5062afbdedae7fb664c8bd0488ea771f987a4e4a\",\n",
      "  blockNumber: 24,\n",
      "  contractAddress: \"0x2440564d83df8bee8a2b3fb36360315de38b67c3\",\n",
      "  cumulativeGasUsed: 101229,\n",
      "  from: \"0xc620cc0746fe29da5798d902c0fd0c1331b32282\",\n",
      "  gasUsed: 101229,\n",
      "  logs: [],\n",
      "  logsBloom: \"0x00000000000000000000000000000000000000000000000000000000000000000000000000000000000000000000000000000000000000000000000000000000000000000000000000000000000000000000000000000000000000000000000000000000000000000000000000000000000000000000000000000000000000000000000000000000000000000000000000000000000000000000000000000000000000000000000000000000000000000000000000000000000000000000000000000000000000000000000000000000000000000000000000000000000000000000000000000000000000000000000000000000000000000000000000000000\",\n",
      "  status: \"0x1\",\n",
      "  to: null,\n",
      "  transactionHash: \"0x19592f8d030af7b20187ac00b2e608bfa060ef74eaff5e7f6c770d21b0ebc939\",\n",
      "  transactionIndex: 0\n",
      "}\n"
     ]
    }
   ],
   "source": [
    "!geth --exec \"eth.getTransactionReceipt('0x19592f8d030af7b20187ac00b2e608bfa060ef74eaff5e7f6c770d21b0ebc939')\" attach http://localhost:8345"
   ]
  },
  {
   "cell_type": "markdown",
   "metadata": {},
   "source": [
    "contractAddress: \"0x2440564d83df8bee8a2b3fb36360315de38b67c3\"  \n",
    "이 주소를 사용하면 된다.  \n",
    "null이 나오면 마이닝하기"
   ]
  },
  {
   "cell_type": "markdown",
   "metadata": {},
   "source": [
    "#### Node 파일에서 읽어서 배포하기"
   ]
  },
  {
   "cell_type": "code",
   "execution_count": 188,
   "metadata": {},
   "outputs": [],
   "source": [
    "!echo | set /p=\"exports._compiled=\" >src\\Timer.js\n",
    "!solc --optimize --combined-json abi,bin,interface src/Timer.sol>>src\\Timer.js"
   ]
  },
  {
   "cell_type": "code",
   "execution_count": 198,
   "metadata": {},
   "outputs": [
    {
     "name": "stdout",
     "output_type": "stream",
     "text": [
      "Overwriting src/TimerDeployAbiBinFromFile.js\n"
     ]
    }
   ],
   "source": [
    "%%writefile src/TimerDeployAbiBinFromFile.js\n",
    "var Web3=require('web3');\n",
    "var my = require('./Timer');  //cotaining abi,bin\n",
    "var web3;\n",
    "if (typeof web3 !== 'undefined') {\n",
    "    web3 = new Web3(web3.currentProvider);\n",
    "} else {\n",
    "    web3 = new Web3(new Web3.providers.HttpProvider(\"http://localhost:8345\"));\n",
    "}\n",
    "//abi from Timer.js\n",
    "var _abiArray=JSON.parse(my._compiled.contracts['src/Timer.sol:Timer'].abi);   //JSON parsing needed!!\n",
    "console.log(\"- ABI: \"+my._compiled.contracts['src/Timer.sol:Timer'].abi);\n",
    "//bin from Timer.js\n",
    "var _bin=my._compiled.contracts['src/Timer.sol:Timer'].bin;\n",
    "console.log(\"- Bytecode: \"+my._compiled.contracts['src/Timer.sol:Timer'].bin);\n",
    "var _contract = new web3.eth.Contract(_abiArray);\n",
    "//unlock the account with a password provided\n",
    "//web3.personal.unlockAccount(web3.eth.accounts[0],'password');\n",
    "_contract\n",
    "    .deploy({data:\"0x\"+_bin})\n",
    "    .send({from: \"0xc620cc0746fe29da5798d902c0fd0c1331b32282\", gas: 364124, gasPrice: '1000000000'})\n",
    "    .then(function(newContractInstance){\n",
    "        console.log(\"- Contract Address: \"+newContractInstance.options.address) // instance with the new contract address\n",
    "    });"
   ]
  },
  {
   "cell_type": "markdown",
   "metadata": {},
   "source": [
    "from 은 현재 주소, 위에 해쉬 넣어서 출력했을 때 from 쓰면됨"
   ]
  },
  {
   "cell_type": "code",
   "execution_count": 2,
   "metadata": {},
   "outputs": [
    {
     "name": "stdout",
     "output_type": "stream",
     "text": [
      "- ABI: [{\"constant\":true,\"inputs\":[],\"name\":\"timePassed\",\"outputs\":[{\"name\":\"\",\"type\":\"uint256\"}],\"payable\":false,\"stateMutability\":\"view\",\"type\":\"function\"},{\"constant\":true,\"inputs\":[],\"name\":\"getNow\",\"outputs\":[{\"name\":\"\",\"type\":\"uint256\"}],\"payable\":false,\"stateMutability\":\"view\",\"type\":\"function\"},{\"constant\":false,\"inputs\":[],\"name\":\"start\",\"outputs\":[],\"payable\":false,\"stateMutability\":\"nonpayable\",\"type\":\"function\"}]\n",
      "- Bytecode: 608060405234801561001057600080fd5b5060df8061001f6000396000f30060806040526004361060525763ffffffff7c0100000000000000000000000000000000000000000000000000000000600035041663b445425381146057578063bbe4fd5014607b578063be9a655514608d575b600080fd5b348015606257600080fd5b50606960a1565b60408051918252519081900360200190f35b348015608657600080fd5b50606960a9565b348015609857600080fd5b50609f60ad565b005b600054420390565b4290565b426000555600a165627a7a723058202ae9cfdf8dbd9e91a4728d39b41caf282f6d9f1253ad8fe31c335aab7510acc00029\n"
     ]
    },
    {
     "name": "stderr",
     "output_type": "stream",
     "text": [
      "(node:10564) UnhandledPromiseRejectionWarning: Error: Invalid JSON RPC response: \"\"\n",
      "    at Object.InvalidResponse (C:\\Users\\minji\\Code\\201810808\\node_modules\\web3-core-helpers\\src\\errors.js:42:16)\n",
      "    at XMLHttpRequest.request.onreadystatechange (C:\\Users\\minji\\Code\\201810808\\node_modules\\web3-providers-http\\src\\index.js:106:32)\n",
      "    at XMLHttpRequestEventTarget.dispatchEvent (C:\\Users\\minji\\Code\\201810808\\node_modules\\xhr2-cookies\\dist\\xml-http-request-event-target.js:34:22)\n",
      "    at XMLHttpRequest._setReadyState (C:\\Users\\minji\\Code\\201810808\\node_modules\\xhr2-cookies\\dist\\xml-http-request.js:208:14)\n",
      "    at XMLHttpRequest._onHttpRequestError (C:\\Users\\minji\\Code\\201810808\\node_modules\\xhr2-cookies\\dist\\xml-http-request.js:349:14)\n",
      "    at ClientRequest.<anonymous> (C:\\Users\\minji\\Code\\201810808\\node_modules\\xhr2-cookies\\dist\\xml-http-request.js:252:61)\n",
      "    at ClientRequest.emit (events.js:310:20)\n",
      "    at Socket.socketErrorListener (_http_client.js:426:9)\n",
      "    at Socket.emit (events.js:310:20)\n",
      "    at emitErrorNT (internal/streams/destroy.js:92:8)\n",
      "    at emitErrorAndCloseNT (internal/streams/destroy.js:60:3)\n",
      "    at processTicksAndRejections (internal/process/task_queues.js:84:21)\n",
      "(node:10564) UnhandledPromiseRejectionWarning: Unhandled promise rejection. This error originated either by throwing inside of an async function without a catch block, or by rejecting a promise which was not handled with .catch(). To terminate the node process on unhandled promise rejection, use the CLI flag `--unhandled-rejections=strict` (see https://nodejs.org/api/cli.html#cli_unhandled_rejections_mode). (rejection id: 1)\n",
      "(node:10564) [DEP0018] DeprecationWarning: Unhandled promise rejections are deprecated. In the future, promise rejections that are not handled will terminate the Node.js process with a non-zero exit code.\n"
     ]
    }
   ],
   "source": [
    "!node src/TimerDeployAbiBinFromFile.js"
   ]
  },
  {
   "cell_type": "markdown",
   "metadata": {},
   "source": [
    "#### 사용하기"
   ]
  },
  {
   "cell_type": "code",
   "execution_count": 245,
   "metadata": {},
   "outputs": [
    {
     "name": "stdout",
     "output_type": "stream",
     "text": [
      "Overwriting src/TimerUseGeth.js\n"
     ]
    }
   ],
   "source": [
    "%%writefile src/TimerUseGeth.js\n",
    "loadScript('src/TimerGeth.js')\n",
    "contractName=Object.keys(_compiled.contracts)\n",
    "_abi=JSON.parse(_compiled.contracts[contractName[0]].abi)\n",
    "//_abi=JSON.parse(_compiled.contracts['src/Example.sol:Example'].abi)\n",
    "var _contract=eth.contract(_abi);\n",
    "var _address=\"0x2440564d83df8bee8a2b3fb36360315de38b67c3\";\n",
    "var _instance=eth.contract(_abi).at(_address);\n",
    "console.log(_instance.getNow.call());\n",
    "_instance.start.sendTransaction({from:eth.accounts[0]});\n",
    "console.log(_instance.timePassed.call());"
   ]
  },
  {
   "cell_type": "markdown",
   "metadata": {},
   "source": [
    " var_ address에는 contractAddress: \"0x2440564d83df8bee8a2b3fb36360315de38b67c3\"가 들어간다."
   ]
  },
  {
   "cell_type": "code",
   "execution_count": 246,
   "metadata": {},
   "outputs": [
    {
     "name": "stdout",
     "output_type": "stream",
     "text": [
      "1588966350\n",
      "0\n",
      "true\n"
     ]
    }
   ],
   "source": [
    "!geth --exec \"loadScript('src/TimerUseGeth.js')\" attach http://localhost:8345"
   ]
  },
  {
   "cell_type": "code",
   "execution_count": 1,
   "metadata": {},
   "outputs": [
    {
     "name": "stdout",
     "output_type": "stream",
     "text": [
      "Fatal: Failed to start the JavaScript console: api modules: Post http://localhost:8345: dial tcp [::1]:8345: connectex: No connection could be made because the target machine actively refused it.\n"
     ]
    }
   ],
   "source": [
    "!geth --exec \"loadScript('src/TimerUseGeth.js')\" attach http://localhost:8345"
   ]
  },
  {
   "cell_type": "code",
   "execution_count": 248,
   "metadata": {},
   "outputs": [],
   "source": [
    "##왜 안나오지?\n"
   ]
  },
  {
   "cell_type": "markdown",
   "metadata": {},
   "source": [
    "### Node"
   ]
  },
  {
   "cell_type": "code",
   "execution_count": 249,
   "metadata": {},
   "outputs": [
    {
     "name": "stdout",
     "output_type": "stream",
     "text": [
      "Overwriting src/timerUse.js\n"
     ]
    }
   ],
   "source": [
    "%%writefile src/timerUse.js\n",
    "var Web3=require('web3');\n",
    "var my = require('./Timer');  //cotaining abi,bin\n",
    "var web3 = new Web3(new Web3.providers.HttpProvider(\"http://localhost:8345\"));\n",
    "//abi from Timer.js\n",
    "var _abiArray=JSON.parse(my._compiled.contracts['src/Timer.sol:Timer'].abi);   //JSON parsing needed!!\n",
    "console.log(\"- ABI: \"+my._compiled.contracts['src/Timer.sol:Timer'].abi);\n",
    "var timer = new web3.eth.Contract(_abiArray,\"0xeC2B36BF618533c120f33E015d4142D9B03fc525\");\n",
    "timer.methods.getNow().call().then(function(value) {console.log(value);});\n",
    "timer.methods.start().send({from:\"0xc620cc0746fe29da5798d902c0fd0c1331b32282\",gas:100000});\n",
    "timer.methods.timePassed().call().then(function(value) {console.log(value);});"
   ]
  },
  {
   "cell_type": "code",
   "execution_count": 250,
   "metadata": {},
   "outputs": [
    {
     "name": "stdout",
     "output_type": "stream",
     "text": [
      "- ABI: [{\"constant\":true,\"inputs\":[],\"name\":\"timePassed\",\"outputs\":[{\"name\":\"\",\"type\":\"uint256\"}],\"payable\":false,\"stateMutability\":\"view\",\"type\":\"function\"},{\"constant\":true,\"inputs\":[],\"name\":\"getNow\",\"outputs\":[{\"name\":\"\",\"type\":\"uint256\"}],\"payable\":false,\"stateMutability\":\"view\",\"type\":\"function\"},{\"constant\":false,\"inputs\":[],\"name\":\"start\",\"outputs\":[],\"payable\":false,\"stateMutability\":\"nonpayable\",\"type\":\"function\"}]\n",
      "1588966354\n",
      "4\n"
     ]
    }
   ],
   "source": [
    "!node src/timerUse.js"
   ]
  },
  {
   "cell_type": "code",
   "execution_count": null,
   "metadata": {},
   "outputs": [],
   "source": []
  },
  {
   "cell_type": "code",
   "execution_count": null,
   "metadata": {},
   "outputs": [],
   "source": []
  }
 ],
 "metadata": {
  "kernelspec": {
   "display_name": "Python 3",
   "language": "python",
   "name": "python3"
  },
  "language_info": {
   "codemirror_mode": {
    "name": "ipython",
    "version": 3
   },
   "file_extension": ".py",
   "mimetype": "text/x-python",
   "name": "python",
   "nbconvert_exporter": "python",
   "pygments_lexer": "ipython3",
   "version": "3.7.3"
  }
 },
 "nbformat": 4,
 "nbformat_minor": 2
}
