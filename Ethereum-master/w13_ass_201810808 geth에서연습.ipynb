{
 "cells": [
  {
   "cell_type": "markdown",
   "metadata": {},
   "source": [
    "## 휴먼지능정보공학과 201810808 정민지\n",
    "### 13주 과제\n",
    "블록체인에서 주문을 하고, 그 내역을 로컬 파일에 작성해 보자.\n",
    "\n",
    "블록체인으로 주문을 전송하면, 이벤트가 발생하고 주문내역을 로컬파일에 쓰게 된다.\n",
    "\n",
    "* EventTest.sol에서는 이벤트가 발생하면서 그 로그를 파일에 작성한다 (OrderEvent.txt)\n",
    "\n",
    "* OrderEvent.sol을 수정하여:\n",
    "\n",
    "\t* order(상품항목, 주문 개수, 배송지) 함수 작성\n",
    "\n",
    "\t* getBalance() 함수 작성. 해당 프로그램 생성한 Owner만 읽을 수 있게 modfier isOnwer 작성.\n",
    "\n",
    "\n",
    "\n",
    "geth 또는 ganache 어느 하나를 선택하여 프로그램을 작성하세요.\n",
    "\n",
    "아래 로그가 파일에 쓰여지도록 하고, 노트북에서 그 파일을 출력하세요 (!type src/OrderEvent.txt)\n",
    "\n",
    "전송자주소, 1111, 3, 20 2-gil Hongji-dong Jongro-gu Seoul\n",
    "\n",
    "전송자주소, 1111, 5, 20 2-gil Hongji-dong Jongro-gu Seoul\n",
    "\n",
    "전송자주소, 1111, 20, 20 2-gil Hongji-dong Jongro-gu Seoul"
   ]
  },
  {
   "cell_type": "code",
   "execution_count": 15,
   "metadata": {},
   "outputs": [
    {
     "name": "stdout",
     "output_type": "stream",
     "text": [
      "Overwriting src/OrderEvent.sol\n"
     ]
    }
   ],
   "source": [
    "%%writefile src/OrderEvent.sol\n",
    "pragma solidity 0.5.1;\n",
    "\n",
    "contract OrderEvent {\n",
    "    \n",
    "    uint unitPrice = 10;\n",
    "    address payable owner;\n",
    "    //event OrderLog(bytes2 _itemId, uint indexed _value);\n",
    "    event OrderLog(address indexed _from, bytes2 _itemId, uint indexed quantity, string addr);\n",
    "    \n",
    "    constructor() public {\n",
    "        owner = msg.sender;\n",
    "    }\n",
    "    \n",
    "    function order(bytes2 _itemId, uint quantity,string memory addr) public payable{\n",
    "        if (msg.sender == owner) {\n",
    "            uint256 orderAmount = quantity * unitPrice;\n",
    "            require(msg.value == orderAmount);\n",
    "            //emit OrderLog(_itemId, msg.value);\n",
    "            emit OrderLog(msg.sender, _itemId, quantity,addr);\n",
    "        }\n",
    "    }\n",
    "    \n",
    "    modifier isOwner() { \n",
    "        if (msg.sender != owner) {\n",
    "            revert();\n",
    "        }\n",
    "        _; //continue executing rest of method body\n",
    "    }\n",
    "    \n",
    "    function getBalance() view public isOwner returns(uint) {\n",
    "        return address(this).balance;\n",
    "    }\n",
    "}"
   ]
  },
  {
   "cell_type": "code",
   "execution_count": 16,
   "metadata": {
    "scrolled": false
   },
   "outputs": [
    {
     "name": "stdout",
     "output_type": "stream",
     "text": [
      "\n",
      "======= src/OrderEvent.sol:OrderEvent =======\n",
      "Gas estimation:\n",
      "construction:\n",
      "   40492 + 178800 = 219292\n",
      "external:\n",
      "   getBalance():\t877\n",
      "   order(bytes2,uint256,string):\tinfinite\n",
      "Binary: \n",
      "6080604052600a60005534801561001557600080fd5b5033600160006101000a81548173ffffffffffffffffffffffffffffffffffffffff021916908373ffffffffffffffffffffffffffffffffffffffff16021790555061037e806100666000396000f3fe608060405260043610610046576000357c01000000000000000000000000000000000000000000000000000000009004806312065fe01461004b5780637a59a92914610076575b600080fd5b34801561005757600080fd5b50610060610166565b6040518082815260200191505060405180910390f35b6101646004803603606081101561008c57600080fd5b8101908080357dffffffffffffffffffffffffffffffffffffffffffffffffffffffffffff1916906020019092919080359060200190929190803590602001906401000000008111156100de57600080fd5b8201836020820111156100f057600080fd5b8035906020019184600183028401116401000000008311171561011257600080fd5b91908080601f016020809104026020016040519081016040528093929190818152602001838380828437600081840152601f19601f8201169050808301925050505050505091929192905050506101e1565b005b6000600160009054906101000a900473ffffffffffffffffffffffffffffffffffffffff1673ffffffffffffffffffffffffffffffffffffffff163373ffffffffffffffffffffffffffffffffffffffff161415156101c457600080fd5b3073ffffffffffffffffffffffffffffffffffffffff1631905090565b600160009054906101000a900473ffffffffffffffffffffffffffffffffffffffff1673ffffffffffffffffffffffffffffffffffffffff163373ffffffffffffffffffffffffffffffffffffffff16141561034d576000805483029050803414151561024d57600080fd5b823373ffffffffffffffffffffffffffffffffffffffff167f0cee52e22e6b387c4183ee502522fa33f030e118cc6065c7a842e8b7c00e4a6a868560405180837dffffffffffffffffffffffffffffffffffffffffffffffffffffffffffff19167dffffffffffffffffffffffffffffffffffffffffffffffffffffffffffff1916815260200180602001828103825283818151815260200191508051906020019080838360005b838110156103105780820151818401526020810190506102f5565b50505050905090810190601f16801561033d5780820380516001836020036101000a031916815260200191505b50935050505060405180910390a3505b50505056fea165627a7a72305820560da9061da1af60ca953dbace7d2a064b565d83b411caec5775810088dfa71c0029\n",
      "Contract JSON ABI \n",
      "[{\"constant\":true,\"inputs\":[],\"name\":\"getBalance\",\"outputs\":[{\"name\":\"\",\"type\":\"uint256\"}],\"payable\":false,\"stateMutability\":\"view\",\"type\":\"function\"},{\"constant\":false,\"inputs\":[{\"name\":\"_itemId\",\"type\":\"bytes2\"},{\"name\":\"quantity\",\"type\":\"uint256\"},{\"name\":\"addr\",\"type\":\"string\"}],\"name\":\"order\",\"outputs\":[],\"payable\":true,\"stateMutability\":\"payable\",\"type\":\"function\"},{\"inputs\":[],\"payable\":false,\"stateMutability\":\"nonpayable\",\"type\":\"constructor\"},{\"anonymous\":false,\"inputs\":[{\"indexed\":true,\"name\":\"_from\",\"type\":\"address\"},{\"indexed\":false,\"name\":\"_itemId\",\"type\":\"bytes2\"},{\"indexed\":true,\"name\":\"quantity\",\"type\":\"uint256\"},{\"indexed\":false,\"name\":\"addr\",\"type\":\"string\"}],\"name\":\"OrderLog\",\"type\":\"event\"}]\n"
     ]
    }
   ],
   "source": [
    "!solc --abi --bin --gas src/OrderEvent.sol"
   ]
  },
  {
   "cell_type": "code",
   "execution_count": 17,
   "metadata": {
    "scrolled": true
   },
   "outputs": [
    {
     "name": "stdout",
     "output_type": "stream",
     "text": [
      "Overwriting src/OrderEventDeploy.js\n"
     ]
    }
   ],
   "source": [
    "%%writefile src/OrderEventDeploy.js\n",
    "var Web3=require('web3');\n",
    "var web3 = new Web3(new Web3.providers.HttpProvider(\"http://localhost:8445\"));\n",
    "var _abiArray =[{\"constant\":true,\"inputs\":[],\"name\":\"getBalance\",\"outputs\":[{\"name\":\"\",\"type\":\"uint256\"}],\"payable\":false,\"stateMutability\":\"view\",\"type\":\"function\"},{\"constant\":false,\"inputs\":[{\"name\":\"_itemId\",\"type\":\"bytes2\"},{\"name\":\"quantity\",\"type\":\"uint256\"},{\"name\":\"addr\",\"type\":\"string\"}],\"name\":\"order\",\"outputs\":[],\"payable\":true,\"stateMutability\":\"payable\",\"type\":\"function\"},{\"inputs\":[],\"payable\":false,\"stateMutability\":\"nonpayable\",\"type\":\"constructor\"},{\"anonymous\":false,\"inputs\":[{\"indexed\":true,\"name\":\"_from\",\"type\":\"address\"},{\"indexed\":false,\"name\":\"_itemId\",\"type\":\"bytes2\"},{\"indexed\":true,\"name\":\"quantity\",\"type\":\"uint256\"},{\"indexed\":false,\"name\":\"addr\",\"type\":\"string\"}],\"name\":\"OrderLog\",\"type\":\"event\"}];\n",
    "var _bin=\"0x\" + \"6080604052600a60005534801561001557600080fd5b5033600160006101000a81548173ffffffffffffffffffffffffffffffffffffffff021916908373ffffffffffffffffffffffffffffffffffffffff16021790555061037e806100666000396000f3fe608060405260043610610046576000357c01000000000000000000000000000000000000000000000000000000009004806312065fe01461004b5780637a59a92914610076575b600080fd5b34801561005757600080fd5b50610060610166565b6040518082815260200191505060405180910390f35b6101646004803603606081101561008c57600080fd5b8101908080357dffffffffffffffffffffffffffffffffffffffffffffffffffffffffffff1916906020019092919080359060200190929190803590602001906401000000008111156100de57600080fd5b8201836020820111156100f057600080fd5b8035906020019184600183028401116401000000008311171561011257600080fd5b91908080601f016020809104026020016040519081016040528093929190818152602001838380828437600081840152601f19601f8201169050808301925050505050505091929192905050506101e1565b005b6000600160009054906101000a900473ffffffffffffffffffffffffffffffffffffffff1673ffffffffffffffffffffffffffffffffffffffff163373ffffffffffffffffffffffffffffffffffffffff161415156101c457600080fd5b3073ffffffffffffffffffffffffffffffffffffffff1631905090565b600160009054906101000a900473ffffffffffffffffffffffffffffffffffffffff1673ffffffffffffffffffffffffffffffffffffffff163373ffffffffffffffffffffffffffffffffffffffff16141561034d576000805483029050803414151561024d57600080fd5b823373ffffffffffffffffffffffffffffffffffffffff167f0cee52e22e6b387c4183ee502522fa33f030e118cc6065c7a842e8b7c00e4a6a868560405180837dffffffffffffffffffffffffffffffffffffffffffffffffffffffffffff19167dffffffffffffffffffffffffffffffffffffffffffffffffffffffffffff1916815260200180602001828103825283818151815260200191508051906020019080838360005b838110156103105780820151818401526020810190506102f5565b50505050905090810190601f16801561033d5780820380516001836020036101000a031916815260200191505b50935050505060405180910390a3505b50505056fea165627a7a72305820560da9061da1af60ca953dbace7d2a064b565d83b411caec5775810088dfa71c0029\";\n",
    "\n",
    "async function deploy() {\n",
    "    const accounts = await web3.eth.getAccounts();\n",
    "    console.log(\"Deploying the contract from \" + accounts[0]);\n",
    "    var deployed = await new web3.eth.Contract(_abiArray)\n",
    "        .deploy({data: _bin})\n",
    "        .send({from: accounts[0], gas: 2000000}, function(err, transactionHash) {\n",
    "                if(!err) console.log(\"hash: \" + transactionHash); \n",
    "        })\n",
    "\n",
    "    console.log(\"---> The contract deployed to: \" + deployed.options.address)\n",
    "}\n",
    "\n",
    "deploy()"
   ]
  },
  {
   "cell_type": "code",
   "execution_count": 18,
   "metadata": {
    "scrolled": false
   },
   "outputs": [
    {
     "name": "stdout",
     "output_type": "stream",
     "text": [
      "Deploying the contract from 0x8e71085FfEFcCb88a4B54D4c93A866DB7928A486\n",
      "hash: 0x6b1c23c0fe39f834c688ceece11cf1579cffacb0e841dc008cb9abe248b5c313\n",
      "---> The contract deployed to: 0x9a48Cd64348A4Fe938BFF03E40c28F42d955329e\n"
     ]
    }
   ],
   "source": [
    "!node src/OrderEventDeploy.js"
   ]
  },
  {
   "cell_type": "code",
   "execution_count": 5,
   "metadata": {},
   "outputs": [
    {
     "name": "stdout",
     "output_type": "stream",
     "text": [
      "{\n",
      "  blockHash: \"0x613240f178ac0dc240c497dfa63ee67544c11dd34a93b40bbbfd59e6220495d0\",\n",
      "  blockNumber: 688,\n",
      "  contractAddress: \"0x6a4cfc72fe3c88d9f2a1d0b22cf7c75a32eaa6d2\",\n",
      "  cumulativeGasUsed: 335348,\n",
      "  from: \"0x8e71085ffefccb88a4b54d4c93a866db7928a486\",\n",
      "  gasUsed: 335348,\n",
      "  logs: [],\n",
      "  logsBloom: \"0x00000000000000000000000000000000000000000000000000000000000000000000000000000000000000000000000000000000000000000000000000000000000000000000000000000000000000000000000000000000000000000000000000000000000000000000000000000000000000000000000000000000000000000000000000000000000000000000000000000000000000000000000000000000000000000000000000000000000000000000000000000000000000000000000000000000000000000000000000000000000000000000000000000000000000000000000000000000000000000000000000000000000000000000000000000000\",\n",
      "  root: \"0xc2e03b7762b25cdd93e22a2e926998dd34987e6da09c93f5134c72c4ff4a313c\",\n",
      "  to: null,\n",
      "  transactionHash: \"0x60403fc2ad150315e49e087d9bd64f7715b56e43bc8684aa60285e428d0055ea\",\n",
      "  transactionIndex: 0\n",
      "}\n"
     ]
    }
   ],
   "source": [
    "!geth --exec \"eth.getTransactionReceipt('0x60403fc2ad150315e49e087d9bd64f7715b56e43bc8684aa60285e428d0055ea')\" attach http://localhost:8445"
   ]
  },
  {
   "cell_type": "code",
   "execution_count": 20,
   "metadata": {},
   "outputs": [
    {
     "name": "stdout",
     "output_type": "stream",
     "text": [
      "Overwriting src/OrderEventUse.js\n"
     ]
    }
   ],
   "source": [
    "%%writefile src/OrderEventUse.js\n",
    "var Web3=require('web3');\n",
    "var fs=require('fs');\n",
    "var web3;\n",
    "if (typeof web3 !== 'undefined') {\n",
    "    web3 = new Web3(web3.currentProvider);\n",
    "} else {\n",
    "    var web3 = new Web3(new Web3.providers.WebsocketProvider(\"ws://localhost:8446\"));\n",
    "}\n",
    "var _abiArray =[{\"constant\":true,\"inputs\":[],\"name\":\"getBalance\",\"outputs\":[{\"name\":\"\",\"type\":\"uint256\"}],\"payable\":false,\"stateMutability\":\"view\",\"type\":\"function\"},{\"constant\":false,\"inputs\":[{\"name\":\"_itemId\",\"type\":\"bytes2\"},{\"name\":\"quantity\",\"type\":\"uint256\"},{\"name\":\"addr\",\"type\":\"string\"}],\"name\":\"order\",\"outputs\":[],\"payable\":true,\"stateMutability\":\"payable\",\"type\":\"function\"},{\"inputs\":[],\"payable\":false,\"stateMutability\":\"nonpayable\",\"type\":\"constructor\"},{\"anonymous\":false,\"inputs\":[{\"indexed\":true,\"name\":\"_from\",\"type\":\"address\"},{\"indexed\":false,\"name\":\"_itemId\",\"type\":\"bytes2\"},{\"indexed\":true,\"name\":\"quantity\",\"type\":\"uint256\"},{\"indexed\":false,\"name\":\"addr\",\"type\":\"string\"}],\"name\":\"OrderLog\",\"type\":\"event\"}];\n",
    "\n",
    "async function doIt() {\n",
    "    var _order = new web3.eth.Contract(_abiArray, '0x9a48Cd64348A4Fe938BFF03E40c28F42d955329e');\n",
    "    const accounts = await web3.eth.getAccounts();\n",
    "    console.log(\"Account: \" + accounts[0]);\n",
    "    var event = _order.events.OrderLog({\n",
    "            filter: {_from: accounts[0]},\n",
    "            //fromBlock: 'latest', toBlock: 'pending'\n",
    "        }, function (error, result) {\n",
    "        if (!error) {\n",
    "            var log = result.returnValues;\n",
    "            console.log(\"Event fired: \" + JSON.stringify(log));\n",
    "            //console.log(Object.keys(log));\n",
    "            fs.appendFile(\"src/OrderEvent.txt\",log[\"_from\"]+\", \"+log[\"_itemId\"]+\",\"+log[\"quantity\"]+', '+log[\"addr\"]+\"\\n\" , \"utf-8\", function(e){\n",
    "            if(!e) {\n",
    "                console.log(\">> Writing to file\");\n",
    "                \n",
    "                }\n",
    "            });\n",
    "        }\n",
    "    });\n",
    "    \n",
    "    var value;\n",
    "    my = await _order.methods.order(\"0x1111\", 3, \"20 2-gil Hongji-dong Jongro-gu Seoul\")\n",
    "        .send({from: accounts[0], gas: 100000,value:30})\n",
    "    console.log(\"---> MyFunction called \" + JSON.stringify(my.events.OrderLog.returnValues));\n",
    "    my = await _order.methods.order(\"0x1111\", 5, \"20 2-gil Hongji-dong Jongro-gu Seoul\")\n",
    "        .send({from: accounts[0], gas: 100000,value:50})\n",
    "    console.log(\"---> MyFunction called \" + JSON.stringify(my.events.OrderLog.returnValues));\n",
    "    my = await _order.methods.order(\"0x1111\", 20, \"20 2-gil Hongji-dong Jongro-gu Seoul\")\n",
    "        .send({from: accounts[0], gas: 100000,value:200})\n",
    "    console.log(\"---> MyFunction called \" + JSON.stringify(my.events.OrderLog.returnValues));\n",
    "    process.exit(1);\n",
    "    \n",
    "}\n",
    "\n",
    "doIt();\n"
   ]
  },
  {
   "cell_type": "code",
   "execution_count": 21,
   "metadata": {
    "scrolled": false
   },
   "outputs": [
    {
     "name": "stdout",
     "output_type": "stream",
     "text": [
      "Account: 0x8e71085FfEFcCb88a4B54D4c93A866DB7928A486\n",
      "Event fired: {\"0\":\"0x8e71085FfEFcCb88a4B54D4c93A866DB7928A486\",\"1\":\"0x1111\",\"2\":\"3\",\"3\":\"20 2-gil Hongji-dong Jongro-gu Seoul\",\"_from\":\"0x8e71085FfEFcCb88a4B54D4c93A866DB7928A486\",\"_itemId\":\"0x1111\",\"quantity\":\"3\",\"addr\":\"20 2-gil Hongji-dong Jongro-gu Seoul\"}\n",
      "---> MyFunction called {\"0\":\"0x8e71085FfEFcCb88a4B54D4c93A866DB7928A486\",\"1\":\"0x1111\",\"2\":\"3\",\"3\":\"20 2-gil Hongji-dong Jongro-gu Seoul\",\"_from\":\"0x8e71085FfEFcCb88a4B54D4c93A866DB7928A486\",\"_itemId\":\"0x1111\",\"quantity\":\"3\",\"addr\":\"20 2-gil Hongji-dong Jongro-gu Seoul\"}\n",
      ">> Writing to file\n",
      "Event fired: {\"0\":\"0x8e71085FfEFcCb88a4B54D4c93A866DB7928A486\",\"1\":\"0x1111\",\"2\":\"5\",\"3\":\"20 2-gil Hongji-dong Jongro-gu Seoul\",\"_from\":\"0x8e71085FfEFcCb88a4B54D4c93A866DB7928A486\",\"_itemId\":\"0x1111\",\"quantity\":\"5\",\"addr\":\"20 2-gil Hongji-dong Jongro-gu Seoul\"}\n",
      ">> Writing to file\n",
      "---> MyFunction called {\"0\":\"0x8e71085FfEFcCb88a4B54D4c93A866DB7928A486\",\"1\":\"0x1111\",\"2\":\"5\",\"3\":\"20 2-gil Hongji-dong Jongro-gu Seoul\",\"_from\":\"0x8e71085FfEFcCb88a4B54D4c93A866DB7928A486\",\"_itemId\":\"0x1111\",\"quantity\":\"5\",\"addr\":\"20 2-gil Hongji-dong Jongro-gu Seoul\"}\n",
      "Event fired: {\"0\":\"0x8e71085FfEFcCb88a4B54D4c93A866DB7928A486\",\"1\":\"0x1111\",\"2\":\"20\",\"3\":\"20 2-gil Hongji-dong Jongro-gu Seoul\",\"_from\":\"0x8e71085FfEFcCb88a4B54D4c93A866DB7928A486\",\"_itemId\":\"0x1111\",\"quantity\":\"20\",\"addr\":\"20 2-gil Hongji-dong Jongro-gu Seoul\"}\n",
      ">> Writing to file\n",
      "---> MyFunction called {\"0\":\"0x8e71085FfEFcCb88a4B54D4c93A866DB7928A486\",\"1\":\"0x1111\",\"2\":\"20\",\"3\":\"20 2-gil Hongji-dong Jongro-gu Seoul\",\"_from\":\"0x8e71085FfEFcCb88a4B54D4c93A866DB7928A486\",\"_itemId\":\"0x1111\",\"quantity\":\"20\",\"addr\":\"20 2-gil Hongji-dong Jongro-gu Seoul\"}\n"
     ]
    }
   ],
   "source": [
    "!node src/OrderEventUse.js"
   ]
  },
  {
   "cell_type": "code",
   "execution_count": 22,
   "metadata": {
    "scrolled": false
   },
   "outputs": [
    {
     "name": "stdout",
     "output_type": "stream",
     "text": [
      "0x8e71085FfEFcCb88a4B54D4c93A866DB7928A486, 0x1111,3, 20 2-gil Hongji-dong Jongro-gu Seoul\n",
      "0x8e71085FfEFcCb88a4B54D4c93A866DB7928A486, 0x1111,5, 20 2-gil Hongji-dong Jongro-gu Seoul\n",
      "0x8e71085FfEFcCb88a4B54D4c93A866DB7928A486, 0x1111,20, 20 2-gil Hongji-dong Jongro-gu Seoul\n"
     ]
    }
   ],
   "source": [
    "!type src\\OrderEvent.txt"
   ]
  },
  {
   "cell_type": "code",
   "execution_count": null,
   "metadata": {},
   "outputs": [],
   "source": []
  }
 ],
 "metadata": {
  "kernelspec": {
   "display_name": "Python 3",
   "language": "python",
   "name": "python3"
  },
  "language_info": {
   "codemirror_mode": {
    "name": "ipython",
    "version": 3
   },
   "file_extension": ".py",
   "mimetype": "text/x-python",
   "name": "python",
   "nbconvert_exporter": "python",
   "pygments_lexer": "ipython3",
   "version": "3.7.3"
  }
 },
 "nbformat": 4,
 "nbformat_minor": 2
}
