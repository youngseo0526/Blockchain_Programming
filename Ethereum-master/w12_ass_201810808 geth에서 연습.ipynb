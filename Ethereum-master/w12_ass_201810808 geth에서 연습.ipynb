{
 "cells": [
  {
   "cell_type": "markdown",
   "metadata": {},
   "source": [
    "# 휴먼지능정보공학과 201810808 정민지"
   ]
  },
  {
   "cell_type": "markdown",
   "metadata": {},
   "source": [
    "## 연습문제 Multiply7\n",
    "\n",
    "\n",
    "\n",
    "앞서 Multiply7을 구현해 보았다.\n",
    "\n",
    "이 컨트랙에 이벤트를 추가해서 구현해보자.\n",
    "\n",
    "geth 또는 ganache 가운데 어느 것이나 선택해서 실행해도 좋다.\n",
    "\n",
    "아래 주어진 미완성 코드를 구현해서 노드에서 이벤트를 띄워보자.\n",
    "\n",
    "\n",
    "\n",
    "* 함수는 param4인자를 받아서 곱하기 7 연산을 한다. 8과 16의 연산을 실행하자. 그 결과는 56과 112가 출력될 것이다.\n",
    "\n",
    "* 이벤트로 넘겨주는 매개변수 param1은 누가 이 함수를 호출했는지 (address), param2는 언제 호출되었는지 (timestamp), 마지막으로 param3는 연산결과를 출력하도록 한다.\n",
    "\n",
    "\n",
    "\n",
    "* 미완성 코드\n",
    "```\n",
    "contract Multiply7Event {\n",
    "    event Print(param1, param2, param3);\n",
    "    function multiply(param4)\n",
    "```\n",
    "\n"
   ]
  },
  {
   "cell_type": "markdown",
   "metadata": {},
   "source": [
    "#### 단계 1. 컨트랙 개발"
   ]
  },
  {
   "cell_type": "code",
   "execution_count": 1,
   "metadata": {},
   "outputs": [
    {
     "name": "stdout",
     "output_type": "stream",
     "text": [
      "Overwriting src/Multiply7Event.sol\n"
     ]
    }
   ],
   "source": [
    "%%writefile src/Multiply7Event.sol\n",
    "pragma solidity 0.5.1;\n",
    "contract Multiply7Event {\n",
    "    event Print(address param1,uint256 param2,uint param3);\n",
    "    function multiply(uint param4) public{\n",
    "        emit Print(msg.sender,now,param4*7);\n",
    "    }\n",
    "}"
   ]
  },
  {
   "cell_type": "markdown",
   "metadata": {},
   "source": [
    "#### 단계 2. 컴파일"
   ]
  },
  {
   "cell_type": "code",
   "execution_count": 2,
   "metadata": {},
   "outputs": [
    {
     "name": "stdout",
     "output_type": "stream",
     "text": [
      "\n",
      "======= src/Multiply7Event.sol:Multiply7Event =======\n",
      "Gas estimation:\n",
      "construction:\n",
      "   105 + 56400 = 56505\n",
      "external:\n",
      "   multiply(uint256):\t1854\n",
      "Binary: \n",
      "608060405234801561001057600080fd5b5061011a806100206000396000f3fe6080604052600436106039576000357c010000000000000000000000000000000000000000000000000000000090048063c6888fa114603e575b600080fd5b348015604957600080fd5b50607360048036036020811015605e57600080fd5b81019080803590602001909291905050506075565b005b7f91da4985ab616136202f4e81fd2d8cac1eb12591132d609cece407f7c6fb9205334260078402604051808473ffffffffffffffffffffffffffffffffffffffff1673ffffffffffffffffffffffffffffffffffffffff168152602001838152602001828152602001935050505060405180910390a15056fea165627a7a723058208e3f4dc7f2f9fdf9be377dd06070462d126d774009a418d98908c211a63560c40029\n",
      "Contract JSON ABI \n",
      "[{\"constant\":false,\"inputs\":[{\"name\":\"param4\",\"type\":\"uint256\"}],\"name\":\"multiply\",\"outputs\":[],\"payable\":false,\"stateMutability\":\"nonpayable\",\"type\":\"function\"},{\"anonymous\":false,\"inputs\":[{\"indexed\":false,\"name\":\"param1\",\"type\":\"address\"},{\"indexed\":false,\"name\":\"param2\",\"type\":\"uint256\"},{\"indexed\":false,\"name\":\"param3\",\"type\":\"uint256\"}],\"name\":\"Print\",\"type\":\"event\"}]\n"
     ]
    }
   ],
   "source": [
    "!solc --gas --abi --bin src/Multiply7Event.sol"
   ]
  },
  {
   "cell_type": "markdown",
   "metadata": {},
   "source": [
    "#### 단계 3. 컨트랙 배포"
   ]
  },
  {
   "cell_type": "code",
   "execution_count": 3,
   "metadata": {},
   "outputs": [
    {
     "name": "stdout",
     "output_type": "stream",
     "text": [
      "Overwriting src/Multiply7EventDeploy.js\n"
     ]
    }
   ],
   "source": [
    "%%writefile src/Multiply7EventDeploy.js\n",
    "var Web3 = require('web3');\n",
    "var web3 = new Web3(new Web3.providers.HttpProvider(\"http://localhost:8445\"));\n",
    "var _abiArray = [{\"constant\":false,\"inputs\":[{\"name\":\"param4\",\"type\":\"uint256\"}],\"name\":\"multiply\",\"outputs\":[],\"payable\":false,\"stateMutability\":\"nonpayable\",\"type\":\"function\"},{\"anonymous\":false,\"inputs\":[{\"indexed\":false,\"name\":\"param1\",\"type\":\"address\"},{\"indexed\":false,\"name\":\"param2\",\"type\":\"uint256\"},{\"indexed\":false,\"name\":\"param3\",\"type\":\"uint256\"}],\"name\":\"Print\",\"type\":\"event\"}];\n",
    "var _bin = \"0x\" + \"608060405234801561001057600080fd5b5061011a806100206000396000f3fe6080604052600436106039576000357c010000000000000000000000000000000000000000000000000000000090048063c6888fa114603e575b600080fd5b348015604957600080fd5b50607360048036036020811015605e57600080fd5b81019080803590602001909291905050506075565b005b7f91da4985ab616136202f4e81fd2d8cac1eb12591132d609cece407f7c6fb9205334260078402604051808473ffffffffffffffffffffffffffffffffffffffff1673ffffffffffffffffffffffffffffffffffffffff168152602001838152602001828152602001935050505060405180910390a15056fea165627a7a723058208e3f4dc7f2f9fdf9be377dd06070462d126d774009a418d98908c211a63560c40029\";\n",
    "async function deploy() {\n",
    "    const accounts = await web3.eth.getAccounts();//값 반환 기다림\n",
    "    console.log(\"Deploying the contract from \" + accounts[0]);\n",
    "    var deployed = await new web3.eth.Contract(_abiArray)\n",
    "        .deploy({data: _bin})\n",
    "        .send({from: accounts[0], gas: 1000000}, function(err, transactionHash) {\n",
    "                if(!err) console.log(\"hash: \" + transactionHash); \n",
    "        })\n",
    "    console.log(\"---> The contract deployed to: \" + deployed.options.address)\n",
    "}\n",
    "deploy()"
   ]
  },
  {
   "cell_type": "code",
   "execution_count": 4,
   "metadata": {},
   "outputs": [
    {
     "name": "stdout",
     "output_type": "stream",
     "text": [
      "Deploying the contract from 0x8e71085FfEFcCb88a4B54D4c93A866DB7928A486\n",
      "hash: 0x68dd816fb3401fc155a00633cbd087c564defb7b14a4c36daf27e6b9d2bd61c8\n",
      "---> The contract deployed to: 0xd3685D3bae5ed73249146c6F4292bFad74784938\n"
     ]
    }
   ],
   "source": [
    "!node src/Multiply7EventDeploy.js"
   ]
  },
  {
   "cell_type": "markdown",
   "metadata": {},
   "source": [
    "#### 단계 4. 사용"
   ]
  },
  {
   "cell_type": "code",
   "execution_count": 7,
   "metadata": {},
   "outputs": [
    {
     "name": "stdout",
     "output_type": "stream",
     "text": [
      "Overwriting src/Multiply7EventUse.js\n"
     ]
    }
   ],
   "source": [
    "%%writefile src/Multiply7EventUse.js\n",
    "var Web3=require('web3');\n",
    "var web3 = new Web3(new Web3.providers.WebsocketProvider(\"ws://localhost:8446\"));\n",
    "var _abiArray = [{\"constant\":false,\"inputs\":[{\"name\":\"param4\",\"type\":\"uint256\"}],\"name\":\"multiply\",\"outputs\":[],\"payable\":false,\"stateMutability\":\"nonpayable\",\"type\":\"function\"},{\"anonymous\":false,\"inputs\":[{\"indexed\":false,\"name\":\"param1\",\"type\":\"address\"},{\"indexed\":false,\"name\":\"param2\",\"type\":\"uint256\"},{\"indexed\":false,\"name\":\"param3\",\"type\":\"uint256\"}],\"name\":\"Print\",\"type\":\"event\"}];\n",
    "var _test = new web3.eth.Contract(_abiArray, '0xd3685D3bae5ed73249146c6F4292bFad74784938');\n",
    "var event = _test.events.Print({fromBlock: 0}, function (error, result) {\n",
    "    if (!error) {\n",
    "        console.log(\"Event fired: \" + JSON.stringify(result) + \"\\n---> \" + JSON.stringify(result.returnValues));\n",
    "    }\n",
    "});\n",
    "\n",
    "async function doIt() {\n",
    "    const accounts = await web3.eth.getAccounts();\n",
    "    //console.log(\"Account: \" + accounts[0]);\n",
    "    const value = await _test.methods.multiply(8)\n",
    "        .send({from: accounts[0], gas: 364124, gasPrice: '1000000000'})\n",
    "    console.log(value.events.Print.returnValues);\n",
    "    console.log(\"\\n-------------------------answer-------------------------\");\n",
    "    console.log(\"address:\",value.events.Print.returnValues[0]);\n",
    "    console.log(\"timestamp:\",value.events.Print.returnValues[1]);\n",
    "    console.log(\"result:\",value.events.Print.returnValues[2]);\n",
    "    console.log(\"--------------------------------------------------------\\n\");\n",
    "    \n",
    "    const value2 = await _test.methods.multiply(16)\n",
    "        .send({from: accounts[0], gas: 364124, gasPrice: '1000000000'})\n",
    "    console.log(value2.events.Print.returnValues);\n",
    "    console.log(\"\\n-------------------------answer-------------------------\");\n",
    "    console.log(\"address:\",value2.events.Print.returnValues[0]);\n",
    "    console.log(\"timestamp:\",value2.events.Print.returnValues[1]);\n",
    "    console.log(\"result:\",value2.events.Print.returnValues[2]);\n",
    "    console.log(\"--------------------------------------------------------\\n\");\n",
    "    process.exit(1);\n",
    "}\n",
    "doIt()"
   ]
  },
  {
   "cell_type": "markdown",
   "metadata": {},
   "source": [
    "## 답"
   ]
  },
  {
   "cell_type": "code",
   "execution_count": 8,
   "metadata": {
    "scrolled": true
   },
   "outputs": [
    {
     "name": "stdout",
     "output_type": "stream",
     "text": [
      "Event fired: {\"address\":\"0xd3685D3bae5ed73249146c6F4292bFad74784938\",\"blockNumber\":226,\"transactionHash\":\"0x9233e47dbee3213634d31471d148cbb60a8d6192386458a34d05e78f5efa6bf7\",\"transactionIndex\":0,\"blockHash\":\"0xcd48386849d4f606f14b0215499243e8df596d95777c32eb6ca4bbb595036b00\",\"logIndex\":0,\"removed\":false,\"id\":\"log_16ba740b\",\"returnValues\":{\"0\":\"0x8e71085FfEFcCb88a4B54D4c93A866DB7928A486\",\"1\":\"1592299772\",\"2\":\"56\",\"param1\":\"0x8e71085FfEFcCb88a4B54D4c93A866DB7928A486\",\"param2\":\"1592299772\",\"param3\":\"56\"},\"event\":\"Print\",\"signature\":\"0x91da4985ab616136202f4e81fd2d8cac1eb12591132d609cece407f7c6fb9205\",\"raw\":{\"data\":\"0x0000000000000000000000008e71085ffefccb88a4b54d4c93a866db7928a486000000000000000000000000000000000000000000000000000000005ee890fc0000000000000000000000000000000000000000000000000000000000000038\",\"topics\":[\"0x91da4985ab616136202f4e81fd2d8cac1eb12591132d609cece407f7c6fb9205\"]}}\n",
      "---> {\"0\":\"0x8e71085FfEFcCb88a4B54D4c93A866DB7928A486\",\"1\":\"1592299772\",\"2\":\"56\",\"param1\":\"0x8e71085FfEFcCb88a4B54D4c93A866DB7928A486\",\"param2\":\"1592299772\",\"param3\":\"56\"}\n",
      "Result {\n",
      "  '0': '0x8e71085FfEFcCb88a4B54D4c93A866DB7928A486',\n",
      "  '1': '1592299772',\n",
      "  '2': '56',\n",
      "  param1: '0x8e71085FfEFcCb88a4B54D4c93A866DB7928A486',\n",
      "  param2: '1592299772',\n",
      "  param3: '56'\n",
      "}\n",
      "\n",
      "-------------------------answer-------------------------\n",
      "address: 0x8e71085FfEFcCb88a4B54D4c93A866DB7928A486\n",
      "timestamp: 1592299772\n",
      "result: 56\n",
      "--------------------------------------------------------\n",
      "\n",
      "Event fired: {\"address\":\"0xd3685D3bae5ed73249146c6F4292bFad74784938\",\"blockNumber\":227,\"transactionHash\":\"0x70779340b0383a7c23d19fae0ce27f505a5f021b41516aa43417f91d20472bdf\",\"transactionIndex\":0,\"blockHash\":\"0xa93ca6bc8cda55b20ccddd6d72bd8099457a453087671ee0d975d8bd778e7744\",\"logIndex\":0,\"removed\":false,\"id\":\"log_62d4fd90\",\"returnValues\":{\"0\":\"0x8e71085FfEFcCb88a4B54D4c93A866DB7928A486\",\"1\":\"1592299775\",\"2\":\"112\",\"param1\":\"0x8e71085FfEFcCb88a4B54D4c93A866DB7928A486\",\"param2\":\"1592299775\",\"param3\":\"112\"},\"event\":\"Print\",\"signature\":\"0x91da4985ab616136202f4e81fd2d8cac1eb12591132d609cece407f7c6fb9205\",\"raw\":{\"data\":\"0x0000000000000000000000008e71085ffefccb88a4b54d4c93a866db7928a486000000000000000000000000000000000000000000000000000000005ee890ff0000000000000000000000000000000000000000000000000000000000000070\",\"topics\":[\"0x91da4985ab616136202f4e81fd2d8cac1eb12591132d609cece407f7c6fb9205\"]}}\n",
      "---> {\"0\":\"0x8e71085FfEFcCb88a4B54D4c93A866DB7928A486\",\"1\":\"1592299775\",\"2\":\"112\",\"param1\":\"0x8e71085FfEFcCb88a4B54D4c93A866DB7928A486\",\"param2\":\"1592299775\",\"param3\":\"112\"}\n",
      "Result {\n",
      "  '0': '0x8e71085FfEFcCb88a4B54D4c93A866DB7928A486',\n",
      "  '1': '1592299775',\n",
      "  '2': '112',\n",
      "  param1: '0x8e71085FfEFcCb88a4B54D4c93A866DB7928A486',\n",
      "  param2: '1592299775',\n",
      "  param3: '112'\n",
      "}\n",
      "\n",
      "-------------------------answer-------------------------\n",
      "address: 0x8e71085FfEFcCb88a4B54D4c93A866DB7928A486\n",
      "timestamp: 1592299775\n",
      "result: 112\n",
      "--------------------------------------------------------\n",
      "\n"
     ]
    }
   ],
   "source": [
    "!node src/Multiply7EventUse.js"
   ]
  },
  {
   "cell_type": "code",
   "execution_count": null,
   "metadata": {},
   "outputs": [],
   "source": []
  }
 ],
 "metadata": {
  "kernelspec": {
   "display_name": "Python 3",
   "language": "python",
   "name": "python3"
  },
  "language_info": {
   "codemirror_mode": {
    "name": "ipython",
    "version": 3
   },
   "file_extension": ".py",
   "mimetype": "text/x-python",
   "name": "python",
   "nbconvert_exporter": "python",
   "pygments_lexer": "ipython3",
   "version": "3.7.3"
  }
 },
 "nbformat": 4,
 "nbformat_minor": 2
}
