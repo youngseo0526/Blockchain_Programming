{
 "cells": [
  {
   "cell_type": "markdown",
   "metadata": {},
   "source": [
    "## 무작위 수의 생성"
   ]
  },
  {
   "cell_type": "code",
   "execution_count": 32,
   "metadata": {},
   "outputs": [
    {
     "name": "stdout",
     "output_type": "stream",
     "text": [
      "Writing src/Random.sol\n"
     ]
    }
   ],
   "source": [
    "%%writefile src/Random.sol\n",
    "pragma solidity 0.5.1;\n",
    "contract Random {\n",
    "    function rand() public view returns(bytes32) {\n",
    "        return keccak256(abi.encodePacked(block.timestamp, block.difficulty));\n",
    "    }\n",
    "    function rand0and250() public view returns(uint8) {\n",
    "        return uint8(uint256(keccak256(abi.encodePacked(block.timestamp, block.difficulty)))%251);\n",
    "    }\n",
    "    function rand0and9() public view returns(uint8) {\n",
    "        return uint8(uint256(keccak256(abi.encodePacked(block.timestamp, block.difficulty)))%10);\n",
    "    }\n",
    "    function rand0and2() public view returns(uint8) {\n",
    "        return uint8(uint256(keccak256(abi.encodePacked(block.timestamp, block.difficulty)))%3);\n",
    "    }\n",
    "    function genRandomInteger() view public returns(uint8[] memory) {\n",
    "        uint8[] memory r = new uint8[](10);\n",
    "        for(uint i = 0; i<r.length; i++)\n",
    "            //r[i] = uint8(uint256(keccak256(abi.encodePacked(block.timestamp, block.difficulty)))%10);\n",
    "            //change timestamp by adding i, otherwise all the same numbers generated\n",
    "            r[i] = uint8(uint256(keccak256(abi.encodePacked(block.timestamp + i, block.difficulty)))%10);\n",
    "        return r;\n",
    "    }\n",
    "}"
   ]
  },
  {
   "cell_type": "code",
   "execution_count": 34,
   "metadata": {
    "scrolled": false
   },
   "outputs": [
    {
     "name": "stdout",
     "output_type": "stream",
     "text": [
      "\n",
      "======= src/Random.sol:Random =======\n",
      "Gas estimation:\n",
      "construction:\n",
      "   226 + 181000 = 181226\n",
      "external:\n",
      "   genRandomInteger():\tinfinite\n",
      "   rand():\t397\n",
      "   rand0and2():\t495\n",
      "   rand0and250():\t429\n",
      "   rand0and9():\t473\n",
      "Binary: \n",
      "608060405234801561001057600080fd5b50610389806100206000396000f3fe608060405260043610610067576000357c010000000000000000000000000000000000000000000000000000000090048063013a652a1461006c57806305f68f8a146100d85780633b3dca7614610109578063d83fa0c514610134578063ec5be69c14610165575b600080fd5b34801561007857600080fd5b50610081610196565b6040518080602001828103825283818151815260200191508051906020019060200280838360005b838110156100c45780820151818401526020810190506100a9565b505050509050019250505060405180910390f35b3480156100e457600080fd5b506100ed610255565b604051808260ff1660ff16815260200191505060405180910390f35b34801561011557600080fd5b5061011e61029b565b6040518082815260200191505060405180910390f35b34801561014057600080fd5b506101496102d1565b604051808260ff1660ff16815260200191505060405180910390f35b34801561017157600080fd5b5061017a610317565b604051808260ff1660ff16815260200191505060405180910390f35b606080600a6040519080825280602002602001820160405280156101c95781602001602082028038833980820191505090505b50905060008090505b815181101561024d57600a814201446040516020018083815260200182815260200192505050604051602081830303815290604052805190602001206001900481151561021b57fe5b06828281518110151561022a57fe5b9060200190602002019060ff16908160ff168152505080806001019150506101d2565b508091505090565b600060fb42446040516020018083815260200182815260200192505050604051602081830303815290604052805190602001206001900481151561029557fe5b06905090565b60004244604051602001808381526020018281526020019250505060405160208183030381529060405280519060200120905090565b6000600a42446040516020018083815260200182815260200192505050604051602081830303815290604052805190602001206001900481151561031157fe5b06905090565b6000600342446040516020018083815260200182815260200192505050604051602081830303815290604052805190602001206001900481151561035757fe5b0690509056fea165627a7a72305820bdb60a0d24f9f71b83880e78ff18c844a64c5e96391ce32167b7c1f0498112c90029\n",
      "Contract JSON ABI \n",
      "[{\"constant\":true,\"inputs\":[],\"name\":\"genRandomInteger\",\"outputs\":[{\"name\":\"\",\"type\":\"uint8[]\"}],\"payable\":false,\"stateMutability\":\"view\",\"type\":\"function\"},{\"constant\":true,\"inputs\":[],\"name\":\"rand0and250\",\"outputs\":[{\"name\":\"\",\"type\":\"uint8\"}],\"payable\":false,\"stateMutability\":\"view\",\"type\":\"function\"},{\"constant\":true,\"inputs\":[],\"name\":\"rand\",\"outputs\":[{\"name\":\"\",\"type\":\"bytes32\"}],\"payable\":false,\"stateMutability\":\"view\",\"type\":\"function\"},{\"constant\":true,\"inputs\":[],\"name\":\"rand0and9\",\"outputs\":[{\"name\":\"\",\"type\":\"uint8\"}],\"payable\":false,\"stateMutability\":\"view\",\"type\":\"function\"},{\"constant\":true,\"inputs\":[],\"name\":\"rand0and2\",\"outputs\":[{\"name\":\"\",\"type\":\"uint8\"}],\"payable\":false,\"stateMutability\":\"view\",\"type\":\"function\"}]\n"
     ]
    }
   ],
   "source": [
    "!solc --gas --abi --bin src/Random.sol"
   ]
  },
  {
   "cell_type": "code",
   "execution_count": 38,
   "metadata": {},
   "outputs": [
    {
     "name": "stdout",
     "output_type": "stream",
     "text": [
      "Writing src/RandomDeploy.js\n"
     ]
    }
   ],
   "source": [
    "%%writefile src/RandomDeploy.js\n",
    "var Web3=require('web3');\n",
    "var web3 = new Web3(new Web3.providers.HttpProvider(\"http://localhost:8445\"));\n",
    "var _abiArray =[{\"constant\":true,\"inputs\":[],\"name\":\"genRandomInteger\",\"outputs\":[{\"name\":\"\",\"type\":\"uint8[]\"}],\"payable\":false,\"stateMutability\":\"view\",\"type\":\"function\"},{\"constant\":true,\"inputs\":[],\"name\":\"rand0and250\",\"outputs\":[{\"name\":\"\",\"type\":\"uint8\"}],\"payable\":false,\"stateMutability\":\"view\",\"type\":\"function\"},{\"constant\":true,\"inputs\":[],\"name\":\"rand\",\"outputs\":[{\"name\":\"\",\"type\":\"bytes32\"}],\"payable\":false,\"stateMutability\":\"view\",\"type\":\"function\"},{\"constant\":true,\"inputs\":[],\"name\":\"rand0and9\",\"outputs\":[{\"name\":\"\",\"type\":\"uint8\"}],\"payable\":false,\"stateMutability\":\"view\",\"type\":\"function\"},{\"constant\":true,\"inputs\":[],\"name\":\"rand0and2\",\"outputs\":[{\"name\":\"\",\"type\":\"uint8\"}],\"payable\":false,\"stateMutability\":\"view\",\"type\":\"function\"}];\n",
    "var _bin=\"0x\" + \"608060405234801561001057600080fd5b50610389806100206000396000f3fe608060405260043610610067576000357c010000000000000000000000000000000000000000000000000000000090048063013a652a1461006c57806305f68f8a146100d85780633b3dca7614610109578063d83fa0c514610134578063ec5be69c14610165575b600080fd5b34801561007857600080fd5b50610081610196565b6040518080602001828103825283818151815260200191508051906020019060200280838360005b838110156100c45780820151818401526020810190506100a9565b505050509050019250505060405180910390f35b3480156100e457600080fd5b506100ed610255565b604051808260ff1660ff16815260200191505060405180910390f35b34801561011557600080fd5b5061011e61029b565b6040518082815260200191505060405180910390f35b34801561014057600080fd5b506101496102d1565b604051808260ff1660ff16815260200191505060405180910390f35b34801561017157600080fd5b5061017a610317565b604051808260ff1660ff16815260200191505060405180910390f35b606080600a6040519080825280602002602001820160405280156101c95781602001602082028038833980820191505090505b50905060008090505b815181101561024d57600a814201446040516020018083815260200182815260200192505050604051602081830303815290604052805190602001206001900481151561021b57fe5b06828281518110151561022a57fe5b9060200190602002019060ff16908160ff168152505080806001019150506101d2565b508091505090565b600060fb42446040516020018083815260200182815260200192505050604051602081830303815290604052805190602001206001900481151561029557fe5b06905090565b60004244604051602001808381526020018281526020019250505060405160208183030381529060405280519060200120905090565b6000600a42446040516020018083815260200182815260200192505050604051602081830303815290604052805190602001206001900481151561031157fe5b06905090565b6000600342446040516020018083815260200182815260200192505050604051602081830303815290604052805190602001206001900481151561035757fe5b0690509056fea165627a7a72305820bdb60a0d24f9f71b83880e78ff18c844a64c5e96391ce32167b7c1f0498112c90029\";\n",
    "\n",
    "async function deploy() {\n",
    "    const accounts = await web3.eth.getAccounts();\n",
    "    console.log(\"Deploying the contract from \" + accounts[0]);\n",
    "    var deployed = await new web3.eth.Contract(_abiArray)\n",
    "        .deploy({data: _bin})\n",
    "        .send({from: accounts[0], gas: 2000000}, function(err, transactionHash) {\n",
    "                if(!err) console.log(\"hash: \" + transactionHash); \n",
    "        })\n",
    "\n",
    "    console.log(\"---> The contract deployed to: \" + deployed.options.address)\n",
    "}\n",
    "\n",
    "deploy()"
   ]
  },
  {
   "cell_type": "code",
   "execution_count": 39,
   "metadata": {},
   "outputs": [
    {
     "name": "stdout",
     "output_type": "stream",
     "text": [
      "Deploying the contract from 0x8e71085FfEFcCb88a4B54D4c93A866DB7928A486\n",
      "hash: 0xb5b932617b9ec55422f0572e58c9ec650b29bb5356cd61e3570c83f189797ebe\n",
      "---> The contract deployed to: 0x3e6e1feD23e4c0b7c1F943b11FA60611A719699f\n"
     ]
    }
   ],
   "source": [
    "!node src/RandomDeploy.js"
   ]
  },
  {
   "cell_type": "code",
   "execution_count": 48,
   "metadata": {},
   "outputs": [
    {
     "name": "stdout",
     "output_type": "stream",
     "text": [
      "Overwriting src/RandomUse.js\n"
     ]
    }
   ],
   "source": [
    "%%writefile src/RandomUse.js\n",
    "var Web3=require('web3');\n",
    "var fs=require('fs');\n",
    "var web3;\n",
    "if (typeof web3 !== 'undefined') {\n",
    "    web3 = new Web3(web3.currentProvider);\n",
    "} else {\n",
    "    var web3 = new Web3(new Web3.providers.HttpProvider(\"http://localhost:8445\"));\n",
    "}\n",
    "var _abiArray =[{\"constant\":true,\"inputs\":[],\"name\":\"genRandomInteger\",\"outputs\":[{\"name\":\"\",\"type\":\"uint8[]\"}],\"payable\":false,\"stateMutability\":\"view\",\"type\":\"function\"},{\"constant\":true,\"inputs\":[],\"name\":\"rand0and250\",\"outputs\":[{\"name\":\"\",\"type\":\"uint8\"}],\"payable\":false,\"stateMutability\":\"view\",\"type\":\"function\"},{\"constant\":true,\"inputs\":[],\"name\":\"rand\",\"outputs\":[{\"name\":\"\",\"type\":\"bytes32\"}],\"payable\":false,\"stateMutability\":\"view\",\"type\":\"function\"},{\"constant\":true,\"inputs\":[],\"name\":\"rand0and9\",\"outputs\":[{\"name\":\"\",\"type\":\"uint8\"}],\"payable\":false,\"stateMutability\":\"view\",\"type\":\"function\"},{\"constant\":true,\"inputs\":[],\"name\":\"rand0and2\",\"outputs\":[{\"name\":\"\",\"type\":\"uint8\"}],\"payable\":false,\"stateMutability\":\"view\",\"type\":\"function\"}];\n",
    "async function doIt() {\n",
    "    var rand= new web3.eth.Contract(_abiArray, '0x3e6e1feD23e4c0b7c1F943b11FA60611A719699f');\n",
    "    const accounts = await web3.eth.getAccounts();\n",
    "    console.log(\"Account: \" + accounts[0]);\n",
    "    \n",
    "    //계정 A,B 설정\n",
    "    await rand.methods.rand0and2().send({from: accounts[0], gas: 122209});\n",
    "    //초기 금액 출력\n",
    "    rand.methods.rand0and2().call().then(function(value) {console.log(value)});\n",
    "}\n",
    "\n",
    "doIt();\n"
   ]
  },
  {
   "cell_type": "code",
   "execution_count": 49,
   "metadata": {},
   "outputs": [
    {
     "name": "stdout",
     "output_type": "stream",
     "text": [
      "Account: 0x8e71085FfEFcCb88a4B54D4c93A866DB7928A486\n",
      "0\n"
     ]
    }
   ],
   "source": [
    "!node src/Randomuse.js"
   ]
  },
  {
   "cell_type": "code",
   "execution_count": 50,
   "metadata": {},
   "outputs": [
    {
     "name": "stdout",
     "output_type": "stream",
     "text": [
      "Account: 0x8e71085FfEFcCb88a4B54D4c93A866DB7928A486\n",
      "1\n"
     ]
    }
   ],
   "source": [
    "!node src/Randomuse.js"
   ]
  },
  {
   "cell_type": "code",
   "execution_count": 51,
   "metadata": {},
   "outputs": [
    {
     "name": "stdout",
     "output_type": "stream",
     "text": [
      "Account: 0x8e71085FfEFcCb88a4B54D4c93A866DB7928A486\n",
      "1\n"
     ]
    }
   ],
   "source": [
    "!node src/Randomuse.js"
   ]
  },
  {
   "cell_type": "code",
   "execution_count": null,
   "metadata": {},
   "outputs": [],
   "source": []
  },
  {
   "cell_type": "code",
   "execution_count": null,
   "metadata": {},
   "outputs": [],
   "source": []
  },
  {
   "cell_type": "code",
   "execution_count": null,
   "metadata": {},
   "outputs": [],
   "source": []
  },
  {
   "cell_type": "code",
   "execution_count": null,
   "metadata": {},
   "outputs": [],
   "source": []
  },
  {
   "cell_type": "code",
   "execution_count": null,
   "metadata": {},
   "outputs": [],
   "source": []
  },
  {
   "cell_type": "code",
   "execution_count": null,
   "metadata": {},
   "outputs": [],
   "source": []
  },
  {
   "cell_type": "code",
   "execution_count": null,
   "metadata": {},
   "outputs": [],
   "source": []
  },
  {
   "cell_type": "code",
   "execution_count": null,
   "metadata": {},
   "outputs": [],
   "source": []
  },
  {
   "cell_type": "code",
   "execution_count": null,
   "metadata": {},
   "outputs": [],
   "source": []
  },
  {
   "cell_type": "code",
   "execution_count": null,
   "metadata": {},
   "outputs": [],
   "source": []
  },
  {
   "cell_type": "code",
   "execution_count": null,
   "metadata": {},
   "outputs": [],
   "source": []
  },
  {
   "cell_type": "markdown",
   "metadata": {},
   "source": [
    "## Solidity 결합"
   ]
  },
  {
   "cell_type": "code",
   "execution_count": 26,
   "metadata": {},
   "outputs": [
    {
     "name": "stdout",
     "output_type": "stream",
     "text": [
      "Overwriting src/C1C2.sol\n"
     ]
    }
   ],
   "source": [
    "%%writefile src/C1C2.sol\n",
    "//pragma solidity 0.5.1;\n",
    "pragma solidity 0.4.21;\n",
    "contract C1 {\n",
    "    uint128 v1;\n",
    "    \n",
    "    function set(uint128 _v1) public {\n",
    "        v1=_v1;\n",
    "    }\n",
    "    function get() public view returns(uint128) {\n",
    "        return v1;\n",
    "    }\n",
    "    function get7() public pure returns(uint128) {\n",
    "        return 7;\n",
    "    }\n",
    "}\n",
    "\n",
    "contract C2 {\n",
    "    C1 c1;\n",
    "    function C2() public {  //0.4.21 constructor\n",
    "    //constructor() public {    //0.6 constructor\n",
    "        c1=new C1();\n",
    "    }\n",
    "    function set(uint128 _v1) public {\n",
    "        c1.set(_v1);\n",
    "    }\n",
    "    function get() public view returns(uint128) {\n",
    "        return c1.get();\n",
    "    }\n",
    "    function get7() public view returns(uint128) {\n",
    "        return c1.get7();\n",
    "    }\n",
    "    function getC1Address() public view returns(address) {\n",
    "        return address(c1);\n",
    "    }\n",
    "}"
   ]
  },
  {
   "cell_type": "code",
   "execution_count": 27,
   "metadata": {},
   "outputs": [],
   "source": [
    "!solc src/C1C2.sol --combined-json abi,bin > src/C1C2.json"
   ]
  },
  {
   "cell_type": "code",
   "execution_count": 28,
   "metadata": {},
   "outputs": [
    {
     "name": "stdout",
     "output_type": "stream",
     "text": [
      "Overwriting src/C1C2Deploy.js\n"
     ]
    }
   ],
   "source": [
    "%%writefile src/C1C2Deploy.js\n",
    "var Web3=require('web3');\n",
    "var web3=new Web3(new Web3.providers.HttpProvider(\"http://localhost:8445\"));\n",
    "var fs=require('fs');\n",
    "var _str = fs.readFileSync(\"src/C1C2.json\");\n",
    "var _json=JSON.parse(_str)\n",
    "//var _abiArray=JSON.parse(_json.contracts.sHello2.abi);\n",
    "var _abiArray=JSON.parse(_json.contracts[\"src/C1C2.sol:C2\"].abi);\n",
    "//var _bin=_json.contracts.sHello2.bin;\n",
    "var _bin=\"0x\"+_json.contracts[\"src/C1C2.sol:C2\"].bin;\n",
    "\n",
    "//unlock the account with a password provided\n",
    "//web3.personal.unlockAccount(web3.eth.accounts[0],'password');\n",
    "async function deploy() {\n",
    "    const accounts = await web3.eth.getAccounts();\n",
    "    console.log(\"Deploying the contract from \" + accounts[0]);\n",
    "    var deployed = await new web3.eth.Contract(_abiArray)\n",
    "        .deploy({data: _bin})\n",
    "        .send({from: accounts[0], gas: 800000})\n",
    "        .on('transactionHash', function(hash){\n",
    "            console.log(\">>> transactionHash\"+hash);\n",
    "        })\n",
    "        .on('receipt', function(receipt){\n",
    "            console.log(\">>> RECEPIT hash: \" + receipt.transactionHash + \"\\n>>> address:\" + receipt.contractAddress);\n",
    "        })\n",
    "        .on('error', function(error, receipt) {\n",
    "            console.log(\">>> ERROR \"+error);\n",
    "        });\n",
    "        //.then(function(newContractInstance){\n",
    "        //    console.log(newContractInstance.options.address)\n",
    "        //});\n",
    "    console.log(\"---> The contract deployed to: \" + deployed.options.address)\n",
    "}\n",
    "deploy()"
   ]
  },
  {
   "cell_type": "code",
   "execution_count": 29,
   "metadata": {
    "scrolled": true
   },
   "outputs": [
    {
     "name": "stdout",
     "output_type": "stream",
     "text": [
      "Deploying the contract from 0x8e71085FfEFcCb88a4B54D4c93A866DB7928A486\n",
      ">>> transactionHash0x1407e52cee23538a52d0084ea2d90b7e100818578e086fb36b4e780aed04b952\n",
      ">>> RECEPIT hash: 0x1407e52cee23538a52d0084ea2d90b7e100818578e086fb36b4e780aed04b952\n",
      ">>> address:0x6B876B1Ca1B9a427acf6fD72aB017F16dA03371F\n",
      "---> The contract deployed to: 0x6B876B1Ca1B9a427acf6fD72aB017F16dA03371F\n"
     ]
    }
   ],
   "source": [
    "!node src/C1C2Deploy.js"
   ]
  },
  {
   "cell_type": "code",
   "execution_count": 30,
   "metadata": {},
   "outputs": [
    {
     "name": "stdout",
     "output_type": "stream",
     "text": [
      "Overwriting src/C1C2Use.js\n"
     ]
    }
   ],
   "source": [
    "%%writefile src/C1C2Use.js\n",
    "var Web3=require('web3');\n",
    "var web3=new Web3(new Web3.providers.HttpProvider(\"http://localhost:8445\"));\n",
    "var fs=require('fs');\n",
    "var _str = fs.readFileSync(\"src/C1C2.json\");\n",
    "var _json=JSON.parse(_str);\n",
    "//var _abiArray=JSON.parse(_json.contracts.sHello2.abi);\n",
    "var _abiArray=JSON.parse(_json.contracts[\"src/C1C2.sol:C2\"].abi);\n",
    "\n",
    "var c2 = new web3.eth.Contract(_abiArray, \"0x6B876B1Ca1B9a427acf6fD72aB017F16dA03371F\");\n",
    "\n",
    "async function doIt() {\n",
    "    const accounts = await web3.eth.getAccounts();\n",
    "    console.log(\"Account: \" + accounts[0]);\n",
    "    const balanceBefore = await web3.eth.getBalance(accounts[0]);\n",
    "    console.log(\"Balance before: \" + balanceBefore);\n",
    "    c2.methods.get7().call().then(console.log);\n",
    "    await c2.methods.set(9).send({from: accounts[0],gas:50000});\n",
    "    c2.methods.get().call().then(console.log);\n",
    "    const balanceAfter = await web3.eth.getBalance(accounts[0]);\n",
    "    console.log(\"Balance after: \" + balanceAfter);\n",
    "    console.log(\"Balance diff: \" + (balanceBefore - balanceAfter));\n",
    "    //hello.methods.kill().send({from: accounts[0]})\n",
    "    process.exit(1)\n",
    "}\n",
    "\n",
    "doIt()"
   ]
  },
  {
   "cell_type": "code",
   "execution_count": 31,
   "metadata": {},
   "outputs": [
    {
     "name": "stdout",
     "output_type": "stream",
     "text": [
      "Account: 0x8e71085FfEFcCb88a4B54D4c93A866DB7928A486\n",
      "Balance before: 3124374999999999340000\n",
      "7\n",
      "Balance after: 3129374999999999340000\n",
      "Balance diff: -5000000000000262000\n"
     ]
    }
   ],
   "source": [
    "!node src/C1C2Use.js"
   ]
  },
  {
   "cell_type": "markdown",
   "metadata": {},
   "source": [
    "---"
   ]
  },
  {
   "cell_type": "code",
   "execution_count": null,
   "metadata": {},
   "outputs": [],
   "source": []
  }
 ],
 "metadata": {
  "kernelspec": {
   "display_name": "Python 3",
   "language": "python",
   "name": "python3"
  },
  "language_info": {
   "codemirror_mode": {
    "name": "ipython",
    "version": 3
   },
   "file_extension": ".py",
   "mimetype": "text/x-python",
   "name": "python",
   "nbconvert_exporter": "python",
   "pygments_lexer": "ipython3",
   "version": "3.7.3"
  }
 },
 "nbformat": 4,
 "nbformat_minor": 2
}
