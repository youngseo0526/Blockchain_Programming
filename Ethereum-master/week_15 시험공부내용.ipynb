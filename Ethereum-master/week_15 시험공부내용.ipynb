{
 "cells": [
  {
   "cell_type": "markdown",
   "metadata": {},
   "source": [
    "강의자료\n",
    "https://github.com/smu405/e  \n",
    "이더리움\n",
    "http://remix.ethereum.org/"
   ]
  },
  {
   "cell_type": "markdown",
   "metadata": {},
   "source": [
    "## cd Users\\minji\\Code\\201810808"
   ]
  },
  {
   "cell_type": "markdown",
   "metadata": {},
   "source": [
    "# cmd 에서 명령어 모음(in 학번 디렉토리"
   ]
  },
  {
   "cell_type": "markdown",
   "metadata": {},
   "source": [
    "### __geth 접속하기__  \n",
    "_gethNow.bat  \n",
    "이후 비밀번호 입력\n",
    "<br>\n",
    "\n",
    "### geth 콘솔 열기\n",
    "geth attach http://localhost:8445\n"
   ]
  },
  {
   "cell_type": "markdown",
   "metadata": {},
   "source": [
    "# geth 콘솔 명령어(geth 콘솔 실행 후 cmd)\n",
    "## 주피터에서 실행할 때는 \n",
    "`!geth -exec eth.accounts attach http://localhost:8445`  \n",
    "이런식으로\n"
   ]
  },
  {
   "cell_type": "code",
   "execution_count": 1,
   "metadata": {},
   "outputs": [
    {
     "name": "stdout",
     "output_type": "stream",
     "text": [
      "[\"0x8e71085ffefccb88a4b54d4c93a866db7928a486\", \"0x9eabca74ecd2d27638af3a8ee7532b7853a0310d\", \"0x223bd75a28f01aad68f309fce60a22b06252d420\"]\n"
     ]
    }
   ],
   "source": [
    "!geth -exec eth.accounts attach http://localhost:8445"
   ]
  },
  {
   "cell_type": "markdown",
   "metadata": {},
   "source": [
    "### 계정 확인\n",
    "eth.accounts\n",
    "<br>\n",
    "\n",
    "### 각각 잔고(잔액) 확인하기\n",
    "eth.getBalance(eth.accounts[0]);\n",
    "<br>\n",
    "\n",
    "### 노드 정보 확인하기\n",
    "admin.nodeinfo\n",
    "\n",
    "### 충전하기\n",
    "miner.start()  \n",
    "miner.stop()\n",
    "\n",
    "### 트랜잭션 확인\n",
    "eth.pendingTransactions  \n",
    "\n",
    "### authentication 오류 뜰 때\n",
    "personal.unlockAccount(eth.coinbase); 하고 비밀번호 입력\n",
    "\n",
    "### mining 하기(pending 해소)\n",
    "miner.start(1);admin.sleepBlocks(1);miner.stop();\n",
    "\n",
    "### node로 js실행(명령창\n",
    "C:\\Users\\minji\\Code\\201810808>node src/OrderEventUse.js\n",
    "\n",
    "### 가나슈 실행\n",
    "`node_modules\\.bin\\ganache-cli.cmd -p 8345`\n"
   ]
  },
  {
   "cell_type": "markdown",
   "metadata": {},
   "source": [
    "# 주피터에서 하는 명령어(node나 solc)"
   ]
  },
  {
   "cell_type": "code",
   "execution_count": null,
   "metadata": {},
   "outputs": [],
   "source": []
  },
  {
   "cell_type": "markdown",
   "metadata": {},
   "source": [
    "# 작년 기말고사\n",
    "### 문제 2: 주문을 구현하세요.\n",
    "1번 계정을 manager로 설정하여 다음 주문내역을 구현:\n",
    "```\n",
    "- 주문번호\n",
    "- 주문상품\n",
    "- 주문개수\n",
    "- 주문일자\n",
    "- 주문금액\n",
    "- 상태: Ordered, Delivered, Received, Closed, Returned 등\n",
    "```\n",
    "\n",
    "1) **모두 다른 계정을 사용하여** 주문갯수 3건을 입력, 주문하면서 금액 전송한다.\n",
    "```\n",
    "305, water, 12, 12000\n",
    "306, burger, 10, 10000\n",
    "307, paper, 9, 28000\n",
    "```\n",
    "\n",
    "2) 주문의 총액 출력\n",
    "\n",
    "3) 2번 계정의 주문내역 (주문번호, 주문상품, 금액, 상태) 출력\n",
    "\n",
    "4) 주문번호로 주문내역 (주문번호, 주문상품, 금액, 상태) 출력\n",
    "\n",
    "5) 컨트랙의 잔고 조회\n",
    "\n",
    "6) 2번째 주문을 배송한 후 'Delivered'로 출력 (manager만 가능)"
   ]
  },
  {
   "cell_type": "code",
   "execution_count": 37,
   "metadata": {},
   "outputs": [
    {
     "name": "stdout",
     "output_type": "stream",
     "text": [
      "Overwriting src/Manager.sol\n"
     ]
    }
   ],
   "source": [
    "%%writefile src/Manager.sol\n",
    "pragma solidity 0.5.1;\n",
    "\n",
    "contract Manager{\n",
    "    struct OrdersMap{\n",
    "        uint orderNumber;//주문번호\n",
    "        string orderProduct;//주문상품\n",
    "        uint numProduct;//주문개수\n",
    "        uint256 orderTime;//주문일자\n",
    "        uint orderBalance; //주문금액\n",
    "    }\n",
    "    address payable owner;\n",
    "    //bidrectional map\n",
    "    mapping(address=>OrdersMap) memberMap;//key:address, 키를 넣으면 OrdersMap struct이 반환\n",
    "    mapping(uint=>address) addressByOM;//address by orderNumber, ordernumber이용해서 주소를 구한다.\n",
    "    mapping (address => string) status;\n",
    "    mapping (address => uint) balanceOf;\n",
    "    \n",
    "    constructor() public {\n",
    "        owner = msg.sender;\n",
    "    }\n",
    "    \n",
    "    function Order(address user, uint ordernum, string memory product, uint count, uint _cost) public payable {\n",
    "       OrdersMap memory m=OrdersMap(ordernum, product, count, now, _cost);\n",
    "       memberMap[user]=m;\n",
    "       addressByOM[ordernum]=user;\n",
    "       status[user]=\"Ordered\";\n",
    "       balanceOf[owner]+=_cost;\n",
    "    }\n",
    "    \n",
    "    \n",
    "    function updateStatus(address user)public onlyManager returns(string memory) {\n",
    "        status[user]=\"Delivered\";\n",
    "        return status[user];\n",
    "    }\n",
    "    \n",
    "    function getsOrderWithAddr(address user) view public returns (uint, string memory, uint, string memory){\n",
    "        OrdersMap memory u=memberMap[user];\n",
    "        return(u.orderNumber, u.orderProduct, u.orderBalance, status[user]);\n",
    "    }\n",
    "    \n",
    "    function getOrderWithNum(uint odnum) view public returns (uint, string memory, uint, string memory){\n",
    "        OrdersMap memory u=memberMap[addressByOM[odnum]];\n",
    "        return(u.orderNumber, u.orderProduct, u.orderBalance, status[addressByOM[odnum]]);\n",
    "    }\n",
    "    \n",
    "    function getBalance() public view returns(uint) {//잔고 확인, state 읽으니까 view\n",
    "        return (address(this).balance);\n",
    "    }\n",
    "    \n",
    "    function ownerBalance() public view returns(uint) {//잔고 확인, state 읽으니까 view\n",
    "        return (balanceOf[owner]);\n",
    "    }\n",
    "    \n",
    "    modifier onlyManager {\n",
    "        require(msg.sender == owner);\n",
    "        _;\n",
    "    }\n",
    "    \n",
    "}"
   ]
  },
  {
   "cell_type": "code",
   "execution_count": 38,
   "metadata": {
    "scrolled": false
   },
   "outputs": [
    {
     "name": "stdout",
     "output_type": "stream",
     "text": [
      "\n",
      "======= src/Manager.sol:Manager =======\n",
      "Gas estimation:\n",
      "construction:\n",
      "   21097 + 795200 = 816297\n",
      "external:\n",
      "   Order(address,uint256,string,uint256,uint256):\tinfinite\n",
      "   getBalance():\t623\n",
      "   getOrderWithNum(uint256):\tinfinite\n",
      "   getsOrderWithAddr(address):\tinfinite\n",
      "   ownerBalance():\t810\n",
      "   updateStatus(address):\tinfinite\n",
      "Binary: \n",
      "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\n",
      "Contract JSON ABI \n",
      "[{\"constant\":false,\"inputs\":[{\"name\":\"user\",\"type\":\"address\"}],\"name\":\"updateStatus\",\"outputs\":[{\"name\":\"\",\"type\":\"string\"}],\"payable\":false,\"stateMutability\":\"nonpayable\",\"type\":\"function\"},{\"constant\":true,\"inputs\":[],\"name\":\"getBalance\",\"outputs\":[{\"name\":\"\",\"type\":\"uint256\"}],\"payable\":false,\"stateMutability\":\"view\",\"type\":\"function\"},{\"constant\":false,\"inputs\":[{\"name\":\"user\",\"type\":\"address\"},{\"name\":\"ordernum\",\"type\":\"uint256\"},{\"name\":\"product\",\"type\":\"string\"},{\"name\":\"count\",\"type\":\"uint256\"},{\"name\":\"_cost\",\"type\":\"uint256\"}],\"name\":\"Order\",\"outputs\":[],\"payable\":true,\"stateMutability\":\"payable\",\"type\":\"function\"},{\"constant\":true,\"inputs\":[{\"name\":\"user\",\"type\":\"address\"}],\"name\":\"getsOrderWithAddr\",\"outputs\":[{\"name\":\"\",\"type\":\"uint256\"},{\"name\":\"\",\"type\":\"string\"},{\"name\":\"\",\"type\":\"uint256\"},{\"name\":\"\",\"type\":\"string\"}],\"payable\":false,\"stateMutability\":\"view\",\"type\":\"function\"},{\"constant\":true,\"inputs\":[],\"name\":\"ownerBalance\",\"outputs\":[{\"name\":\"\",\"type\":\"uint256\"}],\"payable\":false,\"stateMutability\":\"view\",\"type\":\"function\"},{\"constant\":true,\"inputs\":[{\"name\":\"odnum\",\"type\":\"uint256\"}],\"name\":\"getOrderWithNum\",\"outputs\":[{\"name\":\"\",\"type\":\"uint256\"},{\"name\":\"\",\"type\":\"string\"},{\"name\":\"\",\"type\":\"uint256\"},{\"name\":\"\",\"type\":\"string\"}],\"payable\":false,\"stateMutability\":\"view\",\"type\":\"function\"},{\"inputs\":[],\"payable\":false,\"stateMutability\":\"nonpayable\",\"type\":\"constructor\"}]\n"
     ]
    }
   ],
   "source": [
    "!solc --gas --abi --bin src/Manager.sol"
   ]
  },
  {
   "cell_type": "code",
   "execution_count": 71,
   "metadata": {},
   "outputs": [
    {
     "name": "stdout",
     "output_type": "stream",
     "text": [
      "Overwriting src/ManagerDeploy.js\n"
     ]
    }
   ],
   "source": [
    "%%writefile src/ManagerDeploy.js\n",
    "var Web3=require('web3');\n",
    "var web3 = new Web3(new Web3.providers.HttpProvider(\"http://localhost:8445\"));\n",
    "var _abiArray =[{\"constant\":false,\"inputs\":[{\"name\":\"user\",\"type\":\"address\"}],\"name\":\"updateStatus\",\"outputs\":[{\"name\":\"\",\"type\":\"string\"}],\"payable\":false,\"stateMutability\":\"nonpayable\",\"type\":\"function\"},{\"constant\":true,\"inputs\":[],\"name\":\"getBalance\",\"outputs\":[{\"name\":\"\",\"type\":\"uint256\"}],\"payable\":false,\"stateMutability\":\"view\",\"type\":\"function\"},{\"constant\":false,\"inputs\":[{\"name\":\"user\",\"type\":\"address\"},{\"name\":\"ordernum\",\"type\":\"uint256\"},{\"name\":\"product\",\"type\":\"string\"},{\"name\":\"count\",\"type\":\"uint256\"},{\"name\":\"_cost\",\"type\":\"uint256\"}],\"name\":\"Order\",\"outputs\":[],\"payable\":true,\"stateMutability\":\"payable\",\"type\":\"function\"},{\"constant\":true,\"inputs\":[{\"name\":\"user\",\"type\":\"address\"}],\"name\":\"getsOrderWithAddr\",\"outputs\":[{\"name\":\"\",\"type\":\"uint256\"},{\"name\":\"\",\"type\":\"string\"},{\"name\":\"\",\"type\":\"uint256\"},{\"name\":\"\",\"type\":\"string\"}],\"payable\":false,\"stateMutability\":\"view\",\"type\":\"function\"},{\"constant\":true,\"inputs\":[],\"name\":\"ownerBalance\",\"outputs\":[{\"name\":\"\",\"type\":\"uint256\"}],\"payable\":false,\"stateMutability\":\"view\",\"type\":\"function\"},{\"constant\":true,\"inputs\":[{\"name\":\"odnum\",\"type\":\"uint256\"}],\"name\":\"getOrderWithNum\",\"outputs\":[{\"name\":\"\",\"type\":\"uint256\"},{\"name\":\"\",\"type\":\"string\"},{\"name\":\"\",\"type\":\"uint256\"},{\"name\":\"\",\"type\":\"string\"}],\"payable\":false,\"stateMutability\":\"view\",\"type\":\"function\"},{\"inputs\":[],\"payable\":false,\"stateMutability\":\"nonpayable\",\"type\":\"constructor\"}];\n",
    "var _bin=\"0x\" + \"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\";\n",
    "\n",
    "async function deploy() {\n",
    "    const accounts = await web3.eth.getAccounts();\n",
    "    console.log(\"Deploying the contract from \" + accounts[0]);\n",
    "    new web3.eth.Contract(_abiArray).deploy({data: _bin}).estimateGas(function(err, gas) {\n",
    "        if(!err) console.log(\">> gas: \"+ gas);\n",
    "    });\n",
    "    var deployed = await new web3.eth.Contract(_abiArray)\n",
    "        .deploy({data: _bin})\n",
    "        .send({from: accounts[0], gas: 2000000}, function(err, transactionHash) {\n",
    "                if(!err) console.log(\"hash: \" + transactionHash); \n",
    "        })\n",
    "\n",
    "    console.log(\"---> The contract deployed to: \" + deployed.options.address)\n",
    "}\n",
    "\n",
    "deploy()"
   ]
  },
  {
   "cell_type": "code",
   "execution_count": 87,
   "metadata": {},
   "outputs": [
    {
     "name": "stdout",
     "output_type": "stream",
     "text": [
      "Deploying the contract from 0x8e71085FfEFcCb88a4B54D4c93A866DB7928A486\n",
      ">> gas: 1132561\n",
      "hash: 0xb4577903a5789819d48863f3e2b2414369fb7085606f8e551fe956647cccd208\n",
      "---> The contract deployed to: 0xAe2f94d9E2D48401B13D72381097Bcbc4a50a4c2\n"
     ]
    }
   ],
   "source": [
    "!node src/ManagerDeploy.js"
   ]
  },
  {
   "cell_type": "code",
   "execution_count": 88,
   "metadata": {},
   "outputs": [
    {
     "name": "stdout",
     "output_type": "stream",
     "text": [
      "Overwriting src/ManagerUse.js\n"
     ]
    }
   ],
   "source": [
    "%%writefile src/ManagerUse.js\n",
    "var Web3=require('web3');\n",
    "var fs=require('fs');\n",
    "var web3;\n",
    "if (typeof web3 !== 'undefined') {\n",
    "    web3 = new Web3(web3.currentProvider);\n",
    "} else {\n",
    "    var web3 = new Web3(new Web3.providers.HttpProvider(\"http://localhost:8445\"));\n",
    "}\n",
    "var _abiArray =[{\"constant\":false,\"inputs\":[{\"name\":\"user\",\"type\":\"address\"}],\"name\":\"updateStatus\",\"outputs\":[{\"name\":\"\",\"type\":\"string\"}],\"payable\":false,\"stateMutability\":\"nonpayable\",\"type\":\"function\"},{\"constant\":true,\"inputs\":[],\"name\":\"getBalance\",\"outputs\":[{\"name\":\"\",\"type\":\"uint256\"}],\"payable\":false,\"stateMutability\":\"view\",\"type\":\"function\"},{\"constant\":false,\"inputs\":[{\"name\":\"user\",\"type\":\"address\"},{\"name\":\"ordernum\",\"type\":\"uint256\"},{\"name\":\"product\",\"type\":\"string\"},{\"name\":\"count\",\"type\":\"uint256\"},{\"name\":\"_cost\",\"type\":\"uint256\"}],\"name\":\"Order\",\"outputs\":[],\"payable\":true,\"stateMutability\":\"payable\",\"type\":\"function\"},{\"constant\":true,\"inputs\":[{\"name\":\"user\",\"type\":\"address\"}],\"name\":\"getsOrderWithAddr\",\"outputs\":[{\"name\":\"\",\"type\":\"uint256\"},{\"name\":\"\",\"type\":\"string\"},{\"name\":\"\",\"type\":\"uint256\"},{\"name\":\"\",\"type\":\"string\"}],\"payable\":false,\"stateMutability\":\"view\",\"type\":\"function\"},{\"constant\":true,\"inputs\":[],\"name\":\"ownerBalance\",\"outputs\":[{\"name\":\"\",\"type\":\"uint256\"}],\"payable\":false,\"stateMutability\":\"view\",\"type\":\"function\"},{\"constant\":true,\"inputs\":[{\"name\":\"odnum\",\"type\":\"uint256\"}],\"name\":\"getOrderWithNum\",\"outputs\":[{\"name\":\"\",\"type\":\"uint256\"},{\"name\":\"\",\"type\":\"string\"},{\"name\":\"\",\"type\":\"uint256\"},{\"name\":\"\",\"type\":\"string\"}],\"payable\":false,\"stateMutability\":\"view\",\"type\":\"function\"},{\"inputs\":[],\"payable\":false,\"stateMutability\":\"nonpayable\",\"type\":\"constructor\"}];\n",
    "\n",
    "async function doIt() {\n",
    "    var manage= new web3.eth.Contract(_abiArray, '0xAe2f94d9E2D48401B13D72381097Bcbc4a50a4c2');\n",
    "    const accounts = await web3.eth.getAccounts();\n",
    "    //console.log(\"Account: \" + accounts[0]);\n",
    "    \n",
    "    //주문 1,2,3\n",
    "    \n",
    "    manage.methods.Order(accounts[2],306,\"burger\",12,10000).estimateGas(function(err, gas) {\n",
    "        if(!err) console.log(\">> gas: \"+ gas);\n",
    "    });\n",
    "    await manage.methods.Order(accounts[1],305,\"water\",12,12000).send({from: accounts[0], gas: 187502});\n",
    "    await manage.methods.Order(accounts[2],306,\"burger\",12,10000).send({from: accounts[0], gas: 188642});\n",
    "    await manage.methods.Order(accounts[3],307,\"paper\",9,28000).send({from: accounts[0], gas: 188630});\n",
    "    \n",
    "    // 금액 출력\n",
    "    manage.methods.ownerBalance().call().then(function(value) {console.log(\"sum of order\",value)});\n",
    "    \n",
    "    //2번 계정의 주문 내역 출력\n",
    "    manage.methods.getsOrderWithAddr(accounts[1]).call().then(function(value) {console.log(\"second account's...\\n orderNumber:\",value[0],\"\\n product:\",value[1],\"\\n value:\",value[2],\"\\n status:\",value[3],\"\\n\\n\")});\n",
    "    \n",
    "    //주문 번호로 주문 내역 출력\n",
    "    //console.log(\"------\")\n",
    "    manage.methods.getOrderWithNum(305).call().then(function(value) {console.log(\"account's...\\n orderNumber:\",value[0],\"\\n product:\",value[1],\"\\n value:\",value[2],\"\\n status:\",value[3])});\n",
    "    manage.methods.getOrderWithNum(306).call().then(function(value) {console.log(\"account's...\\n orderNumber:\",value[0],\"\\n product:\",value[1],\"\\n value:\",value[2],\"\\n status:\",value[3])});\n",
    "    manage.methods.getOrderWithNum(307).call().then(function(value) {console.log(\"account's...\\n orderNumber:\",value[0],\"\\n product:\",value[1],\"\\n value:\",value[2],\"\\n status:\",value[3])});\n",
    "    \n",
    "    \n",
    "    //컨트랙의 잔고 조회\n",
    "    manage.methods.getBalance().call().then(function(value) {console.log(\"balance of contract:\",value)});\n",
    "    \n",
    "    //주문 배송 후 delivered로 출력\n",
    "    await manage.methods.updateStatus(accounts[1]).send({from: accounts[0], gas: 122209});\n",
    "    \n",
    "    //2번 결과 다시 출력\n",
    "    manage.methods.getsOrderWithAddr(accounts[1]).call().then(function(value) {console.log(\"second account's...\\n orderNumber:\",value[0],\"\\n product:\",value[1],\"\\n value:\",value[2],\"\\n status:\",value[3])});\n",
    "    \n",
    "    \n",
    "}\n",
    "\n",
    "doIt();\n"
   ]
  },
  {
   "cell_type": "code",
   "execution_count": 89,
   "metadata": {},
   "outputs": [
    {
     "name": "stdout",
     "output_type": "stream",
     "text": [
      ">> gas: 187566\n",
      "account's...\n",
      " orderNumber: 305 \n",
      " product: water \n",
      " value: 12000 \n",
      " status: Ordered\n",
      "sum of order 50000\n",
      "second account's...\n",
      " orderNumber: 305 \n",
      " product: water \n",
      " value: 12000 \n",
      " status: Ordered \n",
      "\n",
      "\n",
      "account's...\n",
      " orderNumber: 306 \n",
      " product: burger \n",
      " value: 10000 \n",
      " status: Ordered\n",
      "account's...\n",
      " orderNumber: 307 \n",
      " product: paper \n",
      " value: 28000 \n",
      " status: Ordered\n",
      "balance of contract: 0\n",
      "second account's...\n",
      " orderNumber: 305 \n",
      " product: water \n",
      " value: 12000 \n",
      " status: Delivered\n"
     ]
    }
   ],
   "source": [
    "!node src/ManagerUse.js"
   ]
  },
  {
   "cell_type": "code",
   "execution_count": null,
   "metadata": {},
   "outputs": [],
   "source": []
  }
 ],
 "metadata": {
  "kernelspec": {
   "display_name": "Python 3",
   "language": "python",
   "name": "python3"
  },
  "language_info": {
   "codemirror_mode": {
    "name": "ipython",
    "version": 3
   },
   "file_extension": ".py",
   "mimetype": "text/x-python",
   "name": "python",
   "nbconvert_exporter": "python",
   "pygments_lexer": "ipython3",
   "version": "3.7.3"
  }
 },
 "nbformat": 4,
 "nbformat_minor": 2
}
