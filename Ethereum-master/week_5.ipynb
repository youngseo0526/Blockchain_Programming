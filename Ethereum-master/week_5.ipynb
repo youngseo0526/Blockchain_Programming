{
 "cells": [
  {
   "cell_type": "code",
   "execution_count": 2,
   "metadata": {},
   "outputs": [],
   "source": [
    "import hashlib\n",
    "\n",
    "nonce=1\n",
    "txA = 'Hello'.encode()\n",
    "txB = 'How are you?'.encode()\n",
    "txC = 'This is Thursday'.encode()\n",
    "txD = 'Happy new Year'.encode()"
   ]
  },
  {
   "cell_type": "markdown",
   "metadata": {},
   "source": [
    "### hash"
   ]
  },
  {
   "cell_type": "code",
   "execution_count": 6,
   "metadata": {},
   "outputs": [],
   "source": [
    "hashA=hashlib.sha256(txA) ##txA를 인자로 넣어서 hash값을 구한다.\n",
    "hashB=hashlib.sha256(txB)"
   ]
  },
  {
   "cell_type": "markdown",
   "metadata": {},
   "source": [
    "### byteswap\n"
   ]
  },
  {
   "cell_type": "code",
   "execution_count": 15,
   "metadata": {},
   "outputs": [
    {
     "data": {
      "text/plain": [
       "'185f8db32271fe25f561a6fc938b2e264306ec304eda518007d1764826381969'"
      ]
     },
     "execution_count": 15,
     "metadata": {},
     "output_type": "execute_result"
    }
   ],
   "source": [
    "hashA.hexdigest() ##헥사값, 앞의 5자 정도만 읽어서 비교하면 된다."
   ]
  },
  {
   "cell_type": "code",
   "execution_count": 8,
   "metadata": {},
   "outputs": [
    {
     "name": "stdout",
     "output_type": "stream",
     "text": [
      "18\n",
      "5f\n",
      "8d\n",
      "b3\n",
      "22\n",
      "71\n",
      "fe\n",
      "25\n",
      "f5\n",
      "61\n",
      "a6\n",
      "fc\n",
      "93\n",
      "8b\n",
      "2e\n",
      "26\n",
      "43\n",
      "06\n",
      "ec\n",
      "30\n",
      "4e\n",
      "da\n",
      "51\n",
      "80\n",
      "07\n",
      "d1\n",
      "76\n",
      "48\n",
      "26\n",
      "38\n",
      "19\n",
      "69\n"
     ]
    }
   ],
   "source": [
    "for i in range(0, hashA.digest_size*2, 2): ##hash A의 사이즈:32, 32*2해서 64까지 반복\n",
    "    print(hashA.hexdigest()[i:i+2])  ##2개씩"
   ]
  },
  {
   "cell_type": "markdown",
   "metadata": {},
   "source": [
    "반복문을 pythonic하게(파이썬답게 씀, 명령문을 짧게 줄여서 쓰는 것) 줄여볼 수 있다. 그리고 2바이트씩 잘라서 reversed() 함수로 뒤집는다"
   ]
  },
  {
   "cell_type": "code",
   "execution_count": 10,
   "metadata": {},
   "outputs": [],
   "source": [
    "hashAswap=\"\".join(reversed([hashA.hexdigest()[i:i+2] for i in range(0, hashA.digest_size*2, 2)]))\n",
    "hashBswap=\"\".join(reversed([hashB.hexdigest()[i:i+2] for i in range(0, hashB.digest_size*2, 2)]))"
   ]
  },
  {
   "cell_type": "code",
   "execution_count": 11,
   "metadata": {},
   "outputs": [
    {
     "name": "stdout",
     "output_type": "stream",
     "text": [
      "hashAswap:  691938264876d1078051da4e30ec0643262e8b93fca661f525fe7122b38d5f18 \n",
      "hashBswap:  890dfa0aaa970381d9e11e1553ac7ec9ceb53b782c1c2e692bed0614fc7d28df\n"
     ]
    }
   ],
   "source": [
    "print(\"hashAswap: \", hashAswap, \"\\nhashBswap: \",hashBswap)"
   ]
  },
  {
   "cell_type": "markdown",
   "metadata": {},
   "source": [
    "### hash again"
   ]
  },
  {
   "cell_type": "code",
   "execution_count": 12,
   "metadata": {},
   "outputs": [],
   "source": [
    "#hashAB=hashA.hexdigest()+hashA.hexdigest() <--필요없다고 하심\n",
    "hashAB=hashAswap+hashBswap"
   ]
  },
  {
   "cell_type": "code",
   "execution_count": null,
   "metadata": {},
   "outputs": [],
   "source": [
    "doubleHashAB=hashlib.sha256(hashAB.encode()).hexdigest()\n",
    "print(doubleHashAB) ##거래 1,2 묶은것의 해시값, 같은 방식으로 그 위 상위 상위의 것도 가능함."
   ]
  },
  {
   "cell_type": "markdown",
   "metadata": {},
   "source": [
    "### 난이도"
   ]
  },
  {
   "cell_type": "code",
   "execution_count": 3,
   "metadata": {},
   "outputs": [
    {
     "name": "stdout",
     "output_type": "stream",
     "text": [
      "NONCE:  10000000 660b9e057377381579f5c54347901cf462fce656c069a4d0f26bdd4cf1e05e66\n",
      "NONCE:  20000000 c31d3ddd7bb92312bcc2a88263d92e94c6d17a641ac9e59ac262c775c7f58925\n",
      "NONCE:  30000000 236077716f4ce428ec83f12bf74fb7ab76450bad60bc3f21d924e200c39a9fa4\n",
      "NONCE:  40000000 5b07929bd7088f11d6caf0e65a6f44ab3b7f82d32900430cc7c7244b2917e04d\n",
      "NONCE:  50000000 d9af343cc488cb44b57c30a071033fb4c9fc836f16e6c619be66a26c18b1a31a\n",
      "NONCE:  60000000 eee30c7b9952680cc2cf51a093586447c227fe78f3b4652684f2e5d8e589d4d9\n",
      "NONCE:  70000000 3d2125955e4fc1a9a154bafa910efb11cd265c97e6400341811c74fa2b09c0c1\n",
      "NONCE:  80000000 3c32aeb8681a6041e26befb7e060b74d992e00ac0c8ef684b641dc0ea4fa30dd\n",
      "NONCE:  90000000 a3f699e61d3182cffe35ffdb5f354b04ccbe7280474eb30dd76ea0fc3f037c88\n",
      "NONCE:  100000000 e196aa710ba089a8eb23bbfe5052183dc6f1c1f57733b1f614ce1e0daf8bff9b\n",
      "NONCE:  110000000 a047c1fd03a26cc8489fd24fb99cef4a1d0b87ecda1e41daaf6e57066f540d60\n",
      "NONCE:  120000000 45edd32c46085f0901631ce86c6bbc76335fd0c57f2a9d3aec78e52e4e3157cc\n",
      "NONCE:  130000000 e786a0f8e169aee160e05fb1876677477238bb2aa8724d8705401e62606d31b7\n",
      "NONCE:  140000000 af60418f7de97c22e2b3358696cec9b18aa75722e31ce46b6783ca7d22494f14\n",
      "NONCE:  150000000 b0b1346d1c8463cd8aa922adc25dd8fcd6af9a63dbdb3544dffe763b5e2f311a\n",
      "NONCE:  160000000 cf07bb251ddad733df74eb2ca8c882268c45133b3d8bb91ccc0f09e449d6ecc6\n",
      "NONCE:  170000000 195d1f774d85808aefb94fa72f8c1cc850d7a3fec0b3c8c317b0f0106e168a8d\n",
      "NONCE:  180000000 6245a9e81612da0cc31072de80e3a45fe4a91c69562f17bc90ace8125b608390\n",
      "NONCE:  190000000 0ef6974bea14a18897c599d50329eb4740b6e45a568a058870db84aab8320873\n",
      "NONCE:  200000000 c5e04c84266c69ea7854256121867dc34016801bc502bba9aaf44f3bf14c4c24\n",
      "NONCE:  210000000 22081805c0c46f9fa079e975c794212ef80b71d31cd7db8f13d259f38234c081\n",
      "NONCE:  220000000 96ebdc9168e68043864e253d8708dbaaca298c1ffd61f402ca5ba695cd48a680\n",
      "NONCE:  230000000 237bf92c7c7853ab724776f655a3eaf16bef0eb5d8f304d860f9c89617bc2e8a\n",
      "NONCE:  240000000 470beef2ff537b565e9bf2dd37bb46e9d9614e554e6d802ce2320ffcca360b65\n",
      "NONCE:  250000000 48a08bd1d1e4e4b8cf38aef838548dae9bf775569b08896f835211b256a299f1\n",
      "NONCE:  260000000 536714f6570f104ae5a728e06538e99f8aa55e51d0eeb0882b537511b988e2b1\n",
      "NONCE:  270000000 569e0cebe4fad85e2a6c0a2141cd8a0c6083788f7e268d6b3dddc2f0bd8e2d09\n",
      "NONCE:  280000000 4f8659f6aa1891458185a90bfc0fe55ec9db74ce5b797a5cbeb0a5c05d867de9\n",
      "NONCE:  290000000 23a3f2d8c1f14432d903b18d2b85aab9f613dd102a383a4191d9f53f9cf0ad1a\n",
      "NONCE:  300000000 ecb1fc9dc615aad0b40b6c5bf4577d3c3486efcdbe59a51618a888a5d9ad5007\n",
      "NONCE:  310000000 bedc5ae6228eb879909f441218b5b2051d24d215a5dbc92e15ff33cd4fd29d30\n",
      "NONCE:  320000000 7018901da64a9d82853b82efbe4230b02550fcaad413eb39e539093ec8cc6126\n",
      "NONCE:  330000000 af340d00ca8bab9514c766f67d397b0364862e55ca2d2d53f6c94fedf3d424ff\n",
      "NONCE:  340000000 986cbe71260e032821c4ac8add05fed9422678051de842a112f38d4fd9b5481c\n",
      "NONCE:  350000000 b69b502f38a8a7a5c6fb84d6106d8277c7733e8c403a34b98c15ba7422e4b1ed\n",
      "NONCE:  360000000 5139b072607f34bc530a2801b38e68f2deb222e3b9f974839c073a75433ada88\n",
      "NONCE:  370000000 7155eef967395ed924efec701d76d7aeec685ee96aa02135dc635ba98f0c2e71\n",
      "NONCE:  380000000 08beafade6f6f3de9e2a697fe3334a2732e65b86e16060f87516d1a03c522b32\n",
      "NONCE:  390000000 0b1f6682b3c6abf56f0eb41054b0550ea35249e0d3957dc05eb1476fbbad177f\n",
      "NONCE:  400000000 47faee79cb09444c948f69d2a95b1cfae1bb0af7ac8f9f8e366aa790c72dea7c\n",
      "NONCE:  410000000 356d03d7a85799d8bf1a69dd5567c3571df7c1c0f45e01f5968949f6183c8468\n",
      "NONCE:  420000000 95ac22a705b2a1ccc9b491a2126cad6c31c325c8390dd2b8433e740551814492\n",
      "NONCE:  430000000 11352570a05dddf6b872fd66ed9ff28330f9d647c8b3f27e4cb4d94225d3ab50\n",
      "NONCE:  440000000 c731ba3e015273674f1c42118d1cc15c02df129299e5178b5aacdbe86c9bb690\n",
      "NONCE:  450000000 86b2c78b9df78f7142a0b085c8fad75307bea48f16ba352a6b57297f4170eb70\n",
      "NONCE:  460000000 75edc6a8ea14e72017a2c4dafab6da617d8a92f3596cd0849a93ab32a30d75e9\n",
      "NONCE:  470000000 4bec471f04f5b4c61d39113c34e5682acb7b30a8e88c94e41ad14642fc735f84\n",
      "NONCE:  480000000 81bb3ab68390eb31b8c762555ef171c4aa2b0c1d685111a8c87634814f1ef3fb\n",
      "NONCE:  490000000 f495cc35765c66a27766eaafc484731f17808f220c0a652849a1bb227fcefa7a\n",
      "NONCE:  500000000 2ab69770f58c505329fbfb42651d59b4131593ef04abdb4b72fa0f279b380f57\n",
      "NONCE:  510000000 d4c62f8b048d50830c218c65ecad92eb994f06826978996dd93b5362f6b5902a\n",
      "NONCE:  520000000 a2d4f978017cf3056a8f4a7e12ff808549396b28d25f172a33db71beb3e3afe4\n",
      "NONCE:  530000000 6086e794d0a8a0f1fa7c76ff36c29c86d116f2651900c35a904f59eacfa7ff13\n",
      "NONCE:  540000000 92f221222bdbab1b4bac981c5b3a01c4c89d6d20d0a469e3ed242cf02d6833c3\n",
      "NONCE:  550000000 d717d28ed516ff48f05a35daf0531d312cc3d536dcb1603c7cc75eef2f4a26e2\n",
      "NONCE:  560000000 21f583a4c68f42caf6d24abcce49c4d53e23b1553340e9c8c66a2628238b12d5\n",
      "NONCE:  570000000 8288b07910a32f6820ee20d0c12da64f9a084ea518f3ea744d3f3aefd02f68e5\n",
      "NONCE:  580000000 a35e9164dcf7d3756413595d519529fb37275d94532911704b7c287207bc332d\n",
      "NONCE:  590000000 df8e55815314b2491ac0c24452df0bbb5d97f064e62aca7aba842a848bd3d5b7\n",
      "NONCE:  600000000 7106768234fc2d429a4def72f3f4cd2531a6508511ea308231e20ef3f30e9cee\n",
      "NONCE:  610000000 0b5e5d86664d24bce6751396fbb46f4c53b0dab45aa0e61336aab031b6a2354d\n",
      "NONCE:  620000000 0532d590fee4cba080796e9771a5e94b8d1a70b0aef4059dcace5714362aaf80\n",
      "NONCE:  630000000 0475fcc84be45c5a0c58e5efe041f2ffb3ea43de96e89b4379c247b3e92e997d\n",
      "NONCE:  640000000 cae1a9a8abc79142ed67689aa2bc4c60a4d1b1c40e97427ace876605ce588653\n",
      "NONCE:  650000000 60183310b8584ada6cd8e71528581e91d71f8e72cd37dad2924ab10729e39ffc\n",
      "NONCE:  660000000 a2a27a7384014c0319f929be95f6e69fc672b3d98979a0beee06e189efe03387\n",
      "NONCE:  670000000 a20ec43b733ad7d1bc337086e992b5e4c5be29440a9c2b3def658691a73dd9a4\n",
      "NONCE:  680000000 5a7f2bea1497157c0b82e8ec48df94fcc21f308ac06f7f15f1a28261398c1ecb\n",
      "NONCE:  690000000 a72adfccbf3da63ff96285f20e1d74230ce2a3557afc194e5aeecce8e6442a99\n",
      "NONCE:  700000000 af55c030b734f3f94bab31a9f766327cf10e4bec558a10cb1331aff23e00990d\n",
      "NONCE:  710000000 e0aeed890c59c71a9ccc6bbb5489083f6deb37490b4b264366bf8880895b55f7\n",
      "NONCE:  720000000 3f8f5bce46bac0cdf8b338801ec3670298a1b9ee5e31c137a11338ee5cc79048\n",
      "NONCE:  730000000 8d7f5e222a055ec1d555f85a118d2c847f067bd47fde69f9b7dd2f1df5211c56\n",
      "NONCE:  740000000 d77bfe31877e4e625cc6666ec620906109da53e3a0f607cc77f074378a28da3c\n",
      "NONCE:  750000000 13f7fe8117a213d94e1ac2f5a18f86455987eb9455bbd70df4cdbb7d20d328e7\n",
      "NONCE:  760000000 ff916ae3c48492ab29b3c9ff006b9f4c657350df56215169243e832272ac3881\n",
      "NONCE:  770000000 8a11dd8576d5d23dd42286e88386f911f45a992795b12cad01af83a7d5a12304\n",
      "NONCE:  780000000 dbad358383725d80629c33012302ed9f5208b7a2d4c20dfaddd5f675300045b2\n",
      "NONCE:  790000000 5a834a204c2c5a999057032234f9a7e7faf1b9ea5c6e58e012c7804df7b765e5\n",
      "NONCE:  800000000 7afd36671c064fe45388b79c21d844bfa6ec608186eb2cee22cd0fc6615738f3\n",
      "NONCE:  810000000 420d09f7de9287b4e96e7e847e533b7d76c41a3be5669a71e5c88e1597db3b40\n",
      "NONCE:  820000000 c88de188c96b1b04d11d19cf5c05b1befa132a2295f38459911351cfa481ff92\n",
      "NONCE:  830000000 9ea3cd373c904bc29bcf90875d4ed8eab73a7cba7faed55a0bd3a0f606f8f011\n",
      "NONCE:  840000000 4b87a319b4eb27c5923cc01f9d407115f70b73636d250dc37b2a723c03bee054\n",
      "NONCE:  850000000 3608eb1597db35cef65f57a3291629e7207781d227cf390ef6539b7386d3646b\n",
      "NONCE:  860000000 e24bfa4b7d422ad7dee00bf7f051914991004311356e380346f043586f7a9d67\n",
      "NONCE:  870000000 cbf2d9c9147a0d9311fa92e797c734a0f16efeef2c2183ee4b14818e6d552511\n",
      "NONCE:  880000000 46296150dedc6ee0914f7bf37e8fb858190fff8156db0b83bbac723047f55b7a\n",
      "NONCE:  890000000 63d5374013ff87a3192bd290f919d115dcf8df7db5852548296bbf1e7be6958e\n",
      "NONCE:  900000000 bbb01ba215d2720933db8a2c45c4c9d9277a6c0d893f489dc9213326d6e17f3d\n",
      "NONCE:  910000000 829073c42459ecba1609be05906e1267e6b0fbe150c2e82adf54353374cc6d99\n",
      "NONCE:  920000000 738d29965b917b166b487a8eeafb2beedb8e969e277b7d19a4d21b78ab5218a6\n",
      "NONCE:  930000000 f2d51afc683fa832519dfd5311622b0930ccc4d3909b19df977aeb54bdf73d01\n",
      "NONCE:  940000000 f15d52ede9379cb3fcc51598290d24f8feb76ee6f178c45948c23db0f735681c\n",
      "NONCE:  950000000 a60fab1bc3a82759d3c8a8c724510a0e7a0ef1b05f6ebf0be140b46daaa7406a\n"
     ]
    },
    {
     "ename": "KeyboardInterrupt",
     "evalue": "",
     "output_type": "error",
     "traceback": [
      "\u001b[1;31m---------------------------------------------------------------------------\u001b[0m",
      "\u001b[1;31mKeyboardInterrupt\u001b[0m                         Traceback (most recent call last)",
      "\u001b[1;32m<ipython-input-3-ba4e891a42ab>\u001b[0m in \u001b[0;36m<module>\u001b[1;34m\u001b[0m\n\u001b[0;32m      8\u001b[0m \u001b[1;32mwhile\u001b[0m \u001b[0mfound\u001b[0m\u001b[1;33m==\u001b[0m\u001b[1;32mFalse\u001b[0m\u001b[1;33m:\u001b[0m\u001b[1;33m\u001b[0m\u001b[1;33m\u001b[0m\u001b[0m\n\u001b[0;32m      9\u001b[0m     \u001b[0mz\u001b[0m\u001b[1;33m=\u001b[0m\u001b[0mstr\u001b[0m\u001b[1;33m(\u001b[0m\u001b[0mblockNumber\u001b[0m\u001b[1;33m)\u001b[0m\u001b[1;33m+\u001b[0m\u001b[0mstr\u001b[0m\u001b[1;33m(\u001b[0m\u001b[0mNONCE\u001b[0m\u001b[1;33m)\u001b[0m\u001b[1;33m+\u001b[0m\u001b[0mdata\u001b[0m\u001b[1;33m+\u001b[0m\u001b[0mpreviousHash\u001b[0m\u001b[1;33m\u001b[0m\u001b[1;33m\u001b[0m\u001b[0m\n\u001b[1;32m---> 10\u001b[1;33m     \u001b[0mguessHash\u001b[0m\u001b[1;33m=\u001b[0m\u001b[0mhashlib\u001b[0m\u001b[1;33m.\u001b[0m\u001b[0msha256\u001b[0m\u001b[1;33m(\u001b[0m\u001b[0mz\u001b[0m\u001b[1;33m.\u001b[0m\u001b[0mencode\u001b[0m\u001b[1;33m(\u001b[0m\u001b[1;34m'utf-8'\u001b[0m\u001b[1;33m)\u001b[0m\u001b[1;33m)\u001b[0m\u001b[1;33m.\u001b[0m\u001b[0mhexdigest\u001b[0m\u001b[1;33m(\u001b[0m\u001b[1;33m)\u001b[0m \u001b[1;31m##해싱\u001b[0m\u001b[1;33m\u001b[0m\u001b[1;33m\u001b[0m\u001b[0m\n\u001b[0m\u001b[0;32m     11\u001b[0m     \u001b[1;32mif\u001b[0m \u001b[0mguessHash\u001b[0m\u001b[1;33m[\u001b[0m\u001b[1;33m:\u001b[0m\u001b[1;36m4\u001b[0m\u001b[1;33m]\u001b[0m\u001b[1;33m==\u001b[0m\u001b[1;34m'00000'\u001b[0m\u001b[1;33m:\u001b[0m \u001b[1;31m##목표 해시값, 앞의 자리가 0이 6개인 경우 맞추도록 함\u001b[0m\u001b[1;33m\u001b[0m\u001b[1;33m\u001b[0m\u001b[0m\n\u001b[0;32m     12\u001b[0m         \u001b[0mfound\u001b[0m\u001b[1;33m=\u001b[0m\u001b[1;32mTrue\u001b[0m\u001b[1;33m\u001b[0m\u001b[1;33m\u001b[0m\u001b[0m\n",
      "\u001b[1;31mKeyboardInterrupt\u001b[0m: "
     ]
    }
   ],
   "source": [
    "import hashlib\n",
    "ntry=1\n",
    "found=False ##루프를 마칠지의 플래그\n",
    "blockNumber=54 # hex, 임의임\n",
    "NONCE=0\n",
    "data='Hello' ## 임의임\n",
    "previousHash='5d7c7ba21cbbcd75d14800b100252d5b428e5b1213d27c385bc141ca6b47989e' ##임의임\n",
    "while found==False:\n",
    "    z=str(blockNumber)+str(NONCE)+data+previousHash\n",
    "    guessHash=hashlib.sha256(z.encode('utf-8')).hexdigest() ##해싱\n",
    "    if guessHash[:4]=='00000': ##목표 해시값, 앞의 자리가 0이 6개인 경우 맞추도록 함\n",
    "        found=True\n",
    "    NONCE+=1\n",
    "    if(NONCE%10000000==0):   #print guessHash every 10000000 임의임\n",
    "        print(\"NONCE: \",NONCE, guessHash)\n",
    "print(guessHash)\n",
    "print(NONCE)"
   ]
  },
  {
   "cell_type": "code",
   "execution_count": 10,
   "metadata": {},
   "outputs": [
    {
     "name": "stdout",
     "output_type": "stream",
     "text": [
      "{\n",
      "  pending: {},\n",
      "  queued: {}\n",
      "}\n"
     ]
    }
   ],
   "source": [
    "!geth --exec txpool.inspect attach http://localhost:8445"
   ]
  },
  {
   "cell_type": "code",
   "execution_count": 15,
   "metadata": {},
   "outputs": [
    {
     "name": "stdout",
     "output_type": "stream",
     "text": [
      "{\n",
      "  difficulty: 131840,\n",
      "  extraData: \"0xda83010814846765746888676f312e31312e328777696e646f7773\",\n",
      "  gasLimit: 132394343,\n",
      "  gasUsed: 0,\n",
      "  hash: \"0x26264167ad0179788b7ffa72226c680e2376823374001f54ccc1cbdb59e674b4\",\n",
      "  logsBloom: \"0x00000000000000000000000000000000000000000000000000000000000000000000000000000000000000000000000000000000000000000000000000000000000000000000000000000000000000000000000000000000000000000000000000000000000000000000000000000000000000000000000000000000000000000000000000000000000000000000000000000000000000000000000000000000000000000000000000000000000000000000000000000000000000000000000000000000000000000000000000000000000000000000000000000000000000000000000000000000000000000000000000000000000000000000000000000000\",\n",
      "  miner: \"0x8e71085ffefccb88a4b54d4c93a866db7928a486\",\n",
      "  mixHash: \"0x58cb8dcc9587c42e7884ce64f4303b4cd3f0afb75ed61dbcb2204d7ad58fe087\",\n",
      "  nonce: \"0x362469b659d6ef1d\",\n",
      "  number: 14,\n",
      "  parentHash: \"0x43bbd862e81f7695902beed31c689149a084d7161791c6b0bc74a4d8f33ef5f4\",\n",
      "  receiptsRoot: \"0x56e81f171bcc55a6ff8345e692c0f86e5b48e01b996cadc001622fb5e363b421\",\n",
      "  sha3Uncles: \"0x1dcc4de8dec75d7aab85b567b6ccd41ad312451b948a7413f0a142fd40d49347\",\n",
      "  size: 539,\n",
      "  stateRoot: \"0x51ccfc81d76d910bebf2f6be837e02a9575edc75182bc62cfaf89e74c2c78301\",\n",
      "  timestamp: 1585232665,\n",
      "  totalDifficulty: 1840256,\n",
      "  transactions: [],\n",
      "  transactionsRoot: \"0x56e81f171bcc55a6ff8345e692c0f86e5b48e01b996cadc001622fb5e363b421\",\n",
      "  uncles: []\n",
      "}\n"
     ]
    }
   ],
   "source": [
    "!geth --exec \"eth.getBlock('latest')\" attach http://localhost:8445"
   ]
  },
  {
   "cell_type": "code",
   "execution_count": 16,
   "metadata": {},
   "outputs": [
    {
     "name": "stdout",
     "output_type": "stream",
     "text": [
      "132394343\n"
     ]
    }
   ],
   "source": [
    "!geth --exec \"eth.getBlock('latest').gasLimit\" attach http://localhost:8445"
   ]
  },
  {
   "cell_type": "code",
   "execution_count": 17,
   "metadata": {},
   "outputs": [
    {
     "name": "stdout",
     "output_type": "stream",
     "text": [
      "{\n",
      "  \"config\": {\n",
      "    \"chainId\": 33,\n",
      "    \"homesteadBlock\": 0,\n",
      "    \"eip150Block\": 0,\n",
      "    \"eip150Hash\": \"0x0000000000000000000000000000000000000000000000000000000000000000\",\n",
      "    \"eip155Block\": 0,\n",
      "    \"eip158Block\": 0,\n",
      "    \"eip158Block\": 0\n",
      "  },\n",
      "  \"nonce\": \"0x0000000000000033\",\n",
      "  \"timestamp\": \"0x0\",\n",
      "  \"parentHash\": \"0x0000000000000000000000000000000000000000000000000000000000000000\",\n",
      "  \"gasLimit\": \"0x8000000\",\n",
      "  \"difficulty\": \"0x100\",\n",
      "  \"mixhash\": \"0x0000000000000000000000000000000000000000000000000000000000000000\",\n",
      "  \"coinbase\": \"0x3333333333333333333333333333333333333333\",\n",
      "  \"alloc\": {}\n",
      "}\n"
     ]
    }
   ],
   "source": [
    "!type _genesis.json ##여기서 설정한 gasLimit와 위에 gasLimit가 같음?"
   ]
  },
  {
   "cell_type": "code",
   "execution_count": 43,
   "metadata": {},
   "outputs": [],
   "source": [
    "txdata = \"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\""
   ]
  },
  {
   "cell_type": "code",
   "execution_count": 44,
   "metadata": {},
   "outputs": [],
   "source": [
    "def count_zero_bytes(data): ##2자리(1바이트)씩 읽어서 0인지 아닌지 개수를 센다.\n",
    "  count = 0\n",
    "  for i in range(0, len(data), 2):\n",
    "    byte = data[i:i+2]\n",
    "    if byte == \"00\": ##00 찾기\n",
    "      count += 1\n",
    "  return count"
   ]
  },
  {
   "cell_type": "code",
   "execution_count": 45,
   "metadata": {},
   "outputs": [],
   "source": [
    "def count_non_zero_bytes(data):\n",
    "  return (len(data) / 2) - count_zero_bytes(data)"
   ]
  },
  {
   "cell_type": "code",
   "execution_count": 52,
   "metadata": {},
   "outputs": [
    {
     "name": "stdout",
     "output_type": "stream",
     "text": [
      "zero-bytes: 184\n",
      "non-zero-bytes: 1594.0\n"
     ]
    }
   ],
   "source": [
    "print(\"zero-bytes: {0}\".format(count_zero_bytes(txdata)))\n",
    "print(\"non-zero-bytes: {0}\".format(count_non_zero_bytes(txdata)))"
   ]
  },
  {
   "cell_type": "code",
   "execution_count": 54,
   "metadata": {},
   "outputs": [
    {
     "name": "stdout",
     "output_type": "stream",
     "text": [
      "null\n"
     ]
    }
   ],
   "source": [
    "!geth --exec \"eth.getTransactionReceipt('0xd87121b8b0f84f7fa038cd7c1928ca6a222d14228125c90edc2493fdef4fb90b')\" attach http://localhost:8445"
   ]
  },
  {
   "cell_type": "code",
   "execution_count": 50,
   "metadata": {},
   "outputs": [
    {
     "name": "stdout",
     "output_type": "stream",
     "text": [
      "0\n"
     ]
    }
   ],
   "source": [
    "!geth --exec \"eth.getTransactionCount('0x2e49e21e708b7d83746ec676a4afda47f1a0d693')\" attach http://localhost:8445"
   ]
  },
  {
   "cell_type": "code",
   "execution_count": 51,
   "metadata": {},
   "outputs": [
    {
     "name": "stdout",
     "output_type": "stream",
     "text": [
      "null\n"
     ]
    }
   ],
   "source": [
    "!geth --exec \"eth.getBlock(55169);\" attach http://localhost:8445"
   ]
  },
  {
   "cell_type": "code",
   "execution_count": null,
   "metadata": {},
   "outputs": [],
   "source": []
  }
 ],
 "metadata": {
  "kernelspec": {
   "display_name": "Python 3",
   "language": "python",
   "name": "python3"
  },
  "language_info": {
   "codemirror_mode": {
    "name": "ipython",
    "version": 3
   },
   "file_extension": ".py",
   "mimetype": "text/x-python",
   "name": "python",
   "nbconvert_exporter": "python",
   "pygments_lexer": "ipython3",
   "version": "3.7.3"
  }
 },
 "nbformat": 4,
 "nbformat_minor": 2
}
