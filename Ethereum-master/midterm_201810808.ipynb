{
 "cells": [
  {
   "cell_type": "markdown",
   "metadata": {},
   "source": [
    "# 휴먼지능정보공학과 201810808 정민지"
   ]
  },
  {
   "cell_type": "markdown",
   "metadata": {},
   "source": [
    "## 문제 1번"
   ]
  },
  {
   "cell_type": "markdown",
   "metadata": {},
   "source": [
    "## 1-1, 1-2 답"
   ]
  },
  {
   "cell_type": "code",
   "execution_count": 9,
   "metadata": {},
   "outputs": [
    {
     "name": "stdout",
     "output_type": "stream",
     "text": [
      "Overwriting src/midterm1.js\n"
     ]
    }
   ],
   "source": [
    "%%writefile src/midterm1.js\n",
    "miner.setEtherbase(eth.accounts[0]);\n",
    "console.log('1-1: ');\n",
    "console.log(JSON.stringify(admin.nodeInfo));\n",
    "console.log('\\n\\n1-2: ');\n",
    "console.log('accounts: ',eth.accounts);\n",
    "console.log('balance1(ether):',web3.fromWei(eth.getBalance(eth.accounts[0]),\"ether\"));\n",
    "console.log('balance2(ether):',web3.fromWei(eth.getBalance(eth.accounts[1]),\"ether\"));\n",
    "console.log('blockNumber:',eth.blockNumber);"
   ]
  },
  {
   "cell_type": "code",
   "execution_count": 10,
   "metadata": {
    "scrolled": false
   },
   "outputs": [
    {
     "name": "stdout",
     "output_type": "stream",
     "text": [
      "1-1: \n",
      "{\"enode\":\"enode://e4f7630be19767dcbb90fae3a7e4efd6c943f34454f027be517ec268e288af9f8d702e59e4cf4a9c412a1e399a9572cb616f78c0a3c3f244098ca88d45bd728e@211.58.196.139:38446\",\"enr\":\"0xf89cb84090a8bc60c2319a1ae33d089c777446cdd94dac69bfef74fb4b8ec26567f65a3d0ab4ff25a3fd15fdf41b9d8bbd41d6e57d9e5ab571b04c7ef1cfef4771da54f73883636170ccc5836574683ec5836574683f82696482763482697084d33ac48b89736563703235366b31a102e4f7630be19767dcbb90fae3a7e4efd6c943f34454f027be517ec268e288af9f8374637082962e8375647082962e\",\"id\":\"debc339bbe38a46e9a6d96bafa377ea9f8a4c494eb27edcf4caa35b8dfb625f8\",\"ip\":\"211.58.196.139\",\"listenAddr\":\"[::]:38446\",\"name\":\"Geth/minji2/v1.8.20-stable-24d727b6/windows-amd64/go1.11.2\",\"ports\":{\"discovery\":38446,\"listener\":38446},\"protocols\":{\"eth\":{\"config\":{\"chainId\":36,\"eip150Block\":0,\"eip150Hash\":\"0x0000000000000000000000000000000000000000000000000000000000000000\",\"eip155Block\":0,\"eip158Block\":0,\"homesteadBlock\":0},\"difficulty\":24550464,\"genesis\":\"0x5704d029fe80f4fb605c0cb5e31d591511f10a46a0cb8166f97d8d559f9bc5b0\",\"head\":\"0xf4f26df8b5a07549db1f6101426dc1b31dfd08c7aa555bca7cf7800c026e6cac\",\"network\":36}}}\n",
      "\n",
      "\n",
      "1-2: \n",
      "accounts:  0x8636392c06702b73aa713517e26ff6f9de10cc9f,0xa84c0e7543f8757226d14e2269298315d288b23a\n",
      "balance1(ether): 170\n",
      "balance2(ether): 85\n",
      "blockNumber: 187\n",
      "true\n"
     ]
    }
   ],
   "source": [
    "!geth --exec \"loadScript('src/midterm1.js')\" attach http://localhost:8446"
   ]
  },
  {
   "cell_type": "markdown",
   "metadata": {},
   "source": [
    "## 1-3, 1-4, 1-5 답"
   ]
  },
  {
   "cell_type": "code",
   "execution_count": 11,
   "metadata": {},
   "outputs": [
    {
     "name": "stdout",
     "output_type": "stream",
     "text": [
      "Overwriting src/midterm2.js\n"
     ]
    }
   ],
   "source": [
    "%%writefile src/midterm2.js\n",
    "var init_sender=eth.getBalance(eth.coinbase)\n",
    "var init_receiver=eth.getBalance(eth.accounts[1])\n",
    "console.log('init balance of sender');\n",
    "console.log('wei:',init_sender,' ether:',web3.fromWei(init_sender,\"ether\"));\n",
    "console.log('init balance of receiver');\n",
    "console.log('wei:',init_receiver,' ether:',web3.fromWei(init_receiver,\"ether\"));\n",
    "\n",
    "console.log('\\n\\n1-3: ');\n",
    "var t=eth.sendTransaction({from:eth.coinbase, to:eth.accounts[1], value:web3.toWei(1.11,\"ether\")});\n",
    "console.log('...mining start');\n",
    "miner.start(1);admin.sleepBlocks(1);miner.stop();\n",
    "console.log('mining done...\\n');\n",
    "\n",
    "\n",
    "console.log('\\n\\n1-4: ');\n",
    "console.log('transactionHash: ',t);\n",
    "console.log('getTransactionReceipt: ',JSON.stringify(eth.getTransactionReceipt(t)));\n",
    "\n",
    "\n",
    "console.log('\\n\\n1-5: ');\n",
    "console.log('balance of sender');\n",
    "console.log('wei: ',eth.getBalance(eth.coinbase),'ether:',web3.fromWei(eth.getBalance(eth.coinbase),\"ether\"));\n",
    "console.log('balance of receiver:');\n",
    "console.log('wei:',eth.getBalance(eth.accounts[1]),'ether:',web3.fromWei(eth.getBalance(eth.accounts[1]),\"ether\"));\n",
    "console.log('\\nincreased balance(receiver)');\n",
    "console.log('wei:',eth.getBalance(eth.accounts[1])-init_receiver,'eiter:',web3.fromWei(eth.getBalance(eth.accounts[1])-init_receiver,\"ether\"));\n",
    "console.log('blockNumber:',eth.blockNumber);"
   ]
  },
  {
   "cell_type": "code",
   "execution_count": 12,
   "metadata": {
    "scrolled": false
   },
   "outputs": [
    {
     "name": "stdout",
     "output_type": "stream",
     "text": [
      "init balance of sender\n",
      "wei: 170000000000000000000  ether: 170\n",
      "init balance of receiver\n",
      "wei: 85000000000000000000  ether: 85\n",
      "\n",
      "\n",
      "1-3: \n",
      "...mining start\n",
      "mining done...\n",
      "\n",
      "\n",
      "\n",
      "1-4: \n",
      "transactionHash:  0x8cf8b582b0c9d5caa09565d39c79e2e85b0456628cb4c76d06bce0ea91f4ac73\n",
      "getTransactionReceipt:  {\"blockHash\":\"0xc13093e0c19b1061a157134a281b07f72eef80b3f88087d8b4417d70583260b8\",\"blockNumber\":188,\"contractAddress\":null,\"cumulativeGasUsed\":21000,\"from\":\"0x8636392c06702b73aa713517e26ff6f9de10cc9f\",\"gasUsed\":21000,\"logs\":[],\"logsBloom\":\"0x00000000000000000000000000000000000000000000000000000000000000000000000000000000000000000000000000000000000000000000000000000000000000000000000000000000000000000000000000000000000000000000000000000000000000000000000000000000000000000000000000000000000000000000000000000000000000000000000000000000000000000000000000000000000000000000000000000000000000000000000000000000000000000000000000000000000000000000000000000000000000000000000000000000000000000000000000000000000000000000000000000000000000000000000000000000\",\"root\":\"0xf3dd89fd3ac0e0c16c8241a5e4d5e4982f726b2c20d442d2c0b02a8d8ef317f2\",\"to\":\"0xa84c0e7543f8757226d14e2269298315d288b23a\",\"transactionHash\":\"0x8cf8b582b0c9d5caa09565d39c79e2e85b0456628cb4c76d06bce0ea91f4ac73\",\"transactionIndex\":0}\n",
      "\n",
      "\n",
      "1-5: \n",
      "balance of sender\n",
      "wei:  173890000000000000000 ether: 173.89\n",
      "balance of receiver:\n",
      "wei: 86110000000000000000 ether: 86.11\n",
      "\n",
      "increased balance(receiver)\n",
      "wei: 1110000000000000000 eiter: 1.11\n",
      "blockNumber: 188\n",
      "true\n"
     ]
    }
   ],
   "source": [
    "!geth --exec \"loadScript('src/midterm2.js')\" attach http://localhost:8446"
   ]
  },
  {
   "cell_type": "markdown",
   "metadata": {},
   "source": [
    "---\n",
    "## 문제 2번"
   ]
  },
  {
   "cell_type": "markdown",
   "metadata": {},
   "source": [
    "## 2-1 답"
   ]
  },
  {
   "cell_type": "code",
   "execution_count": 1,
   "metadata": {},
   "outputs": [
    {
     "name": "stdout",
     "output_type": "stream",
     "text": [
      "Overwriting src/Math.sol\n"
     ]
    }
   ],
   "source": [
    "%%writefile src/Math.sol\n",
    "pragma solidity 0.4.25;\n",
    "contract Math {\n",
    "    function powerOf2(uint input) public pure returns (uint){\n",
    "        return 2**input;\n",
    "    }\n",
    "}"
   ]
  },
  {
   "cell_type": "markdown",
   "metadata": {},
   "source": [
    "## 2-2 답"
   ]
  },
  {
   "cell_type": "code",
   "execution_count": 2,
   "metadata": {},
   "outputs": [
    {
     "name": "stdout",
     "output_type": "stream",
     "text": [
      "\n",
      "======= src/Math.sol:Math =======\n",
      "Gas estimation:\n",
      "construction:\n",
      "   87 + 37400 = 37487\n",
      "external:\n",
      "   powerOf2(uint256):\t1876\n",
      "Binary: \n",
      "608060405234801561001057600080fd5b5060bb8061001f6000396000f300608060405260043610603f576000357c0100000000000000000000000000000000000000000000000000000000900463ffffffff168063bdacc0cf146044575b600080fd5b348015604f57600080fd5b50606c600480360381019080803590602001909291905050506082565b6040518082815260200191505060405180910390f35b60008160020a90509190505600a165627a7a7230582030b7e4b240b1a9aa1f0f55237e48e39d74484e072d521b32f357c3a896852cc40029\n",
      "Contract JSON ABI \n",
      "[{\"constant\":true,\"inputs\":[{\"name\":\"input\",\"type\":\"uint256\"}],\"name\":\"powerOf2\",\"outputs\":[{\"name\":\"\",\"type\":\"uint256\"}],\"payable\":false,\"stateMutability\":\"pure\",\"type\":\"function\"}]\n"
     ]
    }
   ],
   "source": [
    "!solc --abi --gas --bin src/Math.sol"
   ]
  },
  {
   "cell_type": "markdown",
   "metadata": {},
   "source": [
    "## 2-3 답"
   ]
  },
  {
   "cell_type": "code",
   "execution_count": 5,
   "metadata": {},
   "outputs": [
    {
     "name": "stdout",
     "output_type": "stream",
     "text": [
      "Overwriting src/mathDeploy.js\n"
     ]
    }
   ],
   "source": [
    "%%writefile src/mathDeploy.js\n",
    "var Web3=require('web3');\n",
    "var web3;\n",
    "if (typeof web3 !== 'undefined') {\n",
    "    web3 = new Web3(web3.currentProvider);\n",
    "} else {\n",
    "    web3 = new Web3(new Web3.providers.HttpProvider(\"http://localhost:8446\"));\n",
    "}\n",
    "var _abiArray=[{\"constant\":true,\"inputs\":[{\"name\":\"input\",\"type\":\"uint256\"}],\"name\":\"powerOf2\",\"outputs\":[{\"name\":\"\",\"type\":\"uint256\"}],\"payable\":false,\"stateMutability\":\"pure\",\"type\":\"function\"}];\n",
    "var _bin=\"608060405234801561001057600080fd5b5060bb8061001f6000396000f300608060405260043610603f576000357c0100000000000000000000000000000000000000000000000000000000900463ffffffff168063bdacc0cf146044575b600080fd5b348015604f57600080fd5b50606c600480360381019080803590602001909291905050506082565b6040518082815260200191505060405180910390f35b60008160020a90509190505600a165627a7a7230582030b7e4b240b1a9aa1f0f55237e48e39d74484e072d521b32f357c3a896852cc40029\";\n",
    "var _contract = new web3.eth.Contract(_abiArray);\n",
    "_contract\n",
    "    .deploy({data:\"0x\"+_bin})\n",
    "    .send({from: \"0x8636392c06702b73aa713517e26ff6f9de10cc9f\", gas: 364124, gasPrice: '1000000000'})\n",
    "    .then(function(newContractInstance){\n",
    "        console.log(newContractInstance.options.address) // instance with the new contract address\n",
    "    });"
   ]
  },
  {
   "cell_type": "code",
   "execution_count": 6,
   "metadata": {},
   "outputs": [
    {
     "name": "stdout",
     "output_type": "stream",
     "text": [
      "0xBa0b7CC386251Cd4744446B023ce67FA81b4C52d\n"
     ]
    }
   ],
   "source": [
    "!node src/mathDeploy.js"
   ]
  },
  {
   "cell_type": "markdown",
   "metadata": {},
   "source": [
    "## 2-4 답"
   ]
  },
  {
   "cell_type": "code",
   "execution_count": 7,
   "metadata": {},
   "outputs": [
    {
     "name": "stdout",
     "output_type": "stream",
     "text": [
      "Overwriting src/counterUse.js\n"
     ]
    }
   ],
   "source": [
    "%%writefile src/counterUse.js\n",
    "var Web3=require('web3');\n",
    "var web3 = new Web3(new Web3.providers.HttpProvider(\"http://localhost:8446\"));\n",
    "var abi =[{\"constant\":true,\"inputs\":[{\"name\":\"input\",\"type\":\"uint256\"}],\"name\":\"powerOf2\",\"outputs\":[{\"name\":\"\",\"type\":\"uint256\"}],\"payable\":false,\"stateMutability\":\"pure\",\"type\":\"function\"}];\n",
    "var addr = \"0xBa0b7CC386251Cd4744446B023ce67FA81b4C52d\";\n",
    "var mul = new web3.eth.Contract(abi,addr);\n",
    "mul.methods.powerOf2(8).call().then(function(str) {console.log(str);});\n",
    "mul.methods.powerOf2(32).call().then(function(str) {console.log(str);});"
   ]
  },
  {
   "cell_type": "code",
   "execution_count": 13,
   "metadata": {},
   "outputs": [
    {
     "name": "stdout",
     "output_type": "stream",
     "text": [
      "256\n",
      "4294967296\n"
     ]
    }
   ],
   "source": [
    "!node src/counterUse.js"
   ]
  },
  {
   "cell_type": "markdown",
   "metadata": {},
   "source": [
    "2-5"
   ]
  },
  {
   "cell_type": "code",
   "execution_count": 19,
   "metadata": {},
   "outputs": [
    {
     "name": "stdout",
     "output_type": "stream",
     "text": [
      "Overwriting scripts/powerOf2.html\n"
     ]
    }
   ],
   "source": [
    "%%writefile scripts/powerOf2.html\n",
    "<!doctype>\n",
    "<html>\n",
    "<head>\n",
    "<script src=\"https://cdn.jsdelivr.net/npm/web3@1.2.7/dist/web3.min.js\"></script>\n",
    "<script type=\"text/javascript\">\n",
    "    var web3 = new Web3(new Web3.providers.HttpProvider(\"http://localhost:8446\"));\n",
    "    function result(){\n",
    "        var shelloContract = new web3.eth.Contract([{\"constant\":true,\"inputs\":[{\"name\":\"input\",\"type\":\"uint256\"}],\"name\":\"powerOf2\",\"outputs\":[{\"name\":\"\",\"type\":\"uint256\"}],\"payable\":false,\"stateMutability\":\"pure\",\"type\":\"function\"}],\n",
    "                                      \"0xBa0b7CC386251Cd4744446B023ce67FA81b4C52d\");\n",
    "        shelloContract.methods.powerOf2(32).call().then(res=>\n",
    "                                                     document.getElementById('powerOf2').innerText=\"The result of 2^32: \"+res);\n",
    "    }\n",
    "</script>\n",
    "</head>\n",
    "<body>\n",
    "    <h1>powerOf2</h1>\n",
    "    <button type=\"button\" onClick=\"result();\">result of 2^32</button>\n",
    "    <div></div>\n",
    "    <div id=\"powerOf2\"></div>\n",
    "</body>\n",
    "</html>"
   ]
  },
  {
   "cell_type": "markdown",
   "metadata": {},
   "source": [
    "## 2-5 답"
   ]
  },
  {
   "cell_type": "code",
   "execution_count": 20,
   "metadata": {},
   "outputs": [],
   "source": [
    "from IPython.display import Image"
   ]
  },
  {
   "cell_type": "code",
   "execution_count": 21,
   "metadata": {},
   "outputs": [
    {
     "data": {
      "image/png": "[encoded data removed]",
      "text/plain": [
       "<IPython.core.display.Image object>"
      ]
     },
     "execution_count": 21,
     "metadata": {},
     "output_type": "execute_result"
    }
   ],
   "source": [
    "Image(\"C:/Users/minji/Desktop/powerOf2_201810808.PNG\")"
   ]
  },
  {
   "cell_type": "markdown",
   "metadata": {},
   "source": [
    "---"
   ]
  },
  {
   "cell_type": "code",
   "execution_count": null,
   "metadata": {},
   "outputs": [],
   "source": []
  },
  {
   "cell_type": "code",
   "execution_count": null,
   "metadata": {},
   "outputs": [],
   "source": []
  }
 ],
 "metadata": {
  "kernelspec": {
   "display_name": "Python 3",
   "language": "python",
   "name": "python3"
  },
  "language_info": {
   "codemirror_mode": {
    "name": "ipython",
    "version": 3
   },
   "file_extension": ".py",
   "mimetype": "text/x-python",
   "name": "python",
   "nbconvert_exporter": "python",
   "pygments_lexer": "ipython3",
   "version": "3.7.3"
  }
 },
 "nbformat": 4,
 "nbformat_minor": 2
}
