{
 "cells": [
  {
   "cell_type": "code",
   "execution_count": 1,
   "metadata": {},
   "outputs": [
    {
     "name": "stdout",
     "output_type": "stream",
     "text": [
      "C:\\Program Files\\nodejs\\npm\n",
      "C:\\Program Files\\nodejs\\npm.cmd\n"
     ]
    }
   ],
   "source": [
    "! where npm"
   ]
  },
  {
   "cell_type": "code",
   "execution_count": 2,
   "metadata": {},
   "outputs": [
    {
     "name": "stdout",
     "output_type": "stream",
     "text": [
      "C:\\Program Files\\nodejs\\npm\n",
      "C:\\Program Files\\nodejs\\npm.cmd\n"
     ]
    }
   ],
   "source": [
    "!where npm"
   ]
  },
  {
   "cell_type": "code",
   "execution_count": 1,
   "metadata": {},
   "outputs": [
    {
     "name": "stdout",
     "output_type": "stream",
     "text": [
      "201810808@1.0.0 C:\\Users\\minji\\Code\\201810808\n",
      "`-- web3@1.2.7\n",
      "  +-- web3-bzz@1.2.7\n",
      "  +-- web3-core@1.2.7\n",
      "  +-- web3-eth@1.2.7\n",
      "  +-- web3-eth-personal@1.2.7\n",
      "  +-- web3-net@1.2.7\n",
      "  +-- web3-shh@1.2.7\n",
      "  `-- web3-utils@1.2.7\n",
      "\n"
     ]
    }
   ],
   "source": [
    "!npm list --depth 1"
   ]
  },
  {
   "cell_type": "code",
   "execution_count": 2,
   "metadata": {},
   "outputs": [
    {
     "name": "stdout",
     "output_type": "stream",
     "text": [
      "Writing _ganacheNow.bat\n"
     ]
    }
   ],
   "source": [
    "%%writefile _ganacheNow.bat\n",
    "node_modules\\.bin\\ganache-cli --unlock 0 --host \"127.0.0.1\" --port \"8345\""
   ]
  },
  {
   "cell_type": "code",
   "execution_count": null,
   "metadata": {},
   "outputs": [],
   "source": []
  }
 ],
 "metadata": {
  "kernelspec": {
   "display_name": "Python 3",
   "language": "python",
   "name": "python3"
  },
  "language_info": {
   "codemirror_mode": {
    "name": "ipython",
    "version": 3
   },
   "file_extension": ".py",
   "mimetype": "text/x-python",
   "name": "python",
   "nbconvert_exporter": "python",
   "pygments_lexer": "ipython3",
   "version": "3.7.3"
  }
 },
 "nbformat": 4,
 "nbformat_minor": 2
}
