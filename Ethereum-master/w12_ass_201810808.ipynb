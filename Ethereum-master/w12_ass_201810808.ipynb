{
 "cells": [
  {
   "cell_type": "markdown",
   "metadata": {},
   "source": [
    "# 휴먼지능정보공학과 201810808 정민지"
   ]
  },
  {
   "cell_type": "markdown",
   "metadata": {},
   "source": [
    "## 연습문제 Multiply7\n",
    "\n",
    "\n",
    "\n",
    "앞서 Multiply7을 구현해 보았다.\n",
    "\n",
    "이 컨트랙에 이벤트를 추가해서 구현해보자.\n",
    "\n",
    "geth 또는 ganache 가운데 어느 것이나 선택해서 실행해도 좋다.\n",
    "\n",
    "아래 주어진 미완성 코드를 구현해서 노드에서 이벤트를 띄워보자.\n",
    "\n",
    "\n",
    "\n",
    "* 함수는 param4인자를 받아서 곱하기 7 연산을 한다. 8과 16의 연산을 실행하자. 그 결과는 56과 112가 출력될 것이다.\n",
    "\n",
    "* 이벤트로 넘겨주는 매개변수 param1은 누가 이 함수를 호출했는지 (address), param2는 언제 호출되었는지 (timestamp), 마지막으로 param3는 연산결과를 출력하도록 한다.\n",
    "\n",
    "\n",
    "\n",
    "* 미완성 코드\n",
    "```\n",
    "contract Multiply7Event {\n",
    "    event Print(param1, param2, param3);\n",
    "    function multiply(param4)\n",
    "```\n",
    "\n"
   ]
  },
  {
   "cell_type": "markdown",
   "metadata": {},
   "source": [
    "#### 단계 1. 컨트랙 개발"
   ]
  },
  {
   "cell_type": "code",
   "execution_count": 33,
   "metadata": {},
   "outputs": [
    {
     "name": "stdout",
     "output_type": "stream",
     "text": [
      "Overwriting src/Multiply7Event.sol\n"
     ]
    }
   ],
   "source": [
    "%%writefile src/Multiply7Event.sol\n",
    "pragma solidity 0.5.1;\n",
    "contract Multiply7Event {\n",
    "    event Print(address param1,uint256 param2,uint param3);\n",
    "    function multiply(uint param4) public{\n",
    "        emit Print(msg.sender,now,param4*7);\n",
    "    }\n",
    "}"
   ]
  },
  {
   "cell_type": "markdown",
   "metadata": {},
   "source": [
    "#### 단계 2. 컴파일"
   ]
  },
  {
   "cell_type": "code",
   "execution_count": 34,
   "metadata": {},
   "outputs": [
    {
     "name": "stdout",
     "output_type": "stream",
     "text": [
      "\n",
      "======= src/Multiply7Event.sol:Multiply7Event =======\n",
      "Gas estimation:\n",
      "construction:\n",
      "   105 + 56400 = 56505\n",
      "external:\n",
      "   multiply(uint256):\t1854\n",
      "Binary: \n",
      "608060405234801561001057600080fd5b5061011a806100206000396000f3fe6080604052600436106039576000357c010000000000000000000000000000000000000000000000000000000090048063c6888fa114603e575b600080fd5b348015604957600080fd5b50607360048036036020811015605e57600080fd5b81019080803590602001909291905050506075565b005b7f91da4985ab616136202f4e81fd2d8cac1eb12591132d609cece407f7c6fb9205334260078402604051808473ffffffffffffffffffffffffffffffffffffffff1673ffffffffffffffffffffffffffffffffffffffff168152602001838152602001828152602001935050505060405180910390a15056fea165627a7a723058208e3f4dc7f2f9fdf9be377dd06070462d126d774009a418d98908c211a63560c40029\n",
      "Contract JSON ABI \n",
      "[{\"constant\":false,\"inputs\":[{\"name\":\"param4\",\"type\":\"uint256\"}],\"name\":\"multiply\",\"outputs\":[],\"payable\":false,\"stateMutability\":\"nonpayable\",\"type\":\"function\"},{\"anonymous\":false,\"inputs\":[{\"indexed\":false,\"name\":\"param1\",\"type\":\"address\"},{\"indexed\":false,\"name\":\"param2\",\"type\":\"uint256\"},{\"indexed\":false,\"name\":\"param3\",\"type\":\"uint256\"}],\"name\":\"Print\",\"type\":\"event\"}]\n"
     ]
    }
   ],
   "source": [
    "!solc --gas --abi --bin src/Multiply7Event.sol"
   ]
  },
  {
   "cell_type": "markdown",
   "metadata": {},
   "source": [
    "#### 단계 3. 컨트랙 배포"
   ]
  },
  {
   "cell_type": "code",
   "execution_count": 39,
   "metadata": {},
   "outputs": [
    {
     "name": "stdout",
     "output_type": "stream",
     "text": [
      "Overwriting src/Multiply7EventDeploy.js\n"
     ]
    }
   ],
   "source": [
    "%%writefile src/Multiply7EventDeploy.js\n",
    "var Web3 = require('web3');\n",
    "var web3 = new Web3(new Web3.providers.HttpProvider(\"http://localhost:8345\"));\n",
    "var _abiArray = [{\"constant\":false,\"inputs\":[{\"name\":\"param4\",\"type\":\"uint256\"}],\"name\":\"multiply\",\"outputs\":[],\"payable\":false,\"stateMutability\":\"nonpayable\",\"type\":\"function\"},{\"anonymous\":false,\"inputs\":[{\"indexed\":false,\"name\":\"param1\",\"type\":\"address\"},{\"indexed\":false,\"name\":\"param2\",\"type\":\"uint256\"},{\"indexed\":false,\"name\":\"param3\",\"type\":\"uint256\"}],\"name\":\"Print\",\"type\":\"event\"}];\n",
    "var _bin = \"0x\" + \"608060405234801561001057600080fd5b5061011a806100206000396000f3fe6080604052600436106039576000357c010000000000000000000000000000000000000000000000000000000090048063c6888fa114603e575b600080fd5b348015604957600080fd5b50607360048036036020811015605e57600080fd5b81019080803590602001909291905050506075565b005b7f91da4985ab616136202f4e81fd2d8cac1eb12591132d609cece407f7c6fb9205334260078402604051808473ffffffffffffffffffffffffffffffffffffffff1673ffffffffffffffffffffffffffffffffffffffff168152602001838152602001828152602001935050505060405180910390a15056fea165627a7a723058208e3f4dc7f2f9fdf9be377dd06070462d126d774009a418d98908c211a63560c40029\";\n",
    "async function deploy() {\n",
    "    const accounts = await web3.eth.getAccounts();//값 반환 기다림\n",
    "    console.log(\"Deploying the contract from \" + accounts[0]);\n",
    "    var deployed = await new web3.eth.Contract(_abiArray)\n",
    "        .deploy({data: _bin})\n",
    "        .send({from: accounts[0], gas: 1000000}, function(err, transactionHash) {\n",
    "                if(!err) console.log(\"hash: \" + transactionHash); \n",
    "        })\n",
    "    console.log(\"---> The contract deployed to: \" + deployed.options.address)\n",
    "}\n",
    "deploy()"
   ]
  },
  {
   "cell_type": "code",
   "execution_count": 40,
   "metadata": {},
   "outputs": [
    {
     "name": "stdout",
     "output_type": "stream",
     "text": [
      "Deploying the contract from 0x008D3582CBB59Ba9B39be6A03C43528F90416f20\n",
      "hash: 0x6c5bac66dc5697e95b12f03b1a223e1fa7545ef15b1b3063c879e0635d2d9946\n",
      "---> The contract deployed to: 0x21129C25b10896f2824541Fe5cDc55B4fc5538C8\n"
     ]
    }
   ],
   "source": [
    "!node src/Multiply7EventDeploy.js"
   ]
  },
  {
   "cell_type": "markdown",
   "metadata": {},
   "source": [
    "#### 단계 4. 사용"
   ]
  },
  {
   "cell_type": "code",
   "execution_count": 88,
   "metadata": {},
   "outputs": [
    {
     "name": "stdout",
     "output_type": "stream",
     "text": [
      "Overwriting src/Multiply7EventUse.js\n"
     ]
    }
   ],
   "source": [
    "%%writefile src/Multiply7EventUse.js\n",
    "var Web3=require('web3');\n",
    "var web3 = new Web3(new Web3.providers.HttpProvider(\"http://localhost:8345\"));\n",
    "var _abiArray = [{\"constant\":false,\"inputs\":[{\"name\":\"param4\",\"type\":\"uint256\"}],\"name\":\"multiply\",\"outputs\":[],\"payable\":false,\"stateMutability\":\"nonpayable\",\"type\":\"function\"},{\"anonymous\":false,\"inputs\":[{\"indexed\":false,\"name\":\"param1\",\"type\":\"address\"},{\"indexed\":false,\"name\":\"param2\",\"type\":\"uint256\"},{\"indexed\":false,\"name\":\"param3\",\"type\":\"uint256\"}],\"name\":\"Print\",\"type\":\"event\"}];\n",
    "var _test = new web3.eth.Contract(_abiArray, '0x21129C25b10896f2824541Fe5cDc55B4fc5538C8');\n",
    "var event = _test.events.Print({fromBlock: 0}, function (error, result) {\n",
    "    if (!error) {\n",
    "        console.log(\"Event fired: \" + JSON.stringify(result) + \"\\n---> \" + JSON.stringify(result.returnValues));\n",
    "    }\n",
    "});\n",
    "\n",
    "async function doIt() {\n",
    "    const accounts = await web3.eth.getAccounts();\n",
    "    //console.log(\"Account: \" + accounts[0]);\n",
    "    const value = await _test.methods.multiply(8)\n",
    "        .send({from: accounts[0], gas: 364124, gasPrice: '1000000000'})\n",
    "    console.log(value.events.Print.returnValues);\n",
    "    console.log(\"\\n-------------------------answer-------------------------\");\n",
    "    console.log(\"address:\",value.events.Print.returnValues[0]);\n",
    "    console.log(\"timestamp:\",value.events.Print.returnValues[1]);\n",
    "    console.log(\"result:\",value.events.Print.returnValues[2]);\n",
    "    console.log(\"--------------------------------------------------------\\n\");\n",
    "    \n",
    "    const value2 = await _test.methods.multiply(16)\n",
    "        .send({from: accounts[0], gas: 364124, gasPrice: '1000000000'})\n",
    "    console.log(value2.events.Print.returnValues);\n",
    "    console.log(\"\\n-------------------------answer-------------------------\");\n",
    "    console.log(\"address:\",value2.events.Print.returnValues[0]);\n",
    "    console.log(\"timestamp:\",value2.events.Print.returnValues[1]);\n",
    "    console.log(\"result:\",value2.events.Print.returnValues[2]);\n",
    "    console.log(\"--------------------------------------------------------\\n\");\n",
    "}\n",
    "doIt()"
   ]
  },
  {
   "cell_type": "markdown",
   "metadata": {},
   "source": [
    "## 답"
   ]
  },
  {
   "cell_type": "code",
   "execution_count": 89,
   "metadata": {},
   "outputs": [
    {
     "name": "stdout",
     "output_type": "stream",
     "text": [
      "Result {\n",
      "  '0': '0x008D3582CBB59Ba9B39be6A03C43528F90416f20',\n",
      "  '1': '1591514514',\n",
      "  '2': '56',\n",
      "  param1: '0x008D3582CBB59Ba9B39be6A03C43528F90416f20',\n",
      "  param2: '1591514514',\n",
      "  param3: '56'\n",
      "}\n",
      "\n",
      "-------------------------answer-------------------------\n",
      "address: 0x008D3582CBB59Ba9B39be6A03C43528F90416f20\n",
      "timestamp: 1591514514\n",
      "result: 56\n",
      "--------------------------------------------------------\n",
      "\n",
      "Result {\n",
      "  '0': '0x008D3582CBB59Ba9B39be6A03C43528F90416f20',\n",
      "  '1': '1591514514',\n",
      "  '2': '112',\n",
      "  param1: '0x008D3582CBB59Ba9B39be6A03C43528F90416f20',\n",
      "  param2: '1591514514',\n",
      "  param3: '112'\n",
      "}\n",
      "\n",
      "-------------------------answer-------------------------\n",
      "address: 0x008D3582CBB59Ba9B39be6A03C43528F90416f20\n",
      "timestamp: 1591514514\n",
      "result: 112\n",
      "--------------------------------------------------------\n",
      "\n"
     ]
    }
   ],
   "source": [
    "!node src/Multiply7EventUse.js"
   ]
  },
  {
   "cell_type": "code",
   "execution_count": null,
   "metadata": {},
   "outputs": [],
   "source": []
  }
 ],
 "metadata": {
  "kernelspec": {
   "display_name": "Python 3",
   "language": "python",
   "name": "python3"
  },
  "language_info": {
   "codemirror_mode": {
    "name": "ipython",
    "version": 3
   },
   "file_extension": ".py",
   "mimetype": "text/x-python",
   "name": "python",
   "nbconvert_exporter": "python",
   "pygments_lexer": "ipython3",
   "version": "3.7.3"
  }
 },
 "nbformat": 4,
 "nbformat_minor": 2
}
