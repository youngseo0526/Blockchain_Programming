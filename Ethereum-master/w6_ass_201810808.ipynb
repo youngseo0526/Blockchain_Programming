{
 "cells": [
  {
   "cell_type": "markdown",
   "metadata": {},
   "source": [
    "# 문제 1"
   ]
  },
  {
   "cell_type": "markdown",
   "metadata": {},
   "source": [
    "### * ganache-cli를 백그라운드로 띄우고, node에서 연결하여, coinbase주소를 출력하세요. "
   ]
  },
  {
   "cell_type": "code",
   "execution_count": 1,
   "metadata": {},
   "outputs": [
    {
     "name": "stdout",
     "output_type": "stream",
     "text": [
      "Overwriting src/getCoinbase.js\n"
     ]
    }
   ],
   "source": [
    "%%writefile src/getCoinbase.js\n",
    "var Web3 = require('web3');\n",
    "var web3 = new Web3('http://localhost:8345');\n",
    "web3.eth.getCoinbase().then(console.log);"
   ]
  },
  {
   "cell_type": "code",
   "execution_count": 2,
   "metadata": {
    "scrolled": true
   },
   "outputs": [
    {
     "name": "stdout",
     "output_type": "stream",
     "text": [
      "0x76200c88d094dccee8e7a3db3a000c24b2aa263b\n"
     ]
    }
   ],
   "source": [
    "!node src/getCoinbase.js"
   ]
  },
  {
   "cell_type": "markdown",
   "metadata": {},
   "source": [
    "### * 위 문제를 geth를 띄우고 실행해보세요. geth에서의 coinbase를 출력하세요."
   ]
  },
  {
   "cell_type": "code",
   "execution_count": 3,
   "metadata": {},
   "outputs": [
    {
     "name": "stdout",
     "output_type": "stream",
     "text": [
      "\"0x76200c88d094dccee8e7a3db3a000c24b2aa263b\"\n"
     ]
    }
   ],
   "source": [
    "!geth --exec eth.coinbase attach http://localhost:8345"
   ]
  },
  {
   "cell_type": "markdown",
   "metadata": {},
   "source": [
    "### * ganache-cli의 coinbase에서 geth의 coinbase로 1 ether를 송금해 보세요. 송금 성공이면 잔고변화를 출력하고, 실패이면 그 이유를 간단히 설명하세요.\n",
    "\n"
   ]
  },
  {
   "cell_type": "code",
   "execution_count": 4,
   "metadata": {},
   "outputs": [
    {
     "name": "stdout",
     "output_type": "stream",
     "text": [
      "\"0x76200c88d094dccee8e7a3db3a000c24b2aa263b\"\n"
     ]
    }
   ],
   "source": [
    "!geth --exec eth.coinbase attach http://localhost:8345"
   ]
  },
  {
   "cell_type": "code",
   "execution_count": 9,
   "metadata": {},
   "outputs": [
    {
     "name": "stdout",
     "output_type": "stream",
     "text": [
      "\"0x8e71085ffefccb88a4b54d4c93a866db7928a486\"\n"
     ]
    }
   ],
   "source": [
    "!geth --exec eth.coinbase attach http://localhost:8445"
   ]
  },
  {
   "cell_type": "code",
   "execution_count": 163,
   "metadata": {},
   "outputs": [
    {
     "name": "stdout",
     "output_type": "stream",
     "text": [
      "Overwriting src/transToGanache.js\n"
     ]
    }
   ],
   "source": [
    "%%writefile src/transToGanache.js\n",
    "var Web3 = require('web3');\n",
    "var web3 = new Web3('http://localhost:8345');\n",
    "web3.eth.getBalance('0x76200c88d094dccee8e7a3db3a000c24b2aa263b').then(console.log);\n",
    "web3.eth.getBalance('0x8e71085ffefccb88a4b54d4c93a866db7928a486').then(console.log);\n",
    "web3.eth.sendTransaction({from:'0x76200c88d094dccee8e7a3db3a000c24b2aa263b', to:'0x8e71085ffefccb88a4b54d4c93a866db7928a486', value:web3.utils.toWei('1')});"
   ]
  },
  {
   "cell_type": "code",
   "execution_count": 164,
   "metadata": {},
   "outputs": [
    {
     "name": "stdout",
     "output_type": "stream",
     "text": [
      "91995799999999980000\n",
      "8000000000000020000\n"
     ]
    }
   ],
   "source": [
    "!node src/transToGanache.js"
   ]
  },
  {
   "cell_type": "code",
   "execution_count": 166,
   "metadata": {},
   "outputs": [
    {
     "name": "stdout",
     "output_type": "stream",
     "text": [
      "Overwriting src/checkTrans.js\n"
     ]
    }
   ],
   "source": [
    "%%writefile src/checkTrans.js\n",
    "var Web3 = require('web3');\n",
    "var web3 = new Web3('http://localhost:8345');\n",
    "web3.eth.getBalance('0x76200c88d094dccee8e7a3db3a000c24b2aa263b').then(console.log);\n",
    "web3.eth.getBalance('0x8e71085ffefccb88a4b54d4c93a866db7928a486').then(console.log);"
   ]
  },
  {
   "cell_type": "code",
   "execution_count": 167,
   "metadata": {},
   "outputs": [
    {
     "name": "stdout",
     "output_type": "stream",
     "text": [
      "90995379999999980000\n",
      "9000000000000020000\n"
     ]
    }
   ],
   "source": [
    "!node src/checkTrans.js"
   ]
  },
  {
   "cell_type": "markdown",
   "metadata": {},
   "source": [
    "1 ether가 송금 되었음을 확인 할 수 있다.(1 ether=1000000000000000000 wei)"
   ]
  },
  {
   "cell_type": "markdown",
   "metadata": {},
   "source": [
    "# 문제 2"
   ]
  },
  {
   "cell_type": "markdown",
   "metadata": {},
   "source": [
    "### * ganache-cli에 연결하고, 현재 coinbase의 잔고를 ether로 출력하세요."
   ]
  },
  {
   "cell_type": "code",
   "execution_count": 3,
   "metadata": {},
   "outputs": [
    {
     "name": "stdout",
     "output_type": "stream",
     "text": [
      "Overwriting src/getCBBalance.js\n"
     ]
    }
   ],
   "source": [
    "%%writefile src/getCBBalance.js\n",
    "var Web3 = require('web3');\n",
    "var web3 = new Web3('http://localhost:8345');\n",
    "\n",
    "web3.eth.getBalance('0x76200c88d094dccee8e7a3db3a000c24b2aa263b').then(web3.utils.fromWei).then(console.log);"
   ]
  },
  {
   "cell_type": "code",
   "execution_count": 4,
   "metadata": {},
   "outputs": [
    {
     "name": "stdout",
     "output_type": "stream",
     "text": [
      "90.99537999999998\n"
     ]
    }
   ],
   "source": [
    "!node src/getCBBalance.js"
   ]
  },
  {
   "cell_type": "markdown",
   "metadata": {},
   "source": [
    "### * 현재 거래소 환전가격을 구해서 한화로 계산하여 얼마인지 출력하세요.\n",
    "\n"
   ]
  },
  {
   "cell_type": "code",
   "execution_count": 172,
   "metadata": {},
   "outputs": [
    {
     "name": "stdout",
     "output_type": "stream",
     "text": [
      "Overwriting src/printWon.js\n"
     ]
    }
   ],
   "source": [
    "%%writefile src/printWon.js\n",
    "var Web3 = require('web3');\n",
    "var web3 = new Web3('http://localhost:8345');\n",
    "console.log(240385.40*90.99537999999998,'won');"
   ]
  },
  {
   "cell_type": "code",
   "execution_count": 173,
   "metadata": {},
   "outputs": [
    {
     "name": "stdout",
     "output_type": "stream",
     "text": [
      "21873960.819451995 won\n"
     ]
    }
   ],
   "source": [
    "!node src/printWon.js"
   ]
  },
  {
   "cell_type": "code",
   "execution_count": null,
   "metadata": {},
   "outputs": [],
   "source": []
  }
 ],
 "metadata": {
  "kernelspec": {
   "display_name": "Python 3",
   "language": "python",
   "name": "python3"
  },
  "language_info": {
   "codemirror_mode": {
    "name": "ipython",
    "version": 3
   },
   "file_extension": ".py",
   "mimetype": "text/x-python",
   "name": "python",
   "nbconvert_exporter": "python",
   "pygments_lexer": "ipython3",
   "version": "3.7.3"
  }
 },
 "nbformat": 4,
 "nbformat_minor": 2
}
