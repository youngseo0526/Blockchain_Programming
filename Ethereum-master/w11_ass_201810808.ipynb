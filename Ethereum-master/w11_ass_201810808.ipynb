{
 "cells": [
  {
   "cell_type": "markdown",
   "metadata": {},
   "source": [
    "# 휴먼지능정보공학과 201810808 정민지\n",
    "\n",
    "\n",
    "## 연습문제: 은행 송금\n",
    "\n",
    "\n",
    "\n",
    "은행은 자신이 계정을 개설하여, 입출금을 할 수 있다.\n",
    "\n",
    "컨트랙을 프로그램하여 아래 기능을 실행하도록 하세요.\n",
    "\n",
    "주피터 노트북으로 프로그램하세요.\n",
    "\n",
    "\n",
    "\n",
    "은행 컨트랙의 함수는 다음과 같이 만드세요.\n",
    "\n",
    "* 입금액을 정해서 입금\n",
    "\n",
    "\tfunction deposit(uint amount) public payable\n",
    "\n",
    "* 전액 인출 함수\n",
    "\n",
    "\tfunction widthdrawAll() public\n",
    "\n",
    "* 컨트랙 잔고확인 함수 (this를 이용한 잔고, 상태변수 잔고 (this 잔고가 맞는지 확인하는 용도)\n",
    "\n",
    "\tfunction getBalance() public view returns(uint, uint)\n",
    "\n",
    "* 다른 계정으로 계좌이체 함수\n",
    "\n",
    "\tfunction forwardTo(address payable _receiver) public payable\n",
    "\n",
    "\n",
    "\n",
    "아래 기능을 실행해 보세요.\n",
    "\n",
    "- 입금 11111 wei, 222 wei를 하고 잔고 11333 wei 출력\n",
    "\n",
    "- 자신의 2번째 계정으로 계좌이체 333 wei하고 컨트랙 잔고 11000 wei 출력, 자신의 2번째 계정 잔고 증가분 (+333 wei) 출력\n",
    "\n",
    "- 전액 인출하고 11000 wei, 자신의 잔고 증가분 출력 (+11000 wei)"
   ]
  },
  {
   "cell_type": "code",
   "execution_count": 579,
   "metadata": {},
   "outputs": [
    {
     "name": "stdout",
     "output_type": "stream",
     "text": [
      "Overwriting src/Bank.sol\n"
     ]
    }
   ],
   "source": [
    "%%writefile src/Bank.sol\n",
    "pragma solidity 0.5.1;\n",
    "contract Bank {\n",
    "    \n",
    "    address payable myAddr1;\n",
    "    address payable myAddr2;\n",
    "    uint balance;\n",
    "    uint balNow;\n",
    "    uint init1;\n",
    "    uint init2;\n",
    "    \n",
    "    constructor() public {\n",
    "        balance = address(this).balance;\n",
    "    }\n",
    "    \n",
    "    function setAddr1(address payable addr1) public {\n",
    "        myAddr1=addr1;\n",
    "    }\n",
    "    \n",
    "    function setAddr2(address payable addr2) public {\n",
    "        myAddr2=addr2;\n",
    "    }\n",
    "    \n",
    "    function deposit(uint amount) public payable{\n",
    "        require(msg.value == amount); //require: 예외발생구문\n",
    "        balance += amount;\n",
    "    }\n",
    "    \n",
    "    function widthdrawAll() public{\n",
    "        balNow=address(this).balance;\n",
    "        balance -= balNow;\n",
    "        require(myAddr1.transfer(balNow));\n",
    "    }\n",
    "    \n",
    "    function getBalance() public view returns(uint, uint){\n",
    "        return (address(this).balance,balance); \n",
    "    }\n",
    "    \n",
    "  \n",
    "    function forwardTo(address payable _receiver) public payable{\n",
    "        balance -= 333;\n",
    "        require(_receiver.send(333));\n",
    "    }\n",
    "    \n",
    "    function balanceOfAccount1() public view returns (uint) {\n",
    "        return myAddr1.balance;\n",
    "    }\n",
    "    \n",
    "    function balanceOfAccount2() public view returns (uint) {\n",
    "        return myAddr2.balance;\n",
    "    }\n",
    "    \n",
    "    function setInit1() public {\n",
    "        init1=myAddr1.balance;\n",
    "    }\n",
    "    \n",
    "    function subtract1() public view returns (uint) {\n",
    "        return myAddr1.balance-init1;\n",
    "    }\n",
    "    \n",
    "    function setInit2() public {\n",
    "        init2=myAddr2.balance;\n",
    "    }\n",
    "    \n",
    "    function subtract2() public view returns (uint) {\n",
    "        return myAddr2.balance-init2;\n",
    "    }\n",
    "    \n",
    "}"
   ]
  },
  {
   "cell_type": "code",
   "execution_count": 522,
   "metadata": {
    "scrolled": false
   },
   "outputs": [
    {
     "name": "stdout",
     "output_type": "stream",
     "text": [
      "\n",
      "======= src/Bank.sol:Bank =======\n",
      "Gas estimation:\n",
      "construction:\n",
      "   20787 + 327000 = 347787\n",
      "external:\n",
      "   balanceOfAccount1():\t992\n",
      "   balanceOfAccount2():\t860\n",
      "   deposit(uint256):\t20646\n",
      "   forwardTo(address):\tinfinite\n",
      "   getBalance():\t835\n",
      "   setAddr1(address):\t20704\n",
      "   setAddr2(address):\t20726\n",
      "   setInit1():\t20827\n",
      "   setInit2():\t20915\n",
      "   subtract1():\t1154\n",
      "   subtract2():\t1220\n",
      "   widthdrawAll():\tinfinite\n",
      "Binary: \n",
      "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\n",
      "Contract JSON ABI \n",
      "[{\"constant\":true,\"inputs\":[],\"name\":\"getBalance\",\"outputs\":[{\"name\":\"\",\"type\":\"uint256\"},{\"name\":\"\",\"type\":\"uint256\"}],\"payable\":false,\"stateMutability\":\"view\",\"type\":\"function\"},{\"constant\":true,\"inputs\":[],\"name\":\"balanceOfAccount2\",\"outputs\":[{\"name\":\"\",\"type\":\"uint256\"}],\"payable\":false,\"stateMutability\":\"view\",\"type\":\"function\"},{\"constant\":false,\"inputs\":[],\"name\":\"setInit1\",\"outputs\":[],\"payable\":false,\"stateMutability\":\"nonpayable\",\"type\":\"function\"},{\"constant\":false,\"inputs\":[{\"name\":\"_receiver\",\"type\":\"address\"}],\"name\":\"forwardTo\",\"outputs\":[],\"payable\":true,\"stateMutability\":\"payable\",\"type\":\"function\"},{\"constant\":false,\"inputs\":[],\"name\":\"widthdrawAll\",\"outputs\":[],\"payable\":false,\"stateMutability\":\"nonpayable\",\"type\":\"function\"},{\"constant\":true,\"inputs\":[],\"name\":\"subtract1\",\"outputs\":[{\"name\":\"\",\"type\":\"uint256\"}],\"payable\":false,\"stateMutability\":\"view\",\"type\":\"function\"},{\"constant\":false,\"inputs\":[],\"name\":\"setInit2\",\"outputs\":[],\"payable\":false,\"stateMutability\":\"nonpayable\",\"type\":\"function\"},{\"constant\":true,\"inputs\":[],\"name\":\"balanceOfAccount1\",\"outputs\":[{\"name\":\"\",\"type\":\"uint256\"}],\"payable\":false,\"stateMutability\":\"view\",\"type\":\"function\"},{\"constant\":true,\"inputs\":[],\"name\":\"subtract2\",\"outputs\":[{\"name\":\"\",\"type\":\"uint256\"}],\"payable\":false,\"stateMutability\":\"view\",\"type\":\"function\"},{\"constant\":false,\"inputs\":[{\"name\":\"amount\",\"type\":\"uint256\"}],\"name\":\"deposit\",\"outputs\":[],\"payable\":true,\"stateMutability\":\"payable\",\"type\":\"function\"},{\"constant\":false,\"inputs\":[{\"name\":\"addr1\",\"type\":\"address\"}],\"name\":\"setAddr1\",\"outputs\":[],\"payable\":false,\"stateMutability\":\"nonpayable\",\"type\":\"function\"},{\"constant\":false,\"inputs\":[{\"name\":\"addr2\",\"type\":\"address\"}],\"name\":\"setAddr2\",\"outputs\":[],\"payable\":false,\"stateMutability\":\"nonpayable\",\"type\":\"function\"},{\"inputs\":[],\"payable\":false,\"stateMutability\":\"nonpayable\",\"type\":\"constructor\"}]\n"
     ]
    }
   ],
   "source": [
    "!solc --gas --abi --bin src/Bank.sol"
   ]
  },
  {
   "cell_type": "code",
   "execution_count": 671,
   "metadata": {},
   "outputs": [
    {
     "name": "stdout",
     "output_type": "stream",
     "text": [
      "Overwriting src/BankDeploy.js\n"
     ]
    }
   ],
   "source": [
    "%%writefile src/BankDeploy.js\n",
    "var Web3=require('web3');\n",
    "var web3;\n",
    "if (typeof web3 !== 'undefined') {\n",
    "    web3 = new Web3(web3.currentProvider);\n",
    "} else {\n",
    "    web3 = new Web3(new Web3.providers.HttpProvider(\"http://localhost:8445\"));  //geth\n",
    "}\n",
    "var _abiArray=[{\"constant\":true,\"inputs\":[],\"name\":\"getBalance\",\"outputs\":[{\"name\":\"\",\"type\":\"uint256\"},{\"name\":\"\",\"type\":\"uint256\"}],\"payable\":false,\"stateMutability\":\"view\",\"type\":\"function\"},{\"constant\":true,\"inputs\":[],\"name\":\"balanceOfAccount2\",\"outputs\":[{\"name\":\"\",\"type\":\"uint256\"}],\"payable\":false,\"stateMutability\":\"view\",\"type\":\"function\"},{\"constant\":false,\"inputs\":[],\"name\":\"setInit1\",\"outputs\":[],\"payable\":false,\"stateMutability\":\"nonpayable\",\"type\":\"function\"},{\"constant\":false,\"inputs\":[{\"name\":\"_receiver\",\"type\":\"address\"}],\"name\":\"forwardTo\",\"outputs\":[],\"payable\":true,\"stateMutability\":\"payable\",\"type\":\"function\"},{\"constant\":false,\"inputs\":[],\"name\":\"widthdrawAll\",\"outputs\":[],\"payable\":false,\"stateMutability\":\"nonpayable\",\"type\":\"function\"},{\"constant\":true,\"inputs\":[],\"name\":\"subtract1\",\"outputs\":[{\"name\":\"\",\"type\":\"uint256\"}],\"payable\":false,\"stateMutability\":\"view\",\"type\":\"function\"},{\"constant\":false,\"inputs\":[],\"name\":\"setInit2\",\"outputs\":[],\"payable\":false,\"stateMutability\":\"nonpayable\",\"type\":\"function\"},{\"constant\":true,\"inputs\":[],\"name\":\"balanceOfAccount1\",\"outputs\":[{\"name\":\"\",\"type\":\"uint256\"}],\"payable\":false,\"stateMutability\":\"view\",\"type\":\"function\"},{\"constant\":true,\"inputs\":[],\"name\":\"subtract2\",\"outputs\":[{\"name\":\"\",\"type\":\"uint256\"}],\"payable\":false,\"stateMutability\":\"view\",\"type\":\"function\"},{\"constant\":false,\"inputs\":[{\"name\":\"amount\",\"type\":\"uint256\"}],\"name\":\"deposit\",\"outputs\":[],\"payable\":true,\"stateMutability\":\"payable\",\"type\":\"function\"},{\"constant\":false,\"inputs\":[{\"name\":\"addr1\",\"type\":\"address\"}],\"name\":\"setAddr1\",\"outputs\":[],\"payable\":false,\"stateMutability\":\"nonpayable\",\"type\":\"function\"},{\"constant\":false,\"inputs\":[{\"name\":\"addr2\",\"type\":\"address\"}],\"name\":\"setAddr2\",\"outputs\":[],\"payable\":false,\"stateMutability\":\"nonpayable\",\"type\":\"function\"},{\"inputs\":[],\"payable\":false,\"stateMutability\":\"nonpayable\",\"type\":\"constructor\"}];\n",
    "var _bin=\"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\";\n",
    "var _contract = new web3.eth.Contract(_abiArray);\n",
    "_contract\n",
    "    .deploy({data:\"0x\"+_bin})\n",
    "    .send({from: \"0x8e71085ffefccb88a4b54d4c93a866db7928a486\", gas: 2000000, gasPrice: '100000'})\n",
    "    .then(function(newContractInstance){\n",
    "        console.log(newContractInstance.options.address) // instance with the new contract address\n",
    "    });"
   ]
  },
  {
   "cell_type": "code",
   "execution_count": 794,
   "metadata": {},
   "outputs": [
    {
     "name": "stdout",
     "output_type": "stream",
     "text": [
      "0xE79602b619b6e0E72C2c94e3e5bbAf267B8c2e31\n"
     ]
    }
   ],
   "source": [
    "!node src/BankDeploy.js"
   ]
  },
  {
   "cell_type": "markdown",
   "metadata": {},
   "source": [
    "###  입금 11111 wei, 222 wei를 하고 "
   ]
  },
  {
   "cell_type": "code",
   "execution_count": 845,
   "metadata": {},
   "outputs": [
    {
     "name": "stdout",
     "output_type": "stream",
     "text": [
      "Overwriting src/BankUse.js\n"
     ]
    }
   ],
   "source": [
    "%%writefile src/BankUse.js\n",
    "var Web3=require('web3');\n",
    "var web3 = new Web3(new Web3.providers.HttpProvider(\"http://localhost:8445\"));\n",
    "var _abiArray=[{\"constant\":true,\"inputs\":[],\"name\":\"getBalance\",\"outputs\":[{\"name\":\"\",\"type\":\"uint256\"},{\"name\":\"\",\"type\":\"uint256\"}],\"payable\":false,\"stateMutability\":\"view\",\"type\":\"function\"},{\"constant\":true,\"inputs\":[],\"name\":\"balanceOfAccount2\",\"outputs\":[{\"name\":\"\",\"type\":\"uint256\"}],\"payable\":false,\"stateMutability\":\"view\",\"type\":\"function\"},{\"constant\":false,\"inputs\":[],\"name\":\"setInit1\",\"outputs\":[],\"payable\":false,\"stateMutability\":\"nonpayable\",\"type\":\"function\"},{\"constant\":false,\"inputs\":[{\"name\":\"_receiver\",\"type\":\"address\"}],\"name\":\"forwardTo\",\"outputs\":[],\"payable\":true,\"stateMutability\":\"payable\",\"type\":\"function\"},{\"constant\":false,\"inputs\":[],\"name\":\"widthdrawAll\",\"outputs\":[],\"payable\":false,\"stateMutability\":\"nonpayable\",\"type\":\"function\"},{\"constant\":true,\"inputs\":[],\"name\":\"subtract1\",\"outputs\":[{\"name\":\"\",\"type\":\"uint256\"}],\"payable\":false,\"stateMutability\":\"view\",\"type\":\"function\"},{\"constant\":false,\"inputs\":[],\"name\":\"setInit2\",\"outputs\":[],\"payable\":false,\"stateMutability\":\"nonpayable\",\"type\":\"function\"},{\"constant\":true,\"inputs\":[],\"name\":\"balanceOfAccount1\",\"outputs\":[{\"name\":\"\",\"type\":\"uint256\"}],\"payable\":false,\"stateMutability\":\"view\",\"type\":\"function\"},{\"constant\":true,\"inputs\":[],\"name\":\"subtract2\",\"outputs\":[{\"name\":\"\",\"type\":\"uint256\"}],\"payable\":false,\"stateMutability\":\"view\",\"type\":\"function\"},{\"constant\":false,\"inputs\":[{\"name\":\"amount\",\"type\":\"uint256\"}],\"name\":\"deposit\",\"outputs\":[],\"payable\":true,\"stateMutability\":\"payable\",\"type\":\"function\"},{\"constant\":false,\"inputs\":[{\"name\":\"addr1\",\"type\":\"address\"}],\"name\":\"setAddr1\",\"outputs\":[],\"payable\":false,\"stateMutability\":\"nonpayable\",\"type\":\"function\"},{\"constant\":false,\"inputs\":[{\"name\":\"addr2\",\"type\":\"address\"}],\"name\":\"setAddr2\",\"outputs\":[],\"payable\":false,\"stateMutability\":\"nonpayable\",\"type\":\"function\"},{\"inputs\":[],\"payable\":false,\"stateMutability\":\"nonpayable\",\"type\":\"constructor\"}];\n",
    "var myBank = new web3.eth.Contract(_abiArray, '0xE79602b619b6e0E72C2c94e3e5bbAf267B8c2e31');\n",
    "\n",
    "myBank.methods.setAddr1(\"0x9eabca74ecd2d27638af3a8ee7532b7853a0310d\").send({from:\"0x8e71085ffefccb88a4b54d4c93a866db7928a486\",gas:80000});\n",
    "myBank.methods.setAddr2(\"0x223bd75a28f01aad68f309fce60a22b06252d420\").send({from:\"0x8e71085ffefccb88a4b54d4c93a866db7928a486\",gas:80000});\n",
    "\n",
    "myBank.methods.deposit(11111).send({from:\"0x8e71085ffefccb88a4b54d4c93a866db7928a486\",gas:80000,value:11111});\n",
    "myBank.methods.deposit(222).send({from:\"0x8e71085ffefccb88a4b54d4c93a866db7928a486\",gas:80000,value:222});"
   ]
  },
  {
   "cell_type": "code",
   "execution_count": 846,
   "metadata": {
    "scrolled": false
   },
   "outputs": [],
   "source": [
    "!node src/BankUse.js"
   ]
  },
  {
   "cell_type": "code",
   "execution_count": 847,
   "metadata": {},
   "outputs": [
    {
     "name": "stdout",
     "output_type": "stream",
     "text": [
      "Overwriting src/BankUse2.js\n"
     ]
    }
   ],
   "source": [
    "%%writefile src/BankUse2.js\n",
    "var Web3=require('web3');\n",
    "var web3 = new Web3(new Web3.providers.HttpProvider(\"http://localhost:8445\"));\n",
    "var _abiArray=[{\"constant\":true,\"inputs\":[],\"name\":\"getBalance\",\"outputs\":[{\"name\":\"\",\"type\":\"uint256\"},{\"name\":\"\",\"type\":\"uint256\"}],\"payable\":false,\"stateMutability\":\"view\",\"type\":\"function\"},{\"constant\":true,\"inputs\":[],\"name\":\"balanceOfAccount2\",\"outputs\":[{\"name\":\"\",\"type\":\"uint256\"}],\"payable\":false,\"stateMutability\":\"view\",\"type\":\"function\"},{\"constant\":false,\"inputs\":[],\"name\":\"setInit1\",\"outputs\":[],\"payable\":false,\"stateMutability\":\"nonpayable\",\"type\":\"function\"},{\"constant\":false,\"inputs\":[{\"name\":\"_receiver\",\"type\":\"address\"}],\"name\":\"forwardTo\",\"outputs\":[],\"payable\":true,\"stateMutability\":\"payable\",\"type\":\"function\"},{\"constant\":false,\"inputs\":[],\"name\":\"widthdrawAll\",\"outputs\":[],\"payable\":false,\"stateMutability\":\"nonpayable\",\"type\":\"function\"},{\"constant\":true,\"inputs\":[],\"name\":\"subtract1\",\"outputs\":[{\"name\":\"\",\"type\":\"uint256\"}],\"payable\":false,\"stateMutability\":\"view\",\"type\":\"function\"},{\"constant\":false,\"inputs\":[],\"name\":\"setInit2\",\"outputs\":[],\"payable\":false,\"stateMutability\":\"nonpayable\",\"type\":\"function\"},{\"constant\":true,\"inputs\":[],\"name\":\"balanceOfAccount1\",\"outputs\":[{\"name\":\"\",\"type\":\"uint256\"}],\"payable\":false,\"stateMutability\":\"view\",\"type\":\"function\"},{\"constant\":true,\"inputs\":[],\"name\":\"subtract2\",\"outputs\":[{\"name\":\"\",\"type\":\"uint256\"}],\"payable\":false,\"stateMutability\":\"view\",\"type\":\"function\"},{\"constant\":false,\"inputs\":[{\"name\":\"amount\",\"type\":\"uint256\"}],\"name\":\"deposit\",\"outputs\":[],\"payable\":true,\"stateMutability\":\"payable\",\"type\":\"function\"},{\"constant\":false,\"inputs\":[{\"name\":\"addr1\",\"type\":\"address\"}],\"name\":\"setAddr1\",\"outputs\":[],\"payable\":false,\"stateMutability\":\"nonpayable\",\"type\":\"function\"},{\"constant\":false,\"inputs\":[{\"name\":\"addr2\",\"type\":\"address\"}],\"name\":\"setAddr2\",\"outputs\":[],\"payable\":false,\"stateMutability\":\"nonpayable\",\"type\":\"function\"},{\"inputs\":[],\"payable\":false,\"stateMutability\":\"nonpayable\",\"type\":\"constructor\"}];\n",
    "var myBank = new web3.eth.Contract(_abiArray, '0xE79602b619b6e0E72C2c94e3e5bbAf267B8c2e31');\n",
    "\n",
    "myBank.methods.getBalance().call().then(function(value) {console.log('My Contract: ', value);});"
   ]
  },
  {
   "cell_type": "markdown",
   "metadata": {},
   "source": [
    "### 잔고 11333 wei 출력"
   ]
  },
  {
   "cell_type": "code",
   "execution_count": 848,
   "metadata": {},
   "outputs": [
    {
     "name": "stdout",
     "output_type": "stream",
     "text": [
      "My Contract:  Result { '0': '11333', '1': '11333' }\n"
     ]
    }
   ],
   "source": [
    "!node src/BankUse2.js"
   ]
  },
  {
   "cell_type": "markdown",
   "metadata": {},
   "source": [
    "### 자신의 2번째 계정으로 계좌이체 333 wei하고(forwardTo함수)"
   ]
  },
  {
   "cell_type": "code",
   "execution_count": 849,
   "metadata": {},
   "outputs": [
    {
     "name": "stdout",
     "output_type": "stream",
     "text": [
      "Overwriting src/BankUse3.js\n"
     ]
    }
   ],
   "source": [
    "%%writefile src/BankUse3.js\n",
    "var Web3=require('web3');\n",
    "var web3 = new Web3(new Web3.providers.HttpProvider(\"http://localhost:8445\"));\n",
    "var _abiArray=[{\"constant\":true,\"inputs\":[],\"name\":\"getBalance\",\"outputs\":[{\"name\":\"\",\"type\":\"uint256\"},{\"name\":\"\",\"type\":\"uint256\"}],\"payable\":false,\"stateMutability\":\"view\",\"type\":\"function\"},{\"constant\":true,\"inputs\":[],\"name\":\"balanceOfAccount2\",\"outputs\":[{\"name\":\"\",\"type\":\"uint256\"}],\"payable\":false,\"stateMutability\":\"view\",\"type\":\"function\"},{\"constant\":false,\"inputs\":[],\"name\":\"setInit1\",\"outputs\":[],\"payable\":false,\"stateMutability\":\"nonpayable\",\"type\":\"function\"},{\"constant\":false,\"inputs\":[{\"name\":\"_receiver\",\"type\":\"address\"}],\"name\":\"forwardTo\",\"outputs\":[],\"payable\":true,\"stateMutability\":\"payable\",\"type\":\"function\"},{\"constant\":false,\"inputs\":[],\"name\":\"widthdrawAll\",\"outputs\":[],\"payable\":false,\"stateMutability\":\"nonpayable\",\"type\":\"function\"},{\"constant\":true,\"inputs\":[],\"name\":\"subtract1\",\"outputs\":[{\"name\":\"\",\"type\":\"uint256\"}],\"payable\":false,\"stateMutability\":\"view\",\"type\":\"function\"},{\"constant\":false,\"inputs\":[],\"name\":\"setInit2\",\"outputs\":[],\"payable\":false,\"stateMutability\":\"nonpayable\",\"type\":\"function\"},{\"constant\":true,\"inputs\":[],\"name\":\"balanceOfAccount1\",\"outputs\":[{\"name\":\"\",\"type\":\"uint256\"}],\"payable\":false,\"stateMutability\":\"view\",\"type\":\"function\"},{\"constant\":true,\"inputs\":[],\"name\":\"subtract2\",\"outputs\":[{\"name\":\"\",\"type\":\"uint256\"}],\"payable\":false,\"stateMutability\":\"view\",\"type\":\"function\"},{\"constant\":false,\"inputs\":[{\"name\":\"amount\",\"type\":\"uint256\"}],\"name\":\"deposit\",\"outputs\":[],\"payable\":true,\"stateMutability\":\"payable\",\"type\":\"function\"},{\"constant\":false,\"inputs\":[{\"name\":\"addr1\",\"type\":\"address\"}],\"name\":\"setAddr1\",\"outputs\":[],\"payable\":false,\"stateMutability\":\"nonpayable\",\"type\":\"function\"},{\"constant\":false,\"inputs\":[{\"name\":\"addr2\",\"type\":\"address\"}],\"name\":\"setAddr2\",\"outputs\":[],\"payable\":false,\"stateMutability\":\"nonpayable\",\"type\":\"function\"},{\"inputs\":[],\"payable\":false,\"stateMutability\":\"nonpayable\",\"type\":\"constructor\"}];\n",
    "var myBank = new web3.eth.Contract(_abiArray, '0xE79602b619b6e0E72C2c94e3e5bbAf267B8c2e31');\n",
    "\n",
    "myBank.methods.balanceOfAccount1().call().then(function(value) {console.log('balance of Account 1: ', value);});\n",
    "myBank.methods.balanceOfAccount2().call().then(function(value) {console.log('balance of Account 2: ', value);});\n",
    "\n",
    "myBank.methods.setInit2().send({from:\"0x8e71085ffefccb88a4b54d4c93a866db7928a486\",gas:80000});\n",
    "\n",
    "myBank.methods.forwardTo(\"0x223bd75a28f01aad68f309fce60a22b06252d420\").send({from:\"0x8e71085ffefccb88a4b54d4c93a866db7928a486\",gas:80000});\n",
    "\n"
   ]
  },
  {
   "cell_type": "code",
   "execution_count": 850,
   "metadata": {},
   "outputs": [
    {
     "name": "stdout",
     "output_type": "stream",
     "text": [
      "balance of Account 1:  25000000000000207000\n",
      "balance of Account 2:  55000000000000006660\n"
     ]
    }
   ],
   "source": [
    "!node src/BankUse3.js"
   ]
  },
  {
   "cell_type": "code",
   "execution_count": 851,
   "metadata": {},
   "outputs": [
    {
     "name": "stdout",
     "output_type": "stream",
     "text": [
      "Overwriting src/BankUse4.js\n"
     ]
    }
   ],
   "source": [
    "%%writefile src/BankUse4.js\n",
    "var Web3=require('web3');\n",
    "var web3 = new Web3(new Web3.providers.HttpProvider(\"http://localhost:8445\"));\n",
    "var _abiArray=[{\"constant\":true,\"inputs\":[],\"name\":\"getBalance\",\"outputs\":[{\"name\":\"\",\"type\":\"uint256\"},{\"name\":\"\",\"type\":\"uint256\"}],\"payable\":false,\"stateMutability\":\"view\",\"type\":\"function\"},{\"constant\":true,\"inputs\":[],\"name\":\"balanceOfAccount2\",\"outputs\":[{\"name\":\"\",\"type\":\"uint256\"}],\"payable\":false,\"stateMutability\":\"view\",\"type\":\"function\"},{\"constant\":false,\"inputs\":[],\"name\":\"setInit1\",\"outputs\":[],\"payable\":false,\"stateMutability\":\"nonpayable\",\"type\":\"function\"},{\"constant\":false,\"inputs\":[{\"name\":\"_receiver\",\"type\":\"address\"}],\"name\":\"forwardTo\",\"outputs\":[],\"payable\":true,\"stateMutability\":\"payable\",\"type\":\"function\"},{\"constant\":false,\"inputs\":[],\"name\":\"widthdrawAll\",\"outputs\":[],\"payable\":false,\"stateMutability\":\"nonpayable\",\"type\":\"function\"},{\"constant\":true,\"inputs\":[],\"name\":\"subtract1\",\"outputs\":[{\"name\":\"\",\"type\":\"uint256\"}],\"payable\":false,\"stateMutability\":\"view\",\"type\":\"function\"},{\"constant\":false,\"inputs\":[],\"name\":\"setInit2\",\"outputs\":[],\"payable\":false,\"stateMutability\":\"nonpayable\",\"type\":\"function\"},{\"constant\":true,\"inputs\":[],\"name\":\"balanceOfAccount1\",\"outputs\":[{\"name\":\"\",\"type\":\"uint256\"}],\"payable\":false,\"stateMutability\":\"view\",\"type\":\"function\"},{\"constant\":true,\"inputs\":[],\"name\":\"subtract2\",\"outputs\":[{\"name\":\"\",\"type\":\"uint256\"}],\"payable\":false,\"stateMutability\":\"view\",\"type\":\"function\"},{\"constant\":false,\"inputs\":[{\"name\":\"amount\",\"type\":\"uint256\"}],\"name\":\"deposit\",\"outputs\":[],\"payable\":true,\"stateMutability\":\"payable\",\"type\":\"function\"},{\"constant\":false,\"inputs\":[{\"name\":\"addr1\",\"type\":\"address\"}],\"name\":\"setAddr1\",\"outputs\":[],\"payable\":false,\"stateMutability\":\"nonpayable\",\"type\":\"function\"},{\"constant\":false,\"inputs\":[{\"name\":\"addr2\",\"type\":\"address\"}],\"name\":\"setAddr2\",\"outputs\":[],\"payable\":false,\"stateMutability\":\"nonpayable\",\"type\":\"function\"},{\"inputs\":[],\"payable\":false,\"stateMutability\":\"nonpayable\",\"type\":\"constructor\"}];\n",
    "var myBank = new web3.eth.Contract(_abiArray, '0xE79602b619b6e0E72C2c94e3e5bbAf267B8c2e31');\n",
    "\n",
    "myBank.methods.getBalance().call().then(function(value) {console.log('My Contract: ', value);});\n",
    "myBank.methods.subtract2().call().then(function(value) {console.log('increase of second account: ',value);});\n",
    "\n",
    "myBank.methods.balanceOfAccount1().call().then(function(value) {console.log('balance of Account 1: ', value);});\n",
    "myBank.methods.balanceOfAccount2().call().then(function(value) {console.log('balance of Account 2: ', value);});"
   ]
  },
  {
   "cell_type": "markdown",
   "metadata": {},
   "source": [
    "### 컨트랙 잔고 11000 wei 출력, 자신의 2번째 계정 잔고 증가분 (+333 wei) 출력"
   ]
  },
  {
   "cell_type": "code",
   "execution_count": 852,
   "metadata": {},
   "outputs": [
    {
     "name": "stdout",
     "output_type": "stream",
     "text": [
      "increase of second account:  333\n",
      "My Contract:  Result { '0': '11000', '1': '11000' }\n",
      "balance of Account 1:  25000000000000207000\n",
      "balance of Account 2:  55000000000000006993\n"
     ]
    }
   ],
   "source": [
    "!node src/BankUse4.js"
   ]
  },
  {
   "cell_type": "markdown",
   "metadata": {},
   "source": [
    "### 전액 인출하고(widthdrawAll)"
   ]
  },
  {
   "cell_type": "code",
   "execution_count": 853,
   "metadata": {},
   "outputs": [
    {
     "name": "stdout",
     "output_type": "stream",
     "text": [
      "Overwriting src/BankUse5.js\n"
     ]
    }
   ],
   "source": [
    "%%writefile src/BankUse5.js\n",
    "var Web3=require('web3');\n",
    "var web3 = new Web3(new Web3.providers.HttpProvider(\"http://localhost:8445\"));\n",
    "var _abiArray=[{\"constant\":true,\"inputs\":[],\"name\":\"getBalance\",\"outputs\":[{\"name\":\"\",\"type\":\"uint256\"},{\"name\":\"\",\"type\":\"uint256\"}],\"payable\":false,\"stateMutability\":\"view\",\"type\":\"function\"},{\"constant\":true,\"inputs\":[],\"name\":\"balanceOfAccount2\",\"outputs\":[{\"name\":\"\",\"type\":\"uint256\"}],\"payable\":false,\"stateMutability\":\"view\",\"type\":\"function\"},{\"constant\":false,\"inputs\":[],\"name\":\"setInit1\",\"outputs\":[],\"payable\":false,\"stateMutability\":\"nonpayable\",\"type\":\"function\"},{\"constant\":false,\"inputs\":[{\"name\":\"_receiver\",\"type\":\"address\"}],\"name\":\"forwardTo\",\"outputs\":[],\"payable\":true,\"stateMutability\":\"payable\",\"type\":\"function\"},{\"constant\":false,\"inputs\":[],\"name\":\"widthdrawAll\",\"outputs\":[],\"payable\":false,\"stateMutability\":\"nonpayable\",\"type\":\"function\"},{\"constant\":true,\"inputs\":[],\"name\":\"subtract1\",\"outputs\":[{\"name\":\"\",\"type\":\"uint256\"}],\"payable\":false,\"stateMutability\":\"view\",\"type\":\"function\"},{\"constant\":false,\"inputs\":[],\"name\":\"setInit2\",\"outputs\":[],\"payable\":false,\"stateMutability\":\"nonpayable\",\"type\":\"function\"},{\"constant\":true,\"inputs\":[],\"name\":\"balanceOfAccount1\",\"outputs\":[{\"name\":\"\",\"type\":\"uint256\"}],\"payable\":false,\"stateMutability\":\"view\",\"type\":\"function\"},{\"constant\":true,\"inputs\":[],\"name\":\"subtract2\",\"outputs\":[{\"name\":\"\",\"type\":\"uint256\"}],\"payable\":false,\"stateMutability\":\"view\",\"type\":\"function\"},{\"constant\":false,\"inputs\":[{\"name\":\"amount\",\"type\":\"uint256\"}],\"name\":\"deposit\",\"outputs\":[],\"payable\":true,\"stateMutability\":\"payable\",\"type\":\"function\"},{\"constant\":false,\"inputs\":[{\"name\":\"addr1\",\"type\":\"address\"}],\"name\":\"setAddr1\",\"outputs\":[],\"payable\":false,\"stateMutability\":\"nonpayable\",\"type\":\"function\"},{\"constant\":false,\"inputs\":[{\"name\":\"addr2\",\"type\":\"address\"}],\"name\":\"setAddr2\",\"outputs\":[],\"payable\":false,\"stateMutability\":\"nonpayable\",\"type\":\"function\"},{\"inputs\":[],\"payable\":false,\"stateMutability\":\"nonpayable\",\"type\":\"constructor\"}];\n",
    "var myBank = new web3.eth.Contract(_abiArray, '0xE79602b619b6e0E72C2c94e3e5bbAf267B8c2e31');\n",
    "\n",
    "myBank.methods.balanceOfAccount1().call().then(function(value) {console.log('balance of Account 1: ', value);});\n",
    "myBank.methods.balanceOfAccount2().call().then(function(value) {console.log('balance of Account 2: ', value);});\n",
    "\n",
    "\n",
    "myBank.methods.setInit1().send({from:\"0x8e71085ffefccb88a4b54d4c93a866db7928a486\",gas:80000});\n",
    "\n",
    "myBank.methods.widthdrawAll().send({from:\"0x8e71085ffefccb88a4b54d4c93a866db7928a486\",gas:80000});\n"
   ]
  },
  {
   "cell_type": "code",
   "execution_count": 854,
   "metadata": {},
   "outputs": [
    {
     "name": "stdout",
     "output_type": "stream",
     "text": [
      "balance of Account 1:  25000000000000207000\n",
      "balance of Account 2:  55000000000000006993\n"
     ]
    }
   ],
   "source": [
    "!node src/BankUse5.js"
   ]
  },
  {
   "cell_type": "code",
   "execution_count": 855,
   "metadata": {},
   "outputs": [
    {
     "name": "stdout",
     "output_type": "stream",
     "text": [
      "Overwriting src/BankUse6.js\n"
     ]
    }
   ],
   "source": [
    "%%writefile src/BankUse6.js\n",
    "var Web3=require('web3');\n",
    "var web3 = new Web3(new Web3.providers.HttpProvider(\"http://localhost:8445\"));\n",
    "var _abiArray=[{\"constant\":true,\"inputs\":[],\"name\":\"getBalance\",\"outputs\":[{\"name\":\"\",\"type\":\"uint256\"},{\"name\":\"\",\"type\":\"uint256\"}],\"payable\":false,\"stateMutability\":\"view\",\"type\":\"function\"},{\"constant\":true,\"inputs\":[],\"name\":\"balanceOfAccount2\",\"outputs\":[{\"name\":\"\",\"type\":\"uint256\"}],\"payable\":false,\"stateMutability\":\"view\",\"type\":\"function\"},{\"constant\":false,\"inputs\":[],\"name\":\"setInit1\",\"outputs\":[],\"payable\":false,\"stateMutability\":\"nonpayable\",\"type\":\"function\"},{\"constant\":false,\"inputs\":[{\"name\":\"_receiver\",\"type\":\"address\"}],\"name\":\"forwardTo\",\"outputs\":[],\"payable\":true,\"stateMutability\":\"payable\",\"type\":\"function\"},{\"constant\":false,\"inputs\":[],\"name\":\"widthdrawAll\",\"outputs\":[],\"payable\":false,\"stateMutability\":\"nonpayable\",\"type\":\"function\"},{\"constant\":true,\"inputs\":[],\"name\":\"subtract1\",\"outputs\":[{\"name\":\"\",\"type\":\"uint256\"}],\"payable\":false,\"stateMutability\":\"view\",\"type\":\"function\"},{\"constant\":false,\"inputs\":[],\"name\":\"setInit2\",\"outputs\":[],\"payable\":false,\"stateMutability\":\"nonpayable\",\"type\":\"function\"},{\"constant\":true,\"inputs\":[],\"name\":\"balanceOfAccount1\",\"outputs\":[{\"name\":\"\",\"type\":\"uint256\"}],\"payable\":false,\"stateMutability\":\"view\",\"type\":\"function\"},{\"constant\":true,\"inputs\":[],\"name\":\"subtract2\",\"outputs\":[{\"name\":\"\",\"type\":\"uint256\"}],\"payable\":false,\"stateMutability\":\"view\",\"type\":\"function\"},{\"constant\":false,\"inputs\":[{\"name\":\"amount\",\"type\":\"uint256\"}],\"name\":\"deposit\",\"outputs\":[],\"payable\":true,\"stateMutability\":\"payable\",\"type\":\"function\"},{\"constant\":false,\"inputs\":[{\"name\":\"addr1\",\"type\":\"address\"}],\"name\":\"setAddr1\",\"outputs\":[],\"payable\":false,\"stateMutability\":\"nonpayable\",\"type\":\"function\"},{\"constant\":false,\"inputs\":[{\"name\":\"addr2\",\"type\":\"address\"}],\"name\":\"setAddr2\",\"outputs\":[],\"payable\":false,\"stateMutability\":\"nonpayable\",\"type\":\"function\"},{\"inputs\":[],\"payable\":false,\"stateMutability\":\"nonpayable\",\"type\":\"constructor\"}];\n",
    "var myBank = new web3.eth.Contract(_abiArray, '0xE79602b619b6e0E72C2c94e3e5bbAf267B8c2e31');\n",
    "\n",
    "myBank.methods.getBalance().call().then(function(value) {console.log('My Contract: ', value);});\n",
    "myBank.methods.subtract1().call().then(function(value) {console.log('increase of myaccount: ',value);});\n",
    "\n",
    "myBank.methods.balanceOfAccount1().call().then(function(value) {console.log('balance of Account 1: ', value);});\n",
    "myBank.methods.balanceOfAccount2().call().then(function(value) {console.log('balance of Account 2: ', value);});\n"
   ]
  },
  {
   "cell_type": "markdown",
   "metadata": {},
   "source": [
    "### 자신의 잔고 증가분 출력 (+11000 wei)"
   ]
  },
  {
   "cell_type": "code",
   "execution_count": 856,
   "metadata": {},
   "outputs": [
    {
     "name": "stdout",
     "output_type": "stream",
     "text": [
      "My Contract:  Result { '0': '0', '1': '0' }\n",
      "increase of myaccount:  11000\n",
      "balance of Account 1:  25000000000000218000\n",
      "balance of Account 2:  55000000000000006993\n"
     ]
    }
   ],
   "source": [
    "!node src/BankUse6.js"
   ]
  },
  {
   "cell_type": "code",
   "execution_count": null,
   "metadata": {},
   "outputs": [],
   "source": []
  },
  {
   "cell_type": "code",
   "execution_count": null,
   "metadata": {},
   "outputs": [],
   "source": []
  }
 ],
 "metadata": {
  "kernelspec": {
   "display_name": "Python 3",
   "language": "python",
   "name": "python3"
  },
  "language_info": {
   "codemirror_mode": {
    "name": "ipython",
    "version": 3
   },
   "file_extension": ".py",
   "mimetype": "text/x-python",
   "name": "python",
   "nbconvert_exporter": "python",
   "pygments_lexer": "ipython3",
   "version": "3.7.3"
  }
 },
 "nbformat": 4,
 "nbformat_minor": 2
}
