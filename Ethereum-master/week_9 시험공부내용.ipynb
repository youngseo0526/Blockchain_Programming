{
 "cells": [
  {
   "cell_type": "markdown",
   "metadata": {},
   "source": [
    "강의자료\n",
    "https://github.com/smu405/e  \n",
    "이더리움\n",
    "http://remix.ethereum.org/"
   ]
  },
  {
   "cell_type": "markdown",
   "metadata": {},
   "source": [
    "## cd Users\\minji\\Code\\201810808"
   ]
  },
  {
   "cell_type": "markdown",
   "metadata": {},
   "source": [
    "# cmd 에서 명령어 모음(in 학번 디렉토리"
   ]
  },
  {
   "cell_type": "markdown",
   "metadata": {},
   "source": [
    "### __geth 접속하기__  \n",
    "_gethNow.bat  \n",
    "이후 비밀번호 입력\n",
    "<br>\n",
    "\n",
    "### geth 콘솔 열기\n",
    "geth attach http://localhost:8445\n"
   ]
  },
  {
   "cell_type": "markdown",
   "metadata": {},
   "source": [
    "# geth 콘솔 명령어(geth 콘솔 실행 후 cmd)\n",
    "## 주피터에서 실행할 때는 \n",
    "`!geth -exec eth.accounts attach http://localhost:8445`  \n",
    "이런식으로\n"
   ]
  },
  {
   "cell_type": "code",
   "execution_count": 1,
   "metadata": {},
   "outputs": [
    {
     "name": "stdout",
     "output_type": "stream",
     "text": [
      "[\"0x8e71085ffefccb88a4b54d4c93a866db7928a486\", \"0x9eabca74ecd2d27638af3a8ee7532b7853a0310d\", \"0x223bd75a28f01aad68f309fce60a22b06252d420\"]\n"
     ]
    }
   ],
   "source": [
    "!geth -exec eth.accounts attach http://localhost:8445"
   ]
  },
  {
   "cell_type": "markdown",
   "metadata": {},
   "source": [
    "### 계정 확인\n",
    "eth.accounts\n",
    "<br>\n",
    "\n",
    "### 각각 잔고(잔액) 확인하기\n",
    "eth.getBalance(eth.accounts[0]);\n",
    "<br>\n",
    "\n",
    "### 노드 정보 확인하기\n",
    "admin.nodeinfo\n",
    "\n",
    "### 충전하기\n",
    "miner.start()  \n",
    "miner.stop()\n",
    "\n",
    "### 트랜잭션 확인\n",
    "eth.pendingTransactions  \n",
    "\n",
    "### authentication 오류 뜰 때\n",
    "personal.unlockAccount(eth.coinbase); 하고 비밀번호 입력\n",
    "\n",
    "### mining 하기(pending 해소)\n",
    "miner.start(1);admin.sleepBlocks(1);miner.stop();\n",
    "\n",
    "### node로 js실행(명령창\n",
    "C:\\Users\\minji\\Code\\201810808>node src/OrderEventUse.js\n",
    "\n",
    "### 가나슈 실행\n",
    "node_modules\\.bin\\ganache-cli.cmd -p 8345"
   ]
  },
  {
   "cell_type": "markdown",
   "metadata": {},
   "source": [
    "# 주피터에서 하는 명령어(node나 solc)"
   ]
  },
  {
   "cell_type": "code",
   "execution_count": null,
   "metadata": {},
   "outputs": [],
   "source": []
  },
  {
   "cell_type": "markdown",
   "metadata": {},
   "source": [
    "# 작년 중간고사\n",
    "### 문제 2: 계수기와 Timer의 기능을 결합한 컨트랙을 구현하세요.\n",
    "계수기를 0부터 3까지 1회씩 증가시킨 후, 그 시점까지의 소요시간을 다음과 같이 출력하세요.\n"
   ]
  },
  {
   "cell_type": "code",
   "execution_count": 1,
   "metadata": {},
   "outputs": [
    {
     "name": "stdout",
     "output_type": "stream",
     "text": [
      "[\"0x8e71085ffefccb88a4b54d4c93a866db7928a486\", \"0x9eabca74ecd2d27638af3a8ee7532b7853a0310d\", \"0x223bd75a28f01aad68f309fce60a22b06252d420\"]\n"
     ]
    }
   ],
   "source": [
    "!geth -exec eth.accounts attach http://localhost:8445"
   ]
  },
  {
   "cell_type": "code",
   "execution_count": 3,
   "metadata": {},
   "outputs": [
    {
     "name": "stdout",
     "output_type": "stream",
     "text": [
      "Writing src/counterNtimer.sol\n"
     ]
    }
   ],
   "source": [
    "%%writefile src/counterNtimer.sol\n",
    "pragma solidity 0.4.25;\n",
    "contract counterNtimer {\n",
    "    \n",
    "    uint256 startTime;\n",
    "    uint256 counter = 0;\n",
    "    function start() public {\n",
    "        startTime=now;\n",
    "    }\n",
    "    function timePassed() public view returns(uint256) {\n",
    "        return now-startTime;\n",
    "    }\n",
    "    function getNow() view public returns(uint) {\n",
    "        return now;\n",
    "    }\n",
    "    \n",
    "    function add() public {\n",
    "        counter++;\n",
    "    }\n",
    "    function subtract() public {\n",
    "        counter--;\n",
    "    }\n",
    "    function getCounter() public view returns (uint256) {\n",
    "        return counter;\n",
    "    }\n",
    "}"
   ]
  },
  {
   "cell_type": "code",
   "execution_count": 5,
   "metadata": {},
   "outputs": [
    {
     "name": "stdout",
     "output_type": "stream",
     "text": [
      "\n",
      "======= src/counterNtimer.sol:counterNtimer =======\n",
      "Gas estimation:\n",
      "construction:\n",
      "   5141 + 89200 = 94341\n",
      "external:\n",
      "   add():\t20370\n",
      "   getCounter():\t446\n",
      "   getNow():\t289\n",
      "   start():\t20256\n",
      "   subtract():\t20395\n",
      "   timePassed():\t473\n",
      "Binary: \n",
      "6080604052600060015534801561001557600080fd5b506101be806100256000396000f300608060405260043610610078576000357c0100000000000000000000000000000000000000000000000000000000900463ffffffff1680634f2be91f1461007d5780636deebae3146100945780638ada066e146100ab578063b4454253146100d6578063bbe4fd5014610101578063be9a65551461012c575b600080fd5b34801561008957600080fd5b50610092610143565b005b3480156100a057600080fd5b506100a9610157565b005b3480156100b757600080fd5b506100c061016c565b6040518082815260200191505060405180910390f35b3480156100e257600080fd5b506100eb610176565b6040518082815260200191505060405180910390f35b34801561010d57600080fd5b50610116610181565b6040518082815260200191505060405180910390f35b34801561013857600080fd5b50610141610189565b005b600160008154809291906001019190505550565b60016000815480929190600190039190505550565b6000600154905090565b600080544203905090565b600042905090565b426000819055505600a165627a7a72305820569c38c4fc850bdb06ad7767d73a35c3f18706682383c5eb1544086d15ed31360029\n",
      "Contract JSON ABI \n",
      "[{\"constant\":false,\"inputs\":[],\"name\":\"add\",\"outputs\":[],\"payable\":false,\"stateMutability\":\"nonpayable\",\"type\":\"function\"},{\"constant\":false,\"inputs\":[],\"name\":\"subtract\",\"outputs\":[],\"payable\":false,\"stateMutability\":\"nonpayable\",\"type\":\"function\"},{\"constant\":true,\"inputs\":[],\"name\":\"getCounter\",\"outputs\":[{\"name\":\"\",\"type\":\"uint256\"}],\"payable\":false,\"stateMutability\":\"view\",\"type\":\"function\"},{\"constant\":true,\"inputs\":[],\"name\":\"timePassed\",\"outputs\":[{\"name\":\"\",\"type\":\"uint256\"}],\"payable\":false,\"stateMutability\":\"view\",\"type\":\"function\"},{\"constant\":true,\"inputs\":[],\"name\":\"getNow\",\"outputs\":[{\"name\":\"\",\"type\":\"uint256\"}],\"payable\":false,\"stateMutability\":\"view\",\"type\":\"function\"},{\"constant\":false,\"inputs\":[],\"name\":\"start\",\"outputs\":[],\"payable\":false,\"stateMutability\":\"nonpayable\",\"type\":\"function\"}]\n"
     ]
    }
   ],
   "source": [
    "##abi, binary, gas 출력\n",
    "!solc --abi --bin --gas src/counterNtimer.sol"
   ]
  },
  {
   "cell_type": "markdown",
   "metadata": {},
   "source": [
    "### 배포"
   ]
  },
  {
   "cell_type": "code",
   "execution_count": 65,
   "metadata": {},
   "outputs": [
    {
     "name": "stdout",
     "output_type": "stream",
     "text": [
      "Overwriting src/counterNtimerDeploy.js\n"
     ]
    }
   ],
   "source": [
    "%%writefile src/counterNtimerDeploy.js\n",
    "var Web3=require('web3');\n",
    "var web3;\n",
    "if (typeof web3 !== 'undefined') {\n",
    "    web3 = new Web3(web3.currentProvider);\n",
    "} else {\n",
    "    web3 = new Web3(new Web3.providers.HttpProvider(\"http://localhost:8445\"));\n",
    "}\n",
    "var _abiArray=[{\"constant\":false,\"inputs\":[],\"name\":\"add\",\"outputs\":[],\"payable\":false,\"stateMutability\":\"nonpayable\",\"type\":\"function\"},{\"constant\":false,\"inputs\":[],\"name\":\"subtract\",\"outputs\":[],\"payable\":false,\"stateMutability\":\"nonpayable\",\"type\":\"function\"},{\"constant\":true,\"inputs\":[],\"name\":\"getCounter\",\"outputs\":[{\"name\":\"\",\"type\":\"uint256\"}],\"payable\":false,\"stateMutability\":\"view\",\"type\":\"function\"},{\"constant\":true,\"inputs\":[],\"name\":\"timePassed\",\"outputs\":[{\"name\":\"\",\"type\":\"uint256\"}],\"payable\":false,\"stateMutability\":\"view\",\"type\":\"function\"},{\"constant\":true,\"inputs\":[],\"name\":\"getNow\",\"outputs\":[{\"name\":\"\",\"type\":\"uint256\"}],\"payable\":false,\"stateMutability\":\"view\",\"type\":\"function\"},{\"constant\":false,\"inputs\":[],\"name\":\"start\",\"outputs\":[],\"payable\":false,\"stateMutability\":\"nonpayable\",\"type\":\"function\"}];\n",
    "var _bin=\"6080604052600060015534801561001557600080fd5b506101be806100256000396000f300608060405260043610610078576000357c0100000000000000000000000000000000000000000000000000000000900463ffffffff1680634f2be91f1461007d5780636deebae3146100945780638ada066e146100ab578063b4454253146100d6578063bbe4fd5014610101578063be9a65551461012c575b600080fd5b34801561008957600080fd5b50610092610143565b005b3480156100a057600080fd5b506100a9610157565b005b3480156100b757600080fd5b506100c061016c565b6040518082815260200191505060405180910390f35b3480156100e257600080fd5b506100eb610176565b6040518082815260200191505060405180910390f35b34801561010d57600080fd5b50610116610181565b6040518082815260200191505060405180910390f35b34801561013857600080fd5b50610141610189565b005b600160008154809291906001019190505550565b60016000815480929190600190039190505550565b6000600154905090565b600080544203905090565b600042905090565b426000819055505600a165627a7a72305820569c38c4fc850bdb06ad7767d73a35c3f18706682383c5eb1544086d15ed31360029\";\n",
    "var _contract = new web3.eth.Contract(_abiArray);\n",
    "_contract\n",
    "    .deploy({data:\"0x\"+_bin})\n",
    "    .send({from: \"0x8e71085ffefccb88a4b54d4c93a866db7928a486\", gas: 364124, gasPrice: '1000000000'})\n",
    "    .then(function(newContractInstance){\n",
    "        console.log(newContractInstance.options.address) // instance with the new contract address\n",
    "    });"
   ]
  },
  {
   "cell_type": "code",
   "execution_count": 66,
   "metadata": {},
   "outputs": [
    {
     "name": "stdout",
     "output_type": "stream",
     "text": [
      "0x3FA215310652C210aa6b6ade444E6d8A95Ea8258\n"
     ]
    }
   ],
   "source": [
    "!node src/counterNtimerDeploy.js"
   ]
  },
  {
   "cell_type": "markdown",
   "metadata": {},
   "source": [
    "### 사용\n"
   ]
  },
  {
   "cell_type": "code",
   "execution_count": 67,
   "metadata": {},
   "outputs": [
    {
     "name": "stdout",
     "output_type": "stream",
     "text": [
      "Overwriting src/counterNtimerUse.js\n"
     ]
    }
   ],
   "source": [
    "%%writefile src/counterNtimerUse.js\n",
    "var Web3=require('web3');\n",
    "var web3 = new Web3(new Web3.providers.HttpProvider(\"http://localhost:8445\"));\n",
    "var abi =[{\"constant\":false,\"inputs\":[],\"name\":\"add\",\"outputs\":[],\"payable\":false,\"stateMutability\":\"nonpayable\",\"type\":\"function\"},{\"constant\":false,\"inputs\":[],\"name\":\"subtract\",\"outputs\":[],\"payable\":false,\"stateMutability\":\"nonpayable\",\"type\":\"function\"},{\"constant\":true,\"inputs\":[],\"name\":\"getCounter\",\"outputs\":[{\"name\":\"\",\"type\":\"uint256\"}],\"payable\":false,\"stateMutability\":\"view\",\"type\":\"function\"},{\"constant\":true,\"inputs\":[],\"name\":\"timePassed\",\"outputs\":[{\"name\":\"\",\"type\":\"uint256\"}],\"payable\":false,\"stateMutability\":\"view\",\"type\":\"function\"},{\"constant\":true,\"inputs\":[],\"name\":\"getNow\",\"outputs\":[{\"name\":\"\",\"type\":\"uint256\"}],\"payable\":false,\"stateMutability\":\"view\",\"type\":\"function\"},{\"constant\":false,\"inputs\":[],\"name\":\"start\",\"outputs\":[],\"payable\":false,\"stateMutability\":\"nonpayable\",\"type\":\"function\"}];\n",
    "var addr = \"0x3FA215310652C210aa6b6ade444E6d8A95Ea8258\";\n",
    "var counter = new web3.eth.Contract(abi,addr);\n",
    "\n",
    "//counter.methods.getCounter().call().then(function(str) {console.log(str);});\n",
    "counter.methods.start().send({from:\"0x8e71085ffefccb88a4b54d4c93a866db7928a486\",gas:100000});\n",
    "counter.methods.add().send({from:\"0x8e71085ffefccb88a4b54d4c93a866db7928a486\",gas:100000});\n",
    "counter.methods.add().send({from:\"0x8e71085ffefccb88a4b54d4c93a866db7928a486\",gas:100000});\n",
    "counter.methods.add().send({from:\"0x8e71085ffefccb88a4b54d4c93a866db7928a486\",gas:100000});\n",
    "counter.methods.getCounter().call().then(function(str) {console.log(\"counter:\",str);});\n",
    "counter.methods.timePassed().call().then(function(value) {console.log(\"timePassed:\",value);});"
   ]
  },
  {
   "cell_type": "markdown",
   "metadata": {},
   "source": [
    "addr: 위에서 얻은 주소  \n",
    "from: geth 계정 주소"
   ]
  },
  {
   "cell_type": "code",
   "execution_count": 68,
   "metadata": {},
   "outputs": [
    {
     "name": "stdout",
     "output_type": "stream",
     "text": [
      "counter: 0\n",
      "timePassed: 1589205837\n"
     ]
    }
   ],
   "source": [
    "!node src/counterNtimerUse.js"
   ]
  },
  {
   "cell_type": "code",
   "execution_count": 69,
   "metadata": {},
   "outputs": [
    {
     "name": "stdout",
     "output_type": "stream",
     "text": [
      "counter: 3\n",
      "timePassed: 1\n"
     ]
    }
   ],
   "source": [
    "!node src/counterNtimerUse.js"
   ]
  },
  {
   "cell_type": "code",
   "execution_count": 27,
   "metadata": {},
   "outputs": [
    {
     "name": "stdout",
     "output_type": "stream",
     "text": [
      "counter: 9\n",
      "timePassed: 5538\n"
     ]
    }
   ],
   "source": [
    "!node src/counterNtimerUse.js"
   ]
  },
  {
   "cell_type": "code",
   "execution_count": 28,
   "metadata": {},
   "outputs": [
    {
     "name": "stdout",
     "output_type": "stream",
     "text": [
      "counter: 12\n",
      "timePassed: 0\n"
     ]
    }
   ],
   "source": [
    "!node src/counterNtimerUse.js"
   ]
  },
  {
   "cell_type": "code",
   "execution_count": 29,
   "metadata": {},
   "outputs": [
    {
     "name": "stdout",
     "output_type": "stream",
     "text": [
      "timePassed: 1\n",
      "counter: 15\n"
     ]
    }
   ],
   "source": [
    "!node src/counterNtimerUse.js"
   ]
  },
  {
   "cell_type": "code",
   "execution_count": 30,
   "metadata": {},
   "outputs": [
    {
     "name": "stdout",
     "output_type": "stream",
     "text": [
      "counter: 18\n",
      "timePassed: 0\n"
     ]
    }
   ],
   "source": [
    "!node src/counterNtimerUse.js"
   ]
  },
  {
   "cell_type": "code",
   "execution_count": 31,
   "metadata": {},
   "outputs": [
    {
     "name": "stdout",
     "output_type": "stream",
     "text": [
      "counter: 21\n",
      "timePassed: 0\n"
     ]
    }
   ],
   "source": [
    "!node src/counterNtimerUse.js"
   ]
  },
  {
   "cell_type": "code",
   "execution_count": 32,
   "metadata": {},
   "outputs": [
    {
     "name": "stdout",
     "output_type": "stream",
     "text": [
      "counter: 24\n",
      "timePassed: 1\n"
     ]
    }
   ],
   "source": [
    "!node src/counterNtimerUse.js"
   ]
  },
  {
   "cell_type": "code",
   "execution_count": 33,
   "metadata": {},
   "outputs": [
    {
     "name": "stdout",
     "output_type": "stream",
     "text": [
      "counter: 27\n",
      "timePassed: 0\n"
     ]
    }
   ],
   "source": [
    "!node src/counterNtimerUse.js"
   ]
  },
  {
   "cell_type": "code",
   "execution_count": null,
   "metadata": {},
   "outputs": [],
   "source": []
  },
  {
   "cell_type": "code",
   "execution_count": null,
   "metadata": {},
   "outputs": [],
   "source": []
  },
  {
   "cell_type": "code",
   "execution_count": null,
   "metadata": {},
   "outputs": [],
   "source": []
  },
  {
   "cell_type": "code",
   "execution_count": null,
   "metadata": {},
   "outputs": [],
   "source": []
  },
  {
   "cell_type": "code",
   "execution_count": 2,
   "metadata": {},
   "outputs": [
    {
     "name": "stdout",
     "output_type": "stream",
     "text": [
      "Overwriting src/counterNtimerGeth.sol\n"
     ]
    }
   ],
   "source": [
    "%%writefile src/counterNtimerGeth.sol\n",
    "pragma solidity 0.4.25;\n",
    "contract counterNtimer {\n",
    "    \n",
    "    uint256 startTime;\n",
    "    uint256 counter = 0;\n",
    "    function start() public {\n",
    "        startTime=now;\n",
    "    }\n",
    "    function timePassed() public view returns(uint256) {\n",
    "        return now-startTime;\n",
    "    }\n",
    "    function getNow() view public returns(uint) {\n",
    "        return now;\n",
    "    }\n",
    "    \n",
    "    function add() public {\n",
    "        counter++;\n",
    "    }\n",
    "    function subtract() public {\n",
    "        counter--;\n",
    "    }\n",
    "    function getCounter() public view returns (uint256) {\n",
    "        return counter;\n",
    "    }\n",
    "}"
   ]
  },
  {
   "cell_type": "code",
   "execution_count": 3,
   "metadata": {},
   "outputs": [
    {
     "name": "stdout",
     "output_type": "stream",
     "text": [
      "\n",
      "======= src/counterNtimerGeth.sol:counterNtimer =======\n",
      "Gas estimation:\n",
      "construction:\n",
      "   5141 + 89200 = 94341\n",
      "external:\n",
      "   add():\t20370\n",
      "   getCounter():\t446\n",
      "   getNow():\t289\n",
      "   start():\t20256\n",
      "   subtract():\t20395\n",
      "   timePassed():\t473\n",
      "Binary: \n",
      "6080604052600060015534801561001557600080fd5b506101be806100256000396000f300608060405260043610610078576000357c0100000000000000000000000000000000000000000000000000000000900463ffffffff1680634f2be91f1461007d5780636deebae3146100945780638ada066e146100ab578063b4454253146100d6578063bbe4fd5014610101578063be9a65551461012c575b600080fd5b34801561008957600080fd5b50610092610143565b005b3480156100a057600080fd5b506100a9610157565b005b3480156100b757600080fd5b506100c061016c565b6040518082815260200191505060405180910390f35b3480156100e257600080fd5b506100eb610176565b6040518082815260200191505060405180910390f35b34801561010d57600080fd5b50610116610181565b6040518082815260200191505060405180910390f35b34801561013857600080fd5b50610141610189565b005b600160008154809291906001019190505550565b60016000815480929190600190039190505550565b6000600154905090565b600080544203905090565b600042905090565b426000819055505600a165627a7a72305820955385ffdcc715221a761580aad7b5615277fb9967129547e0af1ee67a425e230029\n",
      "Contract JSON ABI \n",
      "[{\"constant\":false,\"inputs\":[],\"name\":\"add\",\"outputs\":[],\"payable\":false,\"stateMutability\":\"nonpayable\",\"type\":\"function\"},{\"constant\":false,\"inputs\":[],\"name\":\"subtract\",\"outputs\":[],\"payable\":false,\"stateMutability\":\"nonpayable\",\"type\":\"function\"},{\"constant\":true,\"inputs\":[],\"name\":\"getCounter\",\"outputs\":[{\"name\":\"\",\"type\":\"uint256\"}],\"payable\":false,\"stateMutability\":\"view\",\"type\":\"function\"},{\"constant\":true,\"inputs\":[],\"name\":\"timePassed\",\"outputs\":[{\"name\":\"\",\"type\":\"uint256\"}],\"payable\":false,\"stateMutability\":\"view\",\"type\":\"function\"},{\"constant\":true,\"inputs\":[],\"name\":\"getNow\",\"outputs\":[{\"name\":\"\",\"type\":\"uint256\"}],\"payable\":false,\"stateMutability\":\"view\",\"type\":\"function\"},{\"constant\":false,\"inputs\":[],\"name\":\"start\",\"outputs\":[],\"payable\":false,\"stateMutability\":\"nonpayable\",\"type\":\"function\"}]\n"
     ]
    }
   ],
   "source": [
    "##abi, binary, gas 출력\n",
    "!solc --abi --bin --gas src/counterNtimerGeth.sol"
   ]
  },
  {
   "cell_type": "code",
   "execution_count": 4,
   "metadata": {},
   "outputs": [],
   "source": [
    "!echo | set /p=\"exports._compiled=\" >src\\counterNtimerGeth.js\n",
    "!solc --optimize --combined-json abi,bin,interface src/counterNtimerGeth.sol>>src\\counterNtimerGeth.js"
   ]
  },
  {
   "cell_type": "code",
   "execution_count": 5,
   "metadata": {},
   "outputs": [
    {
     "name": "stdout",
     "output_type": "stream",
     "text": [
      "exports._compiled={\"contracts\":{\"src/counterNtimerGeth.sol:counterNtimer\":{\"abi\":\"[{\\\"constant\\\":false,\\\"inputs\\\":[],\\\"name\\\":\\\"add\\\",\\\"outputs\\\":[],\\\"payable\\\":false,\\\"stateMutability\\\":\\\"nonpayable\\\",\\\"type\\\":\\\"function\\\"},{\\\"constant\\\":false,\\\"inputs\\\":[],\\\"name\\\":\\\"subtract\\\",\\\"outputs\\\":[],\\\"payable\\\":false,\\\"stateMutability\\\":\\\"nonpayable\\\",\\\"type\\\":\\\"function\\\"},{\\\"constant\\\":true,\\\"inputs\\\":[],\\\"name\\\":\\\"getCounter\\\",\\\"outputs\\\":[{\\\"name\\\":\\\"\\\",\\\"type\\\":\\\"uint256\\\"}],\\\"payable\\\":false,\\\"stateMutability\\\":\\\"view\\\",\\\"type\\\":\\\"function\\\"},{\\\"constant\\\":true,\\\"inputs\\\":[],\\\"name\\\":\\\"timePassed\\\",\\\"outputs\\\":[{\\\"name\\\":\\\"\\\",\\\"type\\\":\\\"uint256\\\"}],\\\"payable\\\":false,\\\"stateMutability\\\":\\\"view\\\",\\\"type\\\":\\\"function\\\"},{\\\"constant\\\":true,\\\"inputs\\\":[],\\\"name\\\":\\\"getNow\\\",\\\"outputs\\\":[{\\\"name\\\":\\\"\\\",\\\"type\\\":\\\"uint256\\\"}],\\\"payable\\\":false,\\\"stateMutability\\\":\\\"view\\\",\\\"type\\\":\\\"function\\\"},{\\\"constant\\\":false,\\\"inputs\\\":[],\\\"name\\\":\\\"start\\\",\\\"outputs\\\":[],\\\"payable\\\":false,\\\"stateMutability\\\":\\\"nonpayable\\\",\\\"type\\\":\\\"function\\\"}]\",\"bin\":\"6080604052600060015534801561001557600080fd5b50610168806100256000396000f3006080604052600436106100775763ffffffff7c01000000000000000000000000000000000000000000000000000000006000350416634f2be91f811461007c5780636deebae3146100935780638ada066e146100a8578063b4454253146100cf578063bbe4fd50146100e4578063be9a6555146100f9575b600080fd5b34801561008857600080fd5b5061009161010e565b005b34801561009f57600080fd5b50610091610118565b3480156100b457600080fd5b506100bd610124565b60408051918252519081900360200190f35b3480156100db57600080fd5b506100bd61012a565b3480156100f057600080fd5b506100bd610132565b34801561010557600080fd5b50610091610136565b6001805481019055565b60018054600019019055565b60015490565b600054420390565b4290565b426000555600a165627a7a72305820f1d2bc21fd90db9df5156f704aae0a54d3db714ac2d865ba7c3266d9689d10780029\"}},\"version\":\"0.4.25+commit.59dbf8f1.Windows.msvc\"}\n"
     ]
    }
   ],
   "source": [
    "!type src\\counterNtimerGeth.js"
   ]
  },
  {
   "cell_type": "markdown",
   "metadata": {},
   "source": [
    "잘 들어갔다.\n",
    "\n",
    "### 배포하기"
   ]
  },
  {
   "cell_type": "code",
   "execution_count": 6,
   "metadata": {},
   "outputs": [],
   "source": [
    "!echo | set /p=\"var _compiled=\" >src\\counterNtimerGeth.js\n",
    "!solc --optimize --combined-json abi,bin,interface src\\counterNtimerGeth.sol>>src\\counterNtimerGeth.js"
   ]
  },
  {
   "cell_type": "code",
   "execution_count": 7,
   "metadata": {},
   "outputs": [
    {
     "name": "stdout",
     "output_type": "stream",
     "text": [
      "Overwriting src/counterNtimerDeployGeth.js\n"
     ]
    }
   ],
   "source": [
    "%%writefile src/counterNtimerDeployGeth.js\n",
    "var primary=eth.accounts[0];        //var Web3=require('web3');//var web3;\n",
    "loadScript('src/counterNtimerGeth.js')\n",
    "contractName=Object.keys(_compiled.contracts)\n",
    "_abi=JSON.parse(_compiled.contracts[contractName[0]].abi)   //abi\n",
    "_code=_compiled.contracts[contractName[0]].bin              //bin\n",
    "_class=eth.contract(_abi);\n",
    "console.log('bin code: ', _code)\n",
    "_object=_class.new({from:primary,data:'0x'+_code,gas:1000000}, function(err, contract) {\n",
    "  if (!err && contract.address)\n",
    "    console.log(\"contractAddress: \", contract.address);\n",
    "    console.log(\"transactionHash: \", contract.transactionHash);\n",
    "});"
   ]
  },
  {
   "cell_type": "code",
   "execution_count": 19,
   "metadata": {},
   "outputs": [
    {
     "name": "stdout",
     "output_type": "stream",
     "text": [
      "bin code:  6080604052600060015534801561001557600080fd5b50610168806100256000396000f3006080604052600436106100775763ffffffff7c01000000000000000000000000000000000000000000000000000000006000350416634f2be91f811461007c5780636deebae3146100935780638ada066e146100a8578063b4454253146100cf578063bbe4fd50146100e4578063be9a6555146100f9575b600080fd5b34801561008857600080fd5b5061009161010e565b005b34801561009f57600080fd5b50610091610118565b3480156100b457600080fd5b506100bd610124565b60408051918252519081900360200190f35b3480156100db57600080fd5b506100bd61012a565b3480156100f057600080fd5b506100bd610132565b34801561010557600080fd5b50610091610136565b6001805481019055565b60018054600019019055565b60015490565b600054420390565b4290565b426000555600a165627a7a72305820d0f010bcf3bc8e3f87d3f7097d7e48f5f1df532c7c171dcd16f34941880e85ea0029\n",
      "transactionHash:  0x151c0f5217960652bc91e46b39cf607f6951a311edf345255fead1bce0f54bb6\n",
      "true\n"
     ]
    }
   ],
   "source": [
    "!geth --exec \"loadScript('src/counterNtimerDeployGeth.js')\" attach http://localhost:8445"
   ]
  },
  {
   "cell_type": "code",
   "execution_count": 21,
   "metadata": {},
   "outputs": [
    {
     "name": "stdout",
     "output_type": "stream",
     "text": [
      "{\n",
      "  blockHash: \"0x0ff35f4e8c1eeaa8caf38f42753e74bbccfb94070ec0076b4df29fa1fdbdc489\",\n",
      "  blockNumber: 89,\n",
      "  contractAddress: \"0x953431339fd6c5c07336595daf6c1f9e9c836fdf\",\n",
      "  cumulativeGasUsed: 305674,\n",
      "  from: \"0x8e71085ffefccb88a4b54d4c93a866db7928a486\",\n",
      "  gasUsed: 152837,\n",
      "  logs: [],\n",
      "  logsBloom: \"0x00000000000000000000000000000000000000000000000000000000000000000000000000000000000000000000000000000000000000000000000000000000000000000000000000000000000000000000000000000000000000000000000000000000000000000000000000000000000000000000000000000000000000000000000000000000000000000000000000000000000000000000000000000000000000000000000000000000000000000000000000000000000000000000000000000000000000000000000000000000000000000000000000000000000000000000000000000000000000000000000000000000000000000000000000000000\",\n",
      "  root: \"0x114f3f0fae70e6e1f38f300bacc949875c0a8ec5535a378053938367c39bbc8f\",\n",
      "  to: null,\n",
      "  transactionHash: \"0x151c0f5217960652bc91e46b39cf607f6951a311edf345255fead1bce0f54bb6\",\n",
      "  transactionIndex: 1\n",
      "}\n"
     ]
    }
   ],
   "source": [
    "!geth --exec \"eth.getTransactionReceipt('0x151c0f5217960652bc91e46b39cf607f6951a311edf345255fead1bce0f54bb6')\" attach http://localhost:8445"
   ]
  },
  {
   "cell_type": "markdown",
   "metadata": {},
   "source": [
    "위에거 계속 null 나오면 mining 하고 다시 해보기!!"
   ]
  },
  {
   "cell_type": "markdown",
   "metadata": {},
   "source": [
    "### 사용하기"
   ]
  },
  {
   "cell_type": "code",
   "execution_count": 29,
   "metadata": {},
   "outputs": [
    {
     "name": "stdout",
     "output_type": "stream",
     "text": [
      "Overwriting src/counterNtimerUseGeth.js\n"
     ]
    }
   ],
   "source": [
    "%%writefile src/counterNtimerUseGeth.js\n",
    "loadScript('src/counterNtimerGeth.js')\n",
    "contractName=Object.keys(_compiled.contracts)\n",
    "_abi=JSON.parse(_compiled.contracts[contractName[0]].abi)\n",
    "var _contract=eth.contract(_abi);\n",
    "var _address=\"0x953431339fd6c5c07336595daf6c1f9e9c836fdf\";\n",
    "var _instance=eth.contract(_abi).at(_address);\n",
    "_instance.start.sendTransaction({from:eth.accounts[0]});\n",
    "_instance.add.sendTransaction({from:eth.accounts[0]});\n",
    "_instance.add.sendTransaction({from:eth.accounts[0]});\n",
    "_instance.add.sendTransaction({from:eth.accounts[0]});\n",
    "miner.start(1);admin.sleepBlocks(1);miner.stop();\n",
    "miner.start(1);admin.sleepBlocks(1);miner.stop();\n",
    "miner.start(1);admin.sleepBlocks(1);miner.stop(); //시간이 너무 안나와서 추가함\n",
    "console.log('counter: ', _instance.getCounter.call());\n",
    "console.log('timePassed:', _instance.timePassed.call());\n",
    "miner.start(1);admin.sleepBlocks(1);miner.stop();"
   ]
  },
  {
   "cell_type": "markdown",
   "metadata": {},
   "source": [
    "address에 위에서 나온 contractAddress들어가기"
   ]
  },
  {
   "cell_type": "code",
   "execution_count": 23,
   "metadata": {},
   "outputs": [
    {
     "name": "stdout",
     "output_type": "stream",
     "text": [
      "counter:  0\n",
      "timePassed: 1589244894\n",
      "true\n"
     ]
    }
   ],
   "source": [
    "!geth --exec \"loadScript('src/counterNtimerUseGeth.js')\" attach http://localhost:8445"
   ]
  },
  {
   "cell_type": "code",
   "execution_count": 24,
   "metadata": {},
   "outputs": [
    {
     "name": "stdout",
     "output_type": "stream",
     "text": [
      "counter:  3\n",
      "timePassed: 0\n",
      "true\n"
     ]
    }
   ],
   "source": [
    "!geth --exec \"loadScript('src/counterNtimerUseGeth.js')\" attach http://localhost:8445"
   ]
  },
  {
   "cell_type": "code",
   "execution_count": 25,
   "metadata": {},
   "outputs": [
    {
     "name": "stdout",
     "output_type": "stream",
     "text": [
      "counter:  6\n",
      "timePassed: 0\n",
      "true\n"
     ]
    }
   ],
   "source": [
    "!geth --exec \"loadScript('src/counterNtimerUseGeth.js')\" attach http://localhost:8445"
   ]
  },
  {
   "cell_type": "code",
   "execution_count": 26,
   "metadata": {},
   "outputs": [
    {
     "name": "stdout",
     "output_type": "stream",
     "text": [
      "counter:  9\n",
      "timePassed: 0\n",
      "true\n"
     ]
    }
   ],
   "source": [
    "!geth --exec \"loadScript('src/counterNtimerUseGeth.js')\" attach http://localhost:8445"
   ]
  },
  {
   "cell_type": "code",
   "execution_count": 27,
   "metadata": {},
   "outputs": [
    {
     "name": "stdout",
     "output_type": "stream",
     "text": [
      "counter:  12\n",
      "timePassed: 0\n",
      "true\n"
     ]
    }
   ],
   "source": [
    "!geth --exec \"loadScript('src/counterNtimerUseGeth.js')\" attach http://localhost:8445"
   ]
  },
  {
   "cell_type": "code",
   "execution_count": 28,
   "metadata": {},
   "outputs": [
    {
     "name": "stdout",
     "output_type": "stream",
     "text": [
      "counter:  15\n",
      "timePassed: 1\n",
      "true\n"
     ]
    }
   ],
   "source": [
    "!geth --exec \"loadScript('src/counterNtimerUseGeth.js')\" attach http://localhost:8445"
   ]
  },
  {
   "cell_type": "code",
   "execution_count": 30,
   "metadata": {},
   "outputs": [
    {
     "name": "stdout",
     "output_type": "stream",
     "text": [
      "counter:  21\n",
      "timePassed: 10\n",
      "true\n"
     ]
    }
   ],
   "source": [
    "## 시간이 너무 안나와서 마이닝 하는 걸 추가함\n",
    "!geth --exec \"loadScript('src/counterNtimerUseGeth.js')\" attach http://localhost:8445"
   ]
  },
  {
   "cell_type": "code",
   "execution_count": 31,
   "metadata": {},
   "outputs": [
    {
     "name": "stdout",
     "output_type": "stream",
     "text": [
      "counter:  24\n",
      "timePassed: 4\n",
      "true\n"
     ]
    }
   ],
   "source": [
    "!geth --exec \"loadScript('src/counterNtimerUseGeth.js')\" attach http://localhost:8445"
   ]
  },
  {
   "cell_type": "code",
   "execution_count": null,
   "metadata": {},
   "outputs": [],
   "source": []
  }
 ],
 "metadata": {
  "kernelspec": {
   "display_name": "Python 3",
   "language": "python",
   "name": "python3"
  },
  "language_info": {
   "codemirror_mode": {
    "name": "ipython",
    "version": 3
   },
   "file_extension": ".py",
   "mimetype": "text/x-python",
   "name": "python",
   "nbconvert_exporter": "python",
   "pygments_lexer": "ipython3",
   "version": "3.7.3"
  }
 },
 "nbformat": 4,
 "nbformat_minor": 2
}
