{
 "cells": [
  {
   "cell_type": "markdown",
   "metadata": {},
   "source": [
    "## 연습문제 1 \n",
    "\n",
    "다음 4건의 데이터에 대해 Merkle Root 값을 계산하고 출력하세요.\n",
    "\n",
    "중간 노드의 AB, CD의 해시도 출력하세요.\n",
    "\n",
    "* txA = 'Hello'\n",
    "\n",
    "* txB = 'How are you?'\n",
    "\n",
    "* txC = 'This is Thursday'\n",
    "\n",
    "* txD = 'Happy new Year'"
   ]
  },
  {
   "cell_type": "code",
   "execution_count": 1,
   "metadata": {},
   "outputs": [],
   "source": [
    "import hashlib\n",
    "\n",
    "nonce=1\n",
    "txA = 'Hello'.encode()\n",
    "txB = 'How are you?'.encode()\n",
    "txC = 'This is Thursday'.encode()\n",
    "txD = 'Happy new Year'.encode()"
   ]
  },
  {
   "cell_type": "code",
   "execution_count": 2,
   "metadata": {},
   "outputs": [],
   "source": [
    "##hash\n",
    "hashA=hashlib.sha256(txA)\n",
    "hashB=hashlib.sha256(txB)\n",
    "hashC=hashlib.sha256(txC)\n",
    "hashD=hashlib.sha256(txD)"
   ]
  },
  {
   "cell_type": "code",
   "execution_count": 3,
   "metadata": {},
   "outputs": [
    {
     "data": {
      "text/plain": [
       "'185f8db32271fe25f561a6fc938b2e264306ec304eda518007d1764826381969'"
      ]
     },
     "execution_count": 3,
     "metadata": {},
     "output_type": "execute_result"
    }
   ],
   "source": [
    "hashA.hexdigest()"
   ]
  },
  {
   "cell_type": "code",
   "execution_count": 4,
   "metadata": {},
   "outputs": [
    {
     "data": {
      "text/plain": [
       "'df287dfc1406ed2b692e1c2c783bb5cec97eac53151ee1d9810397aa0afa0d89'"
      ]
     },
     "execution_count": 4,
     "metadata": {},
     "output_type": "execute_result"
    }
   ],
   "source": [
    "hashB.hexdigest()"
   ]
  },
  {
   "cell_type": "code",
   "execution_count": 5,
   "metadata": {},
   "outputs": [],
   "source": [
    "hashAswap=\"\".join(reversed([hashA.hexdigest()[i:i+2] for i in range(0, hashA.digest_size*2, 2)]))"
   ]
  },
  {
   "cell_type": "code",
   "execution_count": 6,
   "metadata": {},
   "outputs": [],
   "source": [
    "hashBswap=\"\".join(reversed([hashB.hexdigest()[i:i+2] for i in range(0, hashB.digest_size*2, 2)]))"
   ]
  },
  {
   "cell_type": "code",
   "execution_count": 7,
   "metadata": {},
   "outputs": [
    {
     "name": "stdout",
     "output_type": "stream",
     "text": [
      "hashAswap:  691938264876d1078051da4e30ec0643262e8b93fca661f525fe7122b38d5f18 \n",
      "hashBswap:  890dfa0aaa970381d9e11e1553ac7ec9ceb53b782c1c2e692bed0614fc7d28df\n"
     ]
    }
   ],
   "source": [
    "print(\"hashAswap: \", hashAswap, \"\\nhashBswap: \",hashBswap)"
   ]
  },
  {
   "cell_type": "code",
   "execution_count": 8,
   "metadata": {},
   "outputs": [
    {
     "name": "stdout",
     "output_type": "stream",
     "text": [
      "hashAB:  a7dca36b1e6fe56e1d7bc34fe56ceea8ab64f47a55e929b712fab58885dcdc37\n"
     ]
    }
   ],
   "source": [
    "hashAB=hashAswap+hashBswap\n",
    "doubleHashAB=hashlib.sha256(hashAB.encode()).hexdigest() ##16진수로, 문자열\n",
    "print('hashAB: ', doubleHashAB)"
   ]
  },
  {
   "cell_type": "code",
   "execution_count": 9,
   "metadata": {},
   "outputs": [
    {
     "data": {
      "text/plain": [
       "'0d1e99a735b8d38f73e4639a2cf3ff6e612a137ed9c7895529eee71cccb3063b'"
      ]
     },
     "execution_count": 9,
     "metadata": {},
     "output_type": "execute_result"
    }
   ],
   "source": [
    "hashC.hexdigest()"
   ]
  },
  {
   "cell_type": "code",
   "execution_count": 10,
   "metadata": {},
   "outputs": [
    {
     "data": {
      "text/plain": [
       "'127b4bccb4a3122b7112140a8257e38677a959b8f9355dc3cd3b8d1fc078852f'"
      ]
     },
     "execution_count": 10,
     "metadata": {},
     "output_type": "execute_result"
    }
   ],
   "source": [
    "hashD.hexdigest()"
   ]
  },
  {
   "cell_type": "code",
   "execution_count": 11,
   "metadata": {},
   "outputs": [],
   "source": [
    "hashCswap=\"\".join(reversed([hashC.hexdigest()[i:i+2] for i in range(0, hashC.digest_size*2, 2)]))"
   ]
  },
  {
   "cell_type": "code",
   "execution_count": 12,
   "metadata": {},
   "outputs": [],
   "source": [
    "hashDswap=\"\".join(reversed([hashD.hexdigest()[i:i+2] for i in range(0, hashD.digest_size*2, 2)]))"
   ]
  },
  {
   "cell_type": "code",
   "execution_count": 13,
   "metadata": {},
   "outputs": [
    {
     "name": "stdout",
     "output_type": "stream",
     "text": [
      "hashCswap:  3b06b3cc1ce7ee295589c7d97e132a616efff32c9a63e4738fd3b835a7991e0d \n",
      "hashDswap:  2f8578c01f8d3bcdc35d35f9b859a97786e357820a1412712b12a3b4cc4b7b12\n"
     ]
    }
   ],
   "source": [
    "print(\"hashCswap: \", hashCswap, \"\\nhashDswap: \",hashDswap)"
   ]
  },
  {
   "cell_type": "code",
   "execution_count": 14,
   "metadata": {
    "scrolled": true
   },
   "outputs": [
    {
     "name": "stdout",
     "output_type": "stream",
     "text": [
      "hashCD:  15524f5c1b536c2fe0f717fd8b1bbede37f94654fae6f47c20521ce476c8e0b2\n"
     ]
    }
   ],
   "source": [
    "hashCD=hashCswap+hashDswap\n",
    "doubleHashCD=hashlib.sha256(hashCD.encode()).hexdigest()\n",
    "print('hashCD: ', doubleHashCD)"
   ]
  },
  {
   "cell_type": "markdown",
   "metadata": {},
   "source": [
    "#### AB+CD"
   ]
  },
  {
   "cell_type": "code",
   "execution_count": 15,
   "metadata": {},
   "outputs": [],
   "source": [
    "hashABswap=\"\".join(reversed([doubleHashAB[i:i+2] for i in range(0, len(doubleHashAB)*2, 2)]))"
   ]
  },
  {
   "cell_type": "code",
   "execution_count": 16,
   "metadata": {},
   "outputs": [],
   "source": [
    "hashCDswap=\"\".join(reversed([doubleHashCD[i:i+2] for i in range(0, len(doubleHashCD)*2, 2)]))"
   ]
  },
  {
   "cell_type": "code",
   "execution_count": 17,
   "metadata": {},
   "outputs": [
    {
     "name": "stdout",
     "output_type": "stream",
     "text": [
      "hashABswap:  37dcdc8588b5fa12b729e9557af464aba8ee6ce54fc37b1d6ee56f1e6ba3dca7 \n",
      "hashCDswap:  b2e0c876e41c52207cf4e6fa5446f937debe1b8bfd17f7e02f6c531b5c4f5215\n"
     ]
    }
   ],
   "source": [
    "print(\"hashABswap: \", hashABswap, \"\\nhashCDswap: \",hashCDswap)"
   ]
  },
  {
   "cell_type": "code",
   "execution_count": 18,
   "metadata": {
    "scrolled": true
   },
   "outputs": [
    {
     "name": "stdout",
     "output_type": "stream",
     "text": [
      "hashABCD:  00aa61af726d4cd0d5a5e0d2e3e3280552acb6d587c15413a713b7a96275cefc\n"
     ]
    }
   ],
   "source": [
    "hashABCD=hashABswap+hashCDswap\n",
    "doubleHashABCD=hashlib.sha256(hashABCD.encode()).hexdigest()\n",
    "print('hashABCD: ', doubleHashABCD)"
   ]
  },
  {
   "cell_type": "markdown",
   "metadata": {},
   "source": [
    "## 연습문제 2\n",
    "\n",
    "친구에게  주소를 구하고, 그 주소로 송금해 보자. 송금이 되지 않으면 왜 안되는지 이유를 알아보자.\n",
    "\n",
    "안되면 친구의 주소를 만들고 전송한다.\n",
    "\n",
    "잔고의 증가분을 출력하세요.\n",
    "\n",
    "소요된 gas비용 출력하세요."
   ]
  },
  {
   "cell_type": "code",
   "execution_count": 19,
   "metadata": {},
   "outputs": [
    {
     "name": "stdout",
     "output_type": "stream",
     "text": [
      "\"0x8e71085ffefccb88a4b54d4c93a866db7928a486\"\n"
     ]
    }
   ],
   "source": [
    "##내꺼 coinbase 확인\n",
    "!geth --exec eth.coinbase attach http://localhost:8445"
   ]
  },
  {
   "cell_type": "code",
   "execution_count": 20,
   "metadata": {},
   "outputs": [
    {
     "name": "stdout",
     "output_type": "stream",
     "text": [
      "150000\n"
     ]
    }
   ],
   "source": [
    "##친구 계정\n",
    "!geth --exec \"eth.getBalance('0x52cadd19f40f5f5f544f33fde2f8fc118862e4f9');\" attach http://localhost:8445"
   ]
  },
  {
   "cell_type": "code",
   "execution_count": 21,
   "metadata": {},
   "outputs": [
    {
     "name": "stdout",
     "output_type": "stream",
     "text": [
      "Overwriting src/e_testTran2.js\n"
     ]
    }
   ],
   "source": [
    "%%writefile src/e_testTran2.js\n",
    "var hqaccount=\"0x52cadd19f40f5f5f544f33fde2f8fc118862e4f9\";\n",
    "console.log('hq account balance: ', eth.getBalance(hqaccount));\n",
    "console.log('my account balance: ', eth.getBalance(eth.coinbase));\n",
    "var ba1=eth.getBalance(hqaccount);\n",
    "console.log('block number: ', eth.blockNumber);\n",
    "var t=eth.sendTransaction({from:eth.accounts[0], to:hqaccount, value:10000});\n",
    "console.log('gas price',eth.gasPrice);\n",
    "console.log('transactionHash: ',t);\n",
    "console.log('...mining start');\n",
    "miner.start(1);admin.sleepBlocks(1);miner.stop();\n",
    "console.log('mining done...\\n');\n",
    "console.log('block number: ', eth.blockNumber);\n",
    "console.log('hq account balance: ', eth.getBalance(hqaccount));\n",
    "console.log('my account balance: ', eth.getBalance(eth.coinbase));\n",
    "var ba2=eth.getBalance(hqaccount);\n",
    "console.log('\\nincreased balance: ',ba2-ba1);\n",
    "console.log('gasUsed: ',eth.getTransactionReceipt(t).gasUsed);"
   ]
  },
  {
   "cell_type": "code",
   "execution_count": 22,
   "metadata": {
    "scrolled": true
   },
   "outputs": [
    {
     "name": "stdout",
     "output_type": "stream",
     "text": [
      "hq account balance:  150000\n",
      "my account balance:  189999999999999830000\n",
      "block number:  43\n",
      "gas price 1000000000\n",
      "transactionHash:  0xc0fbfdd596bf7c84d9b15174172d9b62c6a470f4f7426d88c5936b54b58b23b4\n",
      "...mining start\n",
      "mining done...\n",
      "\n",
      "block number:  45\n",
      "hq account balance:  160000\n",
      "my account balance:  199999999999999820000\n",
      "\n",
      "increased balance:  10000\n",
      "gasUsed:  21000\n",
      "true\n"
     ]
    }
   ],
   "source": [
    "!geth --exec \"loadScript('src/e_testTran2.js')\" attach http://localhost:8445"
   ]
  },
  {
   "cell_type": "markdown",
   "metadata": {},
   "source": [
    "## 연습문제 3\n",
    "\n",
    "해시는 100미만의 양수로 정해진다고 하자.\n",
    "\n",
    "NONCE는 반복회수로만 쓰이고 무작위 수를 생성하는데 입력되지는 않는다.\n",
    "\n",
    "목표해시는 난이도에 따라 결정이 된다고 하자.\n",
    "\n",
    "마이닝을 해서, 목표 해시를 찾아보자.\n",
    "\n",
    "- 90을 목표해시로 정하고 몇 회만에 마이닝에 성공하는지 출력\n",
    "\n",
    "- 10을 목표해시로 정하고 몇 회만에 마이닝에 성공하는지 출력\n",
    "\n",
    "### random 함수 도움말\n",
    "\n",
    "```random()```은 0~1사이의 무작위 수를 생성한다.\n",
    "\n",
    "이 함수에 100을 곱하면 0~100 사이의 수를 생성한다 (100은 제외).\n",
    "\n",
    "```print```문의 ```end```는 출력을 이어서 하게 만든다.\n",
    "\n",
    "from random import randint\n",
    "\n",
    "for i in range(1,20):\n",
    "\n",
    "    print(int(random.random()*100), end=\" \")\n",
    ">83 18 99 61 2 74 4 51 12 63 46 64 67 72 7 70 73 49 86 "
   ]
  },
  {
   "cell_type": "code",
   "execution_count": 25,
   "metadata": {
    "scrolled": true
   },
   "outputs": [
    {
     "name": "stdout",
     "output_type": "stream",
     "text": [
      "98 53 \n",
      "\n",
      "2회만에 마이닝 성공\n"
     ]
    }
   ],
   "source": [
    "##목표 90\n",
    "from random import randint\n",
    "import random\n",
    "import hashlib\n",
    "found=False\n",
    "NONCE=0\n",
    "data=int(random.random()*100)\n",
    "\n",
    "while found==False:\n",
    "    guessHash=int(random.random()*100)\n",
    "    print(guessHash,end=\" \")\n",
    "    if guessHash<90:\n",
    "        found=True\n",
    "    NONCE+=1\n",
    "    \n",
    "print(\"\\n\")\n",
    "print('%d회만에 마이닝 성공' % NONCE)"
   ]
  },
  {
   "cell_type": "code",
   "execution_count": 32,
   "metadata": {},
   "outputs": [
    {
     "name": "stdout",
     "output_type": "stream",
     "text": [
      "83 57 74 20 61 65 77 43 79 42 48 9 \n",
      "\n",
      "12회만에 마이닝 성공\n"
     ]
    }
   ],
   "source": [
    "##목표 10\n",
    "from random import randint\n",
    "import random\n",
    "import hashlib\n",
    "found=False\n",
    "NONCE=0\n",
    "data=int(random.random()*100)\n",
    "\n",
    "while found==False:\n",
    "    guessHash=int(random.random()*100)\n",
    "    print(guessHash,end=\" \")\n",
    "    if guessHash<10:\n",
    "        found=True\n",
    "    NONCE+=1\n",
    "    \n",
    "print(\"\\n\")\n",
    "print('%d회만에 마이닝 성공' % NONCE)"
   ]
  },
  {
   "cell_type": "code",
   "execution_count": null,
   "metadata": {},
   "outputs": [],
   "source": []
  },
  {
   "cell_type": "code",
   "execution_count": null,
   "metadata": {},
   "outputs": [],
   "source": []
  }
 ],
 "metadata": {
  "kernelspec": {
   "display_name": "Python 3",
   "language": "python",
   "name": "python3"
  },
  "language_info": {
   "codemirror_mode": {
    "name": "ipython",
    "version": 3
   },
   "file_extension": ".py",
   "mimetype": "text/x-python",
   "name": "python",
   "nbconvert_exporter": "python",
   "pygments_lexer": "ipython3",
   "version": "3.7.3"
  }
 },
 "nbformat": 4,
 "nbformat_minor": 2
}
